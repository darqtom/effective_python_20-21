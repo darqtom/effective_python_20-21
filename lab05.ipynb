{
 "cells": [
  {
   "cell_type": "markdown",
   "metadata": {},
   "source": [
    "## Lab 05"
   ]
  },
  {
   "cell_type": "markdown",
   "metadata": {},
   "source": [
    "#### Elementy programowania funkcyjnego\n",
    "Zaimplementuj poniższe funkcje tak, aby działały identycznie jak ich wbudowane opdowiedniki. Pamiętaj, że w Pythonie3 te funkcje zwracają generatory. W razie wątpliwości co do nietypowego zachowania tych funkcji odsyłam do <a href=\"https://docs.python.org/3/library/functions.html\">dokumentacji</a>."
   ]
  },
  {
   "cell_type": "markdown",
   "metadata": {},
   "source": [
    "## Zadanie 1"
   ]
  },
  {
   "cell_type": "code",
   "execution_count": 86,
   "metadata": {},
   "outputs": [
    {
     "name": "stdout",
     "output_type": "stream",
     "text": [
      "True\n",
      "True\n",
      "True\n",
      "True\n",
      "True\n"
     ]
    }
   ],
   "source": [
    "def _filter(func=None, iterable=[]):\n",
    "    \"\"\"Filtruje z iterable elementy, dla których funkcja func zwraca False zostawiając pozostałe\"\"\"\n",
    "    if func:\n",
    "        return (i for i in iterable if func(i))\n",
    "    return (i for i in iterable if i)\n",
    "\n",
    "from types import GeneratorType\n",
    "\n",
    "print(isinstance(_filter(), GeneratorType))\n",
    "print(list(filter(lambda x: x > 0, [0, -3, 1, 6])) == list(_filter(lambda x: x > 0, [0, -3, 1, 6])))\n",
    "print(list(filter(None, [2, -3, 1, 6])) == list(_filter(None, [2, -3, 1, 6])))\n",
    "print(list(filter(None, [True, False, False])) == list(_filter(None, [True, False, False])))\n",
    "print(list(filter(None, [0, -3, 1, 6])) == list(_filter(None, [0, -3, 1, 6])))"
   ]
  },
  {
   "cell_type": "markdown",
   "metadata": {},
   "source": [
    "## Zadanie 2"
   ]
  },
  {
   "cell_type": "code",
   "execution_count": 87,
   "metadata": {},
   "outputs": [
    {
     "name": "stdout",
     "output_type": "stream",
     "text": [
      "True\n",
      "True\n",
      "True\n"
     ]
    }
   ],
   "source": [
    "def _map(func, iterable, *args):\n",
    "    \"\"\"Mapuje elementy iterable na wartości fuknckji func\"\"\"\n",
    "    if func:\n",
    "        if iterable:\n",
    "            if args:\n",
    "                for x, y in zip(iterable, *args):\n",
    "                    yield func(x, y)\n",
    "            else:\n",
    "                for x in iterable:\n",
    "                    yield func(x)\n",
    "    elif iterable:\n",
    "            for x in iterable:\n",
    "                yield x\n",
    "\n",
    "\n",
    "from types import GeneratorType\n",
    "\n",
    "print(isinstance(_map(None, None), GeneratorType))\n",
    "print(list(map(lambda x: x.upper(), 'ala ma kota')) == list(_map(lambda x: x.upper(), 'ala ma kota')))\n",
    "print(list(map(lambda x,y: x+y, [1,2,3,4], [5,6,7,8])) == list(_map(lambda x,y: x+y, [1,2,3,4], [5,6,7,8])))"
   ]
  },
  {
   "cell_type": "markdown",
   "metadata": {},
   "source": [
    "## Zadanie 3"
   ]
  },
  {
   "cell_type": "markdown",
   "metadata": {},
   "source": [
    "Napisz poniższą funkcję korzystając wyłącznie z funkcji reduce, map i filter oraz lambd"
   ]
  },
  {
   "cell_type": "code",
   "execution_count": 88,
   "metadata": {},
   "outputs": [
    {
     "name": "stdout",
     "output_type": "stream",
     "text": [
      "True\n",
      "True\n"
     ]
    }
   ],
   "source": [
    "def reverse_nonpalindromes(words):\n",
    "    \"\"\"Zwraca listę odwróconych słowa które nie są palindromami. \n",
    "    Palindromy zostają pominięte\"\"\"\n",
    "    return list(map(lambda word: word[::-1], filter(lambda word: word[::-1] != word, words)))\n",
    "\n",
    "print(reverse_nonpalindromes([\"aa\", \"ab\"])==[\"ba\"])\n",
    "print(reverse_nonpalindromes([\"eht\", \"dog\", \"ala\"])==[\"the\", \"god\"])"
   ]
  },
  {
   "cell_type": "markdown",
   "metadata": {},
   "source": [
    "## Zadanie 4 "
   ]
  },
  {
   "cell_type": "markdown",
   "metadata": {},
   "source": [
    "Przepisz poniższą funkcję korzystając wyłącznie z funkcji reduce, map i filter oraz lambd"
   ]
  },
  {
   "cell_type": "code",
   "execution_count": 89,
   "metadata": {},
   "outputs": [
    {
     "name": "stdout",
     "output_type": "stream",
     "text": [
      "True\n",
      "True\n"
     ]
    }
   ],
   "source": [
    "from functools import reduce\n",
    "\n",
    "def squares_of_odds(values):\n",
    "    \"\"\"Zwraca sumę kwadratów nieparzystych liczb\"\"\"\n",
    "    return reduce(lambda a,b: a+b, map(lambda x: x**2, filter(lambda val: val % 2, values)))\n",
    "\n",
    "print(squares_of_odds([1,2,3,4,5,6])==35)\n",
    "print(squares_of_odds([10, 13, 5, 6])==194)"
   ]
  },
  {
   "cell_type": "markdown",
   "metadata": {},
   "source": [
    "## Zadanie 5"
   ]
  },
  {
   "cell_type": "markdown",
   "metadata": {},
   "source": [
    "Przepisz poniższą funkcję korzystając wyłącznie z funkcji reduce, map i filter oraz lambd"
   ]
  },
  {
   "cell_type": "code",
   "execution_count": 90,
   "metadata": {},
   "outputs": [
    {
     "name": "stdout",
     "output_type": "stream",
     "text": [
      "True\n",
      "True\n",
      "True\n",
      "True\n"
     ]
    }
   ],
   "source": [
    "def all_are_positive(numbers):\n",
    "    \"\"\"zwraca czy wszystkie liczby są dodatnie\"\"\"\n",
    "    return not reduce(lambda a,b: a+b, map(lambda num: num <= 0, numbers), 0)\n",
    "\n",
    "print(all_are_positive([])) #PS: tu sie im wykraczy bez inicjalizatora :)\n",
    "print(all_are_positive([1,2,3]))\n",
    "print(not all_are_positive([-1,2,3]))\n",
    "print(not all_are_positive([5,6,-2,1]))\n"
   ]
  },
  {
   "cell_type": "markdown",
   "metadata": {},
   "source": [
    "## Zadanie 6 "
   ]
  },
  {
   "cell_type": "markdown",
   "metadata": {},
   "source": [
    "Przepisz poniższą funkcję korzystając wyłącznie z funkcji reduce, map i filter oraz lambd"
   ]
  },
  {
   "cell_type": "code",
   "execution_count": 91,
   "metadata": {},
   "outputs": [
    {
     "name": "stdout",
     "output_type": "stream",
     "text": [
      "True\n",
      "True\n",
      "True\n"
     ]
    }
   ],
   "source": [
    "def flatten(lists):\n",
    "    return reduce(lambda a,b: a+b, lists)\n",
    "\n",
    "print(flatten([[]])==[])\n",
    "print(flatten([[1,2],[3,4]])==[1,2,3,4])\n",
    "print(flatten([[\"1\", 1.1],[]])==[\"1\", 1.1])"
   ]
  },
  {
   "cell_type": "markdown",
   "metadata": {},
   "source": [
    "-------"
   ]
  },
  {
   "cell_type": "markdown",
   "metadata": {},
   "source": [
    "#### Jednolinijkowce\n",
    "W poniższej serii zadań **nie** używaj list/dict/set comprehension, zamiast tego użyj paradygmatu funkcyjnego. Każde rozwiązanie powinno być jednolinijkowe."
   ]
  },
  {
   "cell_type": "markdown",
   "metadata": {},
   "source": [
    "## Zadanie 7"
   ]
  },
  {
   "cell_type": "code",
   "execution_count": 92,
   "metadata": {},
   "outputs": [
    {
     "name": "stdout",
     "output_type": "stream",
     "text": [
      "True\n",
      "True\n"
     ]
    }
   ],
   "source": [
    "def celsius_to_fahrenheit(x):\n",
    "    \"\"\"Konwertuje liste temperatur w stopniach Celsjusza do skali Fahrenheita\"\"\"\n",
    "    return list(map(lambda t: t * 1.8 + 32, x))\n",
    "    \n",
    "    pass\n",
    "\n",
    "print(list(celsius_to_fahrenheit([0, 10, 100])) == [32.0, 50.0, 212.0])\n",
    "print(list(celsius_to_fahrenheit([-123, 0])) == [-189.4, 32.0])"
   ]
  },
  {
   "cell_type": "markdown",
   "metadata": {},
   "source": [
    "## Zadanie 8 "
   ]
  },
  {
   "cell_type": "code",
   "execution_count": 93,
   "metadata": {},
   "outputs": [
    {
     "name": "stdout",
     "output_type": "stream",
     "text": [
      "True\n",
      "True\n",
      "True\n"
     ]
    }
   ],
   "source": [
    "from functools import reduce\n",
    "\n",
    "def product_greater_than(x, k=0):\n",
    "    \"\"\"Zwraca iloczyn liczb w liście x większych od k\"\"\"\n",
    "    return reduce(lambda a,b: a*b, filter(lambda l: l>k, x), 1)\n",
    "\n",
    "print(product_greater_than([1, 2, 3]) == 6)\n",
    "print(product_greater_than([1, 2, 3], 2) == 3)\n",
    "print(product_greater_than([-4, 5, 10, 23, 123], -5) == -565800)"
   ]
  },
  {
   "cell_type": "markdown",
   "metadata": {},
   "source": [
    "## Zadanie 9 "
   ]
  },
  {
   "cell_type": "code",
   "execution_count": 94,
   "metadata": {},
   "outputs": [
    {
     "name": "stdout",
     "output_type": "stream",
     "text": [
      "True\n",
      "True\n",
      "True\n"
     ]
    }
   ],
   "source": [
    "from functools import reduce\n",
    "\n",
    "def create_sentence(x, k=0):\n",
    "    \"\"\"Łączy słowa (o długości co najmniej k) z listy x w zdanie - nie używa reduce\"\"\"\n",
    "    return ' '.join(map(lambda x: x, filter(lambda x: len(x) >= k, x)))\n",
    "    \n",
    "print(create_sentence(['ala', 'ma', 'kota']) == 'ala ma kota')\n",
    "print(create_sentence(['ala']) == 'ala')\n",
    "print(create_sentence(['ala', 'ma', 'pieknego', 'kota'], k=3) == 'ala pieknego kota')"
   ]
  },
  {
   "cell_type": "markdown",
   "metadata": {},
   "source": [
    "## Zadanie 10"
   ]
  },
  {
   "cell_type": "code",
   "execution_count": 95,
   "metadata": {},
   "outputs": [
    {
     "name": "stdout",
     "output_type": "stream",
     "text": [
      "True\n",
      "True\n",
      "True\n",
      "True\n"
     ]
    }
   ],
   "source": [
    "def tuple_if_sum_greater(k, *lists):\n",
    "    \"\"\"Zwraca k-elementową krotke składającą się z kolejnych elementów list podanych jako arguemnty pozycyjne, \n",
    "       jeżeli ich suma jest większa niż parametr k\"\"\"\n",
    "    return filter(lambda x: sum(x) > k, list(zip(*lists)))\n",
    "\n",
    "print(list(tuple_if_sum_greater(0, [1,2,3])) == [(1,),(2,),(3,)])\n",
    "print(list(tuple_if_sum_greater(4, [1,2,3], [2,3,4])) == [(2,3),(3,4)])\n",
    "print(list(tuple_if_sum_greater(10, [1,2,3], [2,3,4])) == [])\n",
    "print(list(tuple_if_sum_greater(0, [1,2], [3,4], [5,6])) == [(1,3,5), (2,4,6)])"
   ]
  },
  {
   "cell_type": "markdown",
   "metadata": {},
   "source": [
    "## Zadanie 11"
   ]
  },
  {
   "cell_type": "code",
   "execution_count": 96,
   "metadata": {},
   "outputs": [
    {
     "name": "stdout",
     "output_type": "stream",
     "text": [
      "True\n",
      "True\n",
      "True\n"
     ]
    }
   ],
   "source": [
    "from math import sqrt\n",
    "\n",
    "def primes(N):\n",
    "    \"\"\"Zwraca zbiór liczb pierwszych od 0 do N włącznie\"\"\"\n",
    "    return set(filter(lambda n: not any(n % k == 0 and n > 2 for k in range(2, int(sqrt(n) + 1))), range(2, N + 1)))\n",
    "\n",
    "print(primes(5) == {2, 3, 5})\n",
    "print(primes(10) == {2, 3, 5, 7})\n",
    "print(primes(100) == {2, 3, 5, 7, 11, 13, 17, 19, 23, 29, 31, 37, 41,\n",
    "                      43, 47, 53, 59, 61, 67, 71, 73, 79, 83, 89, 97})"
   ]
  }
 ],
 "metadata": {
  "kernelspec": {
   "display_name": "Python 3",
   "language": "python",
   "name": "python3"
  },
  "language_info": {
   "codemirror_mode": {
    "name": "ipython",
    "version": 3
   },
   "file_extension": ".py",
   "mimetype": "text/x-python",
   "name": "python",
   "nbconvert_exporter": "python",
   "pygments_lexer": "ipython3",
   "version": "3.8.3"
  }
 },
 "nbformat": 4,
 "nbformat_minor": 2
}
