{
 "cells": [
  {
   "cell_type": "markdown",
   "metadata": {},
   "source": [
    "## Lab 10"
   ]
  },
  {
   "cell_type": "markdown",
   "metadata": {},
   "source": [
    "### Zadanie 1\n",
    "\n",
    "Korzystając z https://docs.djangoproject.com/en/1.10/topics/class-based-views/generic-editing/ przygotuj odpowiednie widoki umożliwiające dodawanie (widok dziedziczący po CreateView), aktualizację (widok dziedziczący po UpdateView) i usuwanie notatek (widok dziedziczący po DeleteView).\n",
    "\n",
    "- http://misztal.edu.pl/logs/django-pierwszy-projekt/\n",
    "- http://misztal.edu.pl/logs/django-pierwszy-projekt-cz-ii/\n",
    "- http://misztal.edu.pl/logs/django-pierwszy-projekt-cz-iii/\n",
    "- http://misztal.edu.pl/logs/listview-w-django/\n",
    "- http://misztal.edu.pl/logs/detailview-w-django/\n",
    "- http://misztal.edu.pl/logs/pagination-with-class-based-views/\n",
    "- http://misztal.edu.pl/logs/timestampedmodel-w-django-dzięki-django_extensions/\n",
    "\n",
    "\n",
    "### Zadanie 2\n",
    "\n",
    "Dodaj użytkownika (czyli pole np. created_by w modelu Note wskazujące na klucz obcy do  modelu User) - autora notatki - do modelu Note. Pamietaj o migracji bazy danych. \n",
    "\n",
    "###  Zadanie 3\n",
    "\n",
    "Zatroszcz się, aby tylko zalogowany użytkownik mógł dodawać notatki. Zapewnij, aby w momencie tworzenia notatki użytkowniek wypełniany był automatycznie.\n",
    "\n",
    "### Zadanie 4\n",
    "\n",
    "Wykorzystując klasę bazową UserPassesTestMixin zadbaj o to, aby tylko twórca mógł aktualizować notatkę oraz aby admin i twórca mogli je usuwać.\n",
    "\n",
    "### Zadanie 5\n",
    "\n",
    "Utwórz model Topic, który będzie reprezentował temat notatek. Wykorzystaj modele bazowe TitleSlugDescriptionModel oraz TimeStampedModel  z aplikacji django-extensions, którą musisz zainstalować.\n",
    "\n",
    "### Zadanie 6\n",
    "\n",
    "Zmień model Note tak aby dziedziczył po TimeStampedModel  z aplikacji django-extensions. Pamietaj o migracji bazy danych. \n",
    "\n",
    "### Zadanie 7\n",
    "\n",
    "Utwórz drzewiastą zależność dla tematów wykorzystujac aplikację django-mptt (dodatkowo zainstaluj również django-mptt-admin). Zobacz jak to działa w panelu administratora.\n",
    "\n",
    "### Zadanie 8\n",
    "\n",
    "Dodaj pole public do modelu Topic. Zadbaj o to, aby była możliwość edycji pola public z poziomu listy w panelu administratora wykorzystując list_editable w modelu administratora.\n",
    "\n",
    "### Zadanie 9\n",
    "\n",
    "Dodaj widoki listy, szczegółowy, tworzenia, aktualizacji i usuwania dla modelu Topic.\n",
    "\n",
    "### Zadanie 10\n",
    "\n",
    "Korzystając z https://github.com/BlackrockDigital/startbootstrap-simple-sidebar dopracuj wygląd strony, w szczególnosci szablony."
   ]
  },
  {
   "cell_type": "code",
   "execution_count": null,
   "metadata": {
    "collapsed": true
   },
   "outputs": [],
   "source": []
  }
 ],
 "metadata": {
  "kernelspec": {
   "display_name": "Python 3",
   "language": "python",
   "name": "python3"
  },
  "language_info": {
   "codemirror_mode": {
    "name": "ipython",
    "version": 3
   },
   "file_extension": ".py",
   "mimetype": "text/x-python",
   "name": "python",
   "nbconvert_exporter": "python",
   "pygments_lexer": "ipython3",
   "version": "3.6.4"
  }
 },
 "nbformat": 4,
 "nbformat_minor": 2
}
