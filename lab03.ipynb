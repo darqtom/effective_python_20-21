{
 "cells": [
  {
   "cell_type": "markdown",
   "metadata": {},
   "source": [
    "## Lab 03"
   ]
  },
  {
   "cell_type": "markdown",
   "metadata": {},
   "source": [
    "## Zadanie 1"
   ]
  },
  {
   "cell_type": "markdown",
   "metadata": {},
   "source": [
    "a) Napisz funkcję, która wypisuje wiadomość opcjonalnie wraz z podaną wartością"
   ]
  },
  {
   "cell_type": "code",
   "execution_count": null,
   "metadata": {},
   "outputs": [],
   "source": [
    "def log(...):\n",
    "    \" Wypisuje wiadomość opcjonalnie wraz z podaną wartością \"\n",
    "    pass\n",
    "\n",
    "log(\"Hello World!\") # Hello World!\n",
    "log(\"The value is\", 42) # The value is: 42"
   ]
  },
  {
   "cell_type": "markdown",
   "metadata": {},
   "source": [
    "b) Napisz funkcję, która zwraca średnią z podanych liczb"
   ]
  },
  {
   "cell_type": "code",
   "execution_count": null,
   "metadata": {},
   "outputs": [],
   "source": [
    "def mean(...):\n",
    "    \"\"\"Zwraca średnią liczb podanych jako argumenty pozycyjne\"\"\"\n",
    "    pass\n",
    "\n",
    "print(mean(1,2,3) == 2)\n",
    "print(mean(2,2,4,4) == 3)\n",
    "print(mean(1,2,3,4,5,61,2,12,123,123) == 33.6)"
   ]
  },
  {
   "cell_type": "markdown",
   "metadata": {},
   "source": [
    "c) Napisz funkcję, która sprawdza, czy w danym słowniku znajduje się conajmniej podana liczba elementów"
   ]
  },
  {
   "cell_type": "code",
   "execution_count": null,
   "metadata": {},
   "outputs": [],
   "source": [
    "def check_dictionary_content(...):\n",
    "    \"\"\"Sprawdza, czy w danym słowniku znajduje się conajmniej podana liczba elementów\"\"\"\n",
    "    pass\n",
    "\n",
    "d = {'orange': 3, 'apple': 1, 'dogs': 10}\n",
    "print(check_dictionary_content(d, orange=2) == True)\n",
    "print(check_dictionary_content(d, orange=2, apple=1) == True)\n",
    "print(check_dictionary_content(d, dogs=11) == False)\n",
    "print(check_dictionary_content(d, dogs=9, cats=0) == True)\n",
    "print(check_dictionary_content(d, apple=0, cats=1) == False)\n",
    "print(check_dictionary_content(d, **d) == True)"
   ]
  },
  {
   "cell_type": "markdown",
   "metadata": {},
   "source": [
    "## Zadanie 2\n",
    "Napisz funkcję która dla listy liczb zwróci listę częściowych udziałów w sumie tych liczb"
   ]
  },
  {
   "cell_type": "code",
   "execution_count": null,
   "metadata": {},
   "outputs": [],
   "source": [
    "def numbers_to_percents(values):\n",
    "    pass\n",
    "\n",
    "print(numbers_to_percents([1,2,1])==[0.25, 0.5, 0.25])\n",
    "print(numbers_to_percents([1])==[1])\n",
    "print(numbers_to_percents([1,2,3,4])==[0.1, 0.2, 0.3, 0.4])"
   ]
  },
  {
   "cell_type": "markdown",
   "metadata": {},
   "source": [
    "Co się stanie gdy jako wejście funkcji podamy generator? W jaki sposób możemy wykryć czy wejście jest listą czy iteratorem?"
   ]
  },
  {
   "cell_type": "code",
   "execution_count": null,
   "metadata": {},
   "outputs": [],
   "source": [
    "print(numbers_to_percents(i for i in range(5)))"
   ]
  },
  {
   "cell_type": "markdown",
   "metadata": {},
   "source": [
    "## Zadanie 3"
   ]
  },
  {
   "cell_type": "markdown",
   "metadata": {},
   "source": [
    "a) Napisz funkcję `zwroc_rosnace` która dostanie na wejsciu funkcje jednoargumentową oraz argumenty do niej a następnie zwróci te argumenty dla których wynik jest większy od argumentu."
   ]
  },
  {
   "cell_type": "code",
   "execution_count": null,
   "metadata": {},
   "outputs": [],
   "source": [
    "def zwroc_rosnace(...):\n",
    "    pass\n",
    "\n",
    "def f1(n):\n",
    "    return n**2-3*n\n",
    "\n",
    "def f2(n):\n",
    "    return 100-n\n",
    "\n",
    "def f3(word):\n",
    "    return word[::-1]\n",
    "\n",
    "print(zwroc_rosnace(f1, 4, 6, 2, -5)==[6, -5])\n",
    "print(zwroc_rosnace(f2, *range(100))==list(range(50)))\n",
    "print(zwroc_rosnace(f3, \"python\", \"nie\", \"jest\", \"bardzo\", \"fajny\")==['jest', 'bardzo', 'fajny'])"
   ]
  },
  {
   "cell_type": "markdown",
   "metadata": {},
   "source": [
    "b) Dopisz drugą, podobną funkcję która będzie zwracać argumenty których wyniki są większe od wyników poprzedniego argumentu"
   ]
  },
  {
   "cell_type": "code",
   "execution_count": null,
   "metadata": {},
   "outputs": [],
   "source": [
    "def zwroc_rosnace(...):\n",
    "    pass\n",
    "\n",
    "def f1(n):\n",
    "    return n**2-3*n\n",
    "\n",
    "def f2(n):\n",
    "    return 100-n\n",
    "\n",
    "def f3(word):\n",
    "    return word[::-1]\n",
    "\n",
    "print(zwroc_rosnace(f1, 4, -5, 6, 2)==[-5])\n",
    "print(zwroc_rosnace(f2, *range(100))==[])\n",
    "print(zwroc_rosnace(f3, \"python\", \"nie\", \"jest\", \"bardzo\", \"fajny\")==['jest', 'fajny'])"
   ]
  },
  {
   "cell_type": "markdown",
   "metadata": {},
   "source": [
    "## Zadanie 4"
   ]
  },
  {
   "cell_type": "markdown",
   "metadata": {},
   "source": [
    "Napisz funkcję która będzie zwracała który raz jest wywoływana"
   ]
  },
  {
   "cell_type": "code",
   "execution_count": null,
   "metadata": {},
   "outputs": [],
   "source": [
    "def ile_wywolana():\n",
    "    pass\n",
    "\n",
    "print(ile_wywolana()==1)\n",
    "print(ile_wywolana()==2)\n",
    "print(ile_wywolana()==3)"
   ]
  },
  {
   "cell_type": "markdown",
   "metadata": {},
   "source": [
    "## Zadanie 5"
   ]
  },
  {
   "cell_type": "markdown",
   "metadata": {},
   "source": [
    "Napisz generator zwracający nieskończony ciąg licz pierwszych"
   ]
  },
  {
   "cell_type": "code",
   "execution_count": null,
   "metadata": {},
   "outputs": [],
   "source": [
    "def get_primes(number):\n",
    "    pass"
   ]
  },
  {
   "cell_type": "markdown",
   "metadata": {},
   "source": [
    "## Zadanie 6"
   ]
  },
  {
   "cell_type": "markdown",
   "metadata": {},
   "source": [
    "Uzupełnij definicje poniższych funkcji/generatorów."
   ]
  },
  {
   "cell_type": "code",
   "execution_count": null,
   "metadata": {},
   "outputs": [],
   "source": [
    "def natural_numbers(k=0):\n",
    "    \"\"\"Tworzy generator liczb naturalnych od liczby k\"\"\"\n",
    "    pass\n",
    "\n",
    "import types\n",
    "print(isinstance(natural_numbers(), types.GeneratorType))\n",
    "\n",
    "for i, n in enumerate(natural_numbers()):\n",
    "    print(i, i == n)\n",
    "    if i > 20:\n",
    "        break\n",
    "        \n",
    "for i, n in enumerate(natural_numbers(1)):\n",
    "    print(i, i+1 == n)\n",
    "    if i > 20:\n",
    "        break"
   ]
  },
  {
   "cell_type": "code",
   "execution_count": null,
   "metadata": {},
   "outputs": [],
   "source": [
    "def factorials():\n",
    "    \"\"\"Tworzy generator kolejnych silnii\"\"\"\n",
    "    pass\n",
    "\n",
    "import types\n",
    "print(isinstance(factorials(), types.GeneratorType))\n",
    "\n",
    "results = [1, 1, 2, 6, 24, 120, 720, 5040]\n",
    "for truth, answer in zip(results, factorials()):\n",
    "    print(truth, truth == answer)"
   ]
  },
  {
   "cell_type": "markdown",
   "metadata": {},
   "source": [
    "## Zadanie 7\n",
    "\n",
    "Napisz generator nieskończonego ciągu [liczb Fibonacciego](https://pl.wikipedia.org/wiki/Ci%C4%85g_Fibonacciego)."
   ]
  },
  {
   "cell_type": "code",
   "execution_count": null,
   "metadata": {},
   "outputs": [],
   "source": []
  }
 ],
 "metadata": {
  "kernelspec": {
   "display_name": "Python 3",
   "language": "python",
   "name": "python3"
  },
  "language_info": {
   "codemirror_mode": {
    "name": "ipython",
    "version": 3
   },
   "file_extension": ".py",
   "mimetype": "text/x-python",
   "name": "python",
   "nbconvert_exporter": "python",
   "pygments_lexer": "ipython3",
   "version": "3.7.9"
  }
 },
 "nbformat": 4,
 "nbformat_minor": 2
}
