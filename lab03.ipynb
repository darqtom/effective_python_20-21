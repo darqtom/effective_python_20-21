{
 "cells": [
  {
   "cell_type": "markdown",
   "metadata": {},
   "source": [
    "## Lab 03"
   ]
  },
  {
   "cell_type": "markdown",
   "metadata": {},
   "source": [
    "## Zadanie 1"
   ]
  },
  {
   "cell_type": "markdown",
   "metadata": {},
   "source": [
    "a) Napisz funkcję, która wypisuje wiadomość opcjonalnie wraz z podaną wartością"
   ]
  },
  {
   "cell_type": "code",
   "execution_count": 1,
   "metadata": {},
   "outputs": [
    {
     "name": "stdout",
     "output_type": "stream",
     "text": [
      "Hello World!\n",
      "The value is: 42\n"
     ]
    }
   ],
   "source": [
    "def log(message, value=None):\n",
    "    \" Wypisuje wiadomość opcjonalnie wraz z podaną wartością \"\n",
    "    if not value: \n",
    "        print(message)\n",
    "    else: \n",
    "        print(f'{message}: {value}')\n",
    "\n",
    "log(\"Hello World!\") # Hello World!\n",
    "log(\"The value is\", 42) # The value is: 42"
   ]
  },
  {
   "cell_type": "markdown",
   "metadata": {},
   "source": [
    "b) Napisz funkcję, która zwraca średnią z podanych liczb"
   ]
  },
  {
   "cell_type": "code",
   "execution_count": 2,
   "metadata": {},
   "outputs": [
    {
     "name": "stdout",
     "output_type": "stream",
     "text": [
      "True\n",
      "True\n",
      "True\n"
     ]
    }
   ],
   "source": [
    "def mean(*values):\n",
    "    \"\"\"Zwraca średnią liczb podanych jako argumenty pozycyjne\"\"\"\n",
    "    return sum(values) / len(values)\n",
    "\n",
    "print(mean(1,2,3) == 2)\n",
    "print(mean(2,2,4,4) == 3)\n",
    "print(mean(1,2,3,4,5,61,2,12,123,123) == 33.6)"
   ]
  },
  {
   "cell_type": "markdown",
   "metadata": {},
   "source": [
    "c) Napisz funkcję, która sprawdza, czy w danym słowniku znajduje się conajmniej podana liczba elementów"
   ]
  },
  {
   "cell_type": "code",
   "execution_count": 1,
   "metadata": {},
   "outputs": [
    {
     "name": "stdout",
     "output_type": "stream",
     "text": [
      "True\n",
      "True\n",
      "True\n",
      "True\n",
      "True\n",
      "True\n"
     ]
    }
   ],
   "source": [
    "def check_dictionary_content(d, **elements):\n",
    "    \"\"\"Sprawdza, czy w danym słowniku znajduje się conajmniej podana liczba elementów\"\"\"\n",
    "    return all([d.get(k, 0) >= elements[k] for k in elements.keys()])\n",
    "\n",
    "d = {'orange': 3, 'apple': 1, 'dogs': 10}\n",
    "print(check_dictionary_content(d, orange=2) == True)\n",
    "print(check_dictionary_content(d, orange=2, apple=1) == True)\n",
    "print(check_dictionary_content(d, dogs=11) == False)\n",
    "print(check_dictionary_content(d, dogs=9, cats=0) == True)\n",
    "print(check_dictionary_content(d, apple=0, cats=1) == False)\n",
    "print(check_dictionary_content(d, **d) == True)"
   ]
  },
  {
   "cell_type": "markdown",
   "metadata": {},
   "source": [
    "## Zadanie 2\n",
    "Napisz funkcję która dla listy liczb zwróci listę częściowych udziałów w sumie tych liczb"
   ]
  },
  {
   "cell_type": "code",
   "execution_count": 1,
   "metadata": {},
   "outputs": [
    {
     "name": "stdout",
     "output_type": "stream",
     "text": [
      "True\n",
      "True\n",
      "True\n"
     ]
    }
   ],
   "source": [
    "def numbers_to_percents(values):\n",
    "    if iter(values) is iter(values):\n",
    "        raise TypeError('Must be a container')\n",
    "    return [v / sum(values) for v in values]\n",
    "\n",
    "print(numbers_to_percents([1,2,1])==[0.25, 0.5, 0.25])\n",
    "print(numbers_to_percents([1])==[1])\n",
    "print(numbers_to_percents([1,2,3,4])==[0.1, 0.2, 0.3, 0.4])"
   ]
  },
  {
   "cell_type": "markdown",
   "metadata": {},
   "source": [
    "Co się stanie gdy jako wejście funkcji podamy generator? W jaki sposób możemy wykryć czy wejście jest listą czy iteratorem?"
   ]
  },
  {
   "cell_type": "code",
   "execution_count": 2,
   "metadata": {},
   "outputs": [
    {
     "ename": "TypeError",
     "evalue": "Must be a container",
     "output_type": "error",
     "traceback": [
      "\u001B[0;31m---------------------------------------------------------------------------\u001B[0m",
      "\u001B[0;31mTypeError\u001B[0m                                 Traceback (most recent call last)",
      "\u001B[0;32m<ipython-input-2-138845fe8da7>\u001B[0m in \u001B[0;36m<module>\u001B[0;34m\u001B[0m\n\u001B[0;32m----> 1\u001B[0;31m \u001B[0mprint\u001B[0m\u001B[0;34m(\u001B[0m\u001B[0mnumbers_to_percents\u001B[0m\u001B[0;34m(\u001B[0m\u001B[0mi\u001B[0m \u001B[0;32mfor\u001B[0m \u001B[0mi\u001B[0m \u001B[0;32min\u001B[0m \u001B[0mrange\u001B[0m\u001B[0;34m(\u001B[0m\u001B[0;36m5\u001B[0m\u001B[0;34m)\u001B[0m\u001B[0;34m)\u001B[0m\u001B[0;34m)\u001B[0m\u001B[0;34m\u001B[0m\u001B[0;34m\u001B[0m\u001B[0m\n\u001B[0m",
      "\u001B[0;32m<ipython-input-1-6a8e99d9f1ef>\u001B[0m in \u001B[0;36mnumbers_to_percents\u001B[0;34m(values)\u001B[0m\n\u001B[1;32m      1\u001B[0m \u001B[0;32mdef\u001B[0m \u001B[0mnumbers_to_percents\u001B[0m\u001B[0;34m(\u001B[0m\u001B[0mvalues\u001B[0m\u001B[0;34m)\u001B[0m\u001B[0;34m:\u001B[0m\u001B[0;34m\u001B[0m\u001B[0;34m\u001B[0m\u001B[0m\n\u001B[1;32m      2\u001B[0m     \u001B[0;32mif\u001B[0m \u001B[0miter\u001B[0m\u001B[0;34m(\u001B[0m\u001B[0mvalues\u001B[0m\u001B[0;34m)\u001B[0m \u001B[0;32mis\u001B[0m \u001B[0miter\u001B[0m\u001B[0;34m(\u001B[0m\u001B[0mvalues\u001B[0m\u001B[0;34m)\u001B[0m\u001B[0;34m:\u001B[0m\u001B[0;34m\u001B[0m\u001B[0;34m\u001B[0m\u001B[0m\n\u001B[0;32m----> 3\u001B[0;31m         \u001B[0;32mraise\u001B[0m \u001B[0mTypeError\u001B[0m\u001B[0;34m(\u001B[0m\u001B[0;34m'Must be a container'\u001B[0m\u001B[0;34m)\u001B[0m\u001B[0;34m\u001B[0m\u001B[0;34m\u001B[0m\u001B[0m\n\u001B[0m\u001B[1;32m      4\u001B[0m     \u001B[0;32mreturn\u001B[0m \u001B[0;34m[\u001B[0m\u001B[0mv\u001B[0m \u001B[0;34m/\u001B[0m \u001B[0msum\u001B[0m\u001B[0;34m(\u001B[0m\u001B[0mvalues\u001B[0m\u001B[0;34m)\u001B[0m \u001B[0;32mfor\u001B[0m \u001B[0mv\u001B[0m \u001B[0;32min\u001B[0m \u001B[0mvalues\u001B[0m\u001B[0;34m]\u001B[0m\u001B[0;34m\u001B[0m\u001B[0;34m\u001B[0m\u001B[0m\n\u001B[1;32m      5\u001B[0m \u001B[0;34m\u001B[0m\u001B[0m\n",
      "\u001B[0;31mTypeError\u001B[0m: Must be a container"
     ]
    }
   ],
   "source": [
    "print(numbers_to_percents(i for i in range(5)))"
   ]
  },
  {
   "cell_type": "markdown",
   "metadata": {},
   "source": [
    "## Zadanie 3"
   ]
  },
  {
   "cell_type": "markdown",
   "metadata": {},
   "source": [
    "a) Napisz funkcję `zwroc_rosnace` która dostanie na wejsciu funkcje jednoargumentową oraz argumenty do niej a następnie zwróci te argumenty dla których wynik jest większy od argumentu."
   ]
  },
  {
   "cell_type": "code",
   "execution_count": 3,
   "metadata": {},
   "outputs": [
    {
     "name": "stdout",
     "output_type": "stream",
     "text": [
      "True\n",
      "True\n",
      "True\n"
     ]
    }
   ],
   "source": [
    "def zwroc_rosnace(f, *args):\n",
    "    return [arg for arg in args if f(arg) > arg]\n",
    "\n",
    "def f1(n):\n",
    "    return n**2-3*n\n",
    "\n",
    "def f2(n):\n",
    "    return 100-n\n",
    "\n",
    "def f3(word):\n",
    "    return word[::-1]\n",
    "\n",
    "print(zwroc_rosnace(f1, 4, 6, 2, -5)==[6, -5])\n",
    "print(zwroc_rosnace(f2, *range(100))==list(range(50)))\n",
    "print(zwroc_rosnace(f3, \"python\", \"nie\", \"jest\", \"bardzo\", \"fajny\")==['jest', 'bardzo', 'fajny'])"
   ]
  },
  {
   "cell_type": "markdown",
   "metadata": {},
   "source": [
    "b) Dopisz drugą, podobną funkcję która będzie zwracać argumenty których wyniki są większe od wyników poprzedniego argumentu"
   ]
  },
  {
   "cell_type": "code",
   "execution_count": 4,
   "metadata": {},
   "outputs": [
    {
     "name": "stdout",
     "output_type": "stream",
     "text": [
      "True\n",
      "True\n",
      "True\n"
     ]
    }
   ],
   "source": [
    "def zwroc_rosnace(f, *args):\n",
    "    return [arg for i, arg in enumerate(args) if i > 0 and f(arg) > f(args[i - 1])]\n",
    "\n",
    "def f1(n):\n",
    "    return n**2-3*n\n",
    "\n",
    "def f2(n):\n",
    "    return 100-n\n",
    "\n",
    "def f3(word):\n",
    "    return word[::-1]\n",
    "\n",
    "print(zwroc_rosnace(f1, 4, -5, 6, 2)==[-5])\n",
    "print(zwroc_rosnace(f2, *range(100))==[])\n",
    "print(zwroc_rosnace(f3, \"python\", \"nie\", \"jest\", \"bardzo\", \"fajny\")==['jest', 'fajny'])"
   ]
  },
  {
   "cell_type": "markdown",
   "metadata": {},
   "source": [
    "## Zadanie 4"
   ]
  },
  {
   "cell_type": "markdown",
   "metadata": {},
   "source": [
    "Napisz funkcję która będzie zwracała który raz jest wywoływana"
   ]
  },
  {
   "cell_type": "code",
   "execution_count": 5,
   "metadata": {},
   "outputs": [
    {
     "name": "stdout",
     "output_type": "stream",
     "text": [
      "True\n",
      "True\n",
      "True\n"
     ]
    }
   ],
   "source": [
    "def ile_wywolana(counter=[0]):\n",
    "    counter[0] += 1\n",
    "    return counter[0]\n",
    "\n",
    "print(ile_wywolana()==1)\n",
    "print(ile_wywolana()==2)\n",
    "print(ile_wywolana()==3)"
   ]
  },
  {
   "cell_type": "markdown",
   "metadata": {},
   "source": [
    "## Zadanie 5"
   ]
  },
  {
   "cell_type": "markdown",
   "metadata": {},
   "source": [
    "Napisz generator zwracający nieskończony ciąg licz pierwszych"
   ]
  },
  {
   "cell_type": "code",
   "execution_count": 38,
   "metadata": {},
   "outputs": [
    {
     "name": "stdout",
     "output_type": "stream",
     "text": [
      "True\n",
      "2 True\n",
      "3 True\n",
      "5 True\n",
      "7 True\n",
      "11 True\n",
      "13 True\n",
      "17 True\n",
      "19 True\n",
      "23 True\n",
      "29 True\n",
      "31 True\n",
      "37 True\n",
      "41 True\n",
      "43 True\n",
      "47 True\n",
      "53 True\n",
      "59 True\n",
      "61 True\n",
      "67 True\n",
      "71 True\n",
      "73 True\n",
      "79 True\n",
      "83 True\n",
      "89 True\n",
      "97 True\n"
     ]
    }
   ],
   "source": [
    "def get_primes():\n",
    "    number = 0\n",
    "    while True:\n",
    "        if True not in (number%i==0 for i in range(2,int(number**0.5) + 1)) and number > 1:\n",
    "            yield number\n",
    "        number += 1\n",
    "            \n",
    "\n",
    "import types\n",
    "print(isinstance(get_primes(), types.GeneratorType))\n",
    "\n",
    "results = [2, 3, 5, 7, 11, 13, 17, 19, 23, 29, 31, 37, 41, 43, 47, 53, 59, 61, 67, 71, 73, 79, 83, 89, 97]\n",
    "for truth, answer in zip(results, get_primes()):\n",
    "    print(truth, truth == answer)\n"
   ]
  },
  {
   "cell_type": "markdown",
   "metadata": {},
   "source": [
    "## Zadanie 6"
   ]
  },
  {
   "cell_type": "markdown",
   "metadata": {},
   "source": [
    "Uzupełnij definicje poniższych funkcji/generatorów."
   ]
  },
  {
   "cell_type": "code",
   "execution_count": 5,
   "metadata": {},
   "outputs": [
    {
     "name": "stdout",
     "output_type": "stream",
     "text": [
      "True\n",
      "0 True\n",
      "1 True\n",
      "2 True\n",
      "3 True\n",
      "4 True\n",
      "5 True\n",
      "6 True\n",
      "7 True\n",
      "8 True\n",
      "9 True\n",
      "10 True\n",
      "11 True\n",
      "12 True\n",
      "13 True\n",
      "14 True\n",
      "15 True\n",
      "16 True\n",
      "17 True\n",
      "18 True\n",
      "19 True\n",
      "20 True\n",
      "21 True\n",
      "0 True\n",
      "1 True\n",
      "2 True\n",
      "3 True\n",
      "4 True\n",
      "5 True\n",
      "6 True\n",
      "7 True\n",
      "8 True\n",
      "9 True\n",
      "10 True\n",
      "11 True\n",
      "12 True\n",
      "13 True\n",
      "14 True\n",
      "15 True\n",
      "16 True\n",
      "17 True\n",
      "18 True\n",
      "19 True\n",
      "20 True\n",
      "21 True\n"
     ]
    }
   ],
   "source": [
    "def natural_numbers(k=0):\n",
    "    \"\"\"Tworzy generator liczb naturalnych od liczby k\"\"\"\n",
    "    while True:\n",
    "        yield k\n",
    "        k += 1\n",
    "\n",
    "        \n",
    "import types\n",
    "print(isinstance(natural_numbers(), types.GeneratorType))\n",
    "\n",
    "for i, n in enumerate(natural_numbers()):\n",
    "    print(i, i == n)\n",
    "    if i > 20:\n",
    "        break\n",
    "        \n",
    "for i, n in enumerate(natural_numbers(1)):\n",
    "    print(i, i+1 == n)\n",
    "    if i > 20:\n",
    "        break"
   ]
  },
  {
   "cell_type": "code",
   "execution_count": 20,
   "metadata": {},
   "outputs": [
    {
     "name": "stdout",
     "output_type": "stream",
     "text": [
      "True\n",
      "1 True\n",
      "1 True\n",
      "2 True\n",
      "6 True\n",
      "24 True\n",
      "120 True\n",
      "720 True\n",
      "5040 True\n"
     ]
    }
   ],
   "source": [
    "def factorials():\n",
    "    \"\"\"Tworzy generator kolejnych silnii\"\"\"\n",
    "    i = 0\n",
    "    while True:\n",
    "        res = 1\n",
    "        if i > 1:\n",
    "            for j in range (2, i + 1):\n",
    "                res *= j\n",
    "        i += 1\n",
    "        yield res\n",
    "        \n",
    "        \n",
    "import types\n",
    "print(isinstance(factorials(), types.GeneratorType))\n",
    "\n",
    "results = [1, 1, 2, 6, 24, 120, 720, 5040]\n",
    "for truth, answer in zip(results, factorials()):\n",
    "    print(truth, truth == answer)"
   ]
  },
  {
   "cell_type": "markdown",
   "metadata": {},
   "source": [
    "## Zadanie 7\n",
    "\n",
    "Napisz generator nieskończonego ciągu [liczb Fibonacciego](https://pl.wikipedia.org/wiki/Ci%C4%85g_Fibonacciego)."
   ]
  },
  {
   "cell_type": "code",
   "execution_count": 34,
   "metadata": {},
   "outputs": [
    {
     "name": "stdout",
     "output_type": "stream",
     "text": [
      "True\n",
      "0 True\n",
      "1 True\n",
      "1 True\n",
      "2 True\n",
      "3 True\n",
      "5 True\n",
      "8 True\n",
      "13 True\n",
      "21 True\n",
      "35 False\n",
      "55 True\n",
      "89 True\n",
      "144 True\n"
     ]
    }
   ],
   "source": [
    "def fibonacci_gen():\n",
    "    a, b = 0, 1\n",
    "    while True:\n",
    "        yield a\n",
    "        a, b = b, a + b\n",
    "        \n",
    "        \n",
    "import types\n",
    "print(isinstance(fibonacci_gen(), types.GeneratorType))\n",
    "\n",
    "results = [0, 1, 1, 2, 3, 5, 8, 13, 21, 35, 55, 89, 144]\n",
    "for truth, answer in zip(results, fibonacci_gen()):\n",
    "    print(truth, truth == answer)"
   ]
  },
  {
   "cell_type": "code",
   "execution_count": null,
   "metadata": {},
   "outputs": [],
   "source": []
  },
  {
   "cell_type": "code",
   "execution_count": null,
   "metadata": {},
   "outputs": [],
   "source": []
  },
  {
   "cell_type": "code",
   "execution_count": null,
   "metadata": {},
   "outputs": [],
   "source": []
  }
 ],
 "metadata": {
  "kernelspec": {
   "display_name": "Python 3",
   "language": "python",
   "name": "python3"
  },
  "language_info": {
   "codemirror_mode": {
    "name": "ipython",
    "version": 3
   },
   "file_extension": ".py",
   "mimetype": "text/x-python",
   "name": "python",
   "nbconvert_exporter": "python",
   "pygments_lexer": "ipython3",
   "version": "3.8.0"
  }
 },
 "nbformat": 4,
 "nbformat_minor": 2
}