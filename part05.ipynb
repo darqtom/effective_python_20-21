{
 "cells": [
  {
   "cell_type": "markdown",
   "metadata": {
    "collapsed": true,
    "slideshow": {
     "slide_type": "slide"
    }
   },
   "source": [
    "# Efektywne programowanie w języku Python \n",
    "\n",
    "## wykład 5"
   ]
  },
  {
   "cell_type": "markdown",
   "metadata": {
    "slideshow": {
     "slide_type": "slide"
    }
   },
   "source": [
    "## Parallel processing"
   ]
  },
  {
   "cell_type": "markdown",
   "metadata": {
    "slideshow": {
     "slide_type": "fragment"
    }
   },
   "source": [
    "Parallel processing is a mode of operation where the task is executed simultaneously in multiple processors in the same computer. It is meant to reduce the overall processing time."
   ]
  },
  {
   "cell_type": "markdown",
   "metadata": {
    "slideshow": {
     "slide_type": "subslide"
    }
   },
   "source": [
    "### How many maximum parallel processes can you run?"
   ]
  },
  {
   "cell_type": "code",
   "execution_count": 1,
   "metadata": {
    "slideshow": {
     "slide_type": "fragment"
    }
   },
   "outputs": [
    {
     "name": "stdout",
     "output_type": "stream",
     "text": [
      "Number of processors:  4\n"
     ]
    }
   ],
   "source": [
    "import multiprocessing as mp\n",
    "print(\"Number of processors: \", mp.cpu_count())"
   ]
  },
  {
   "cell_type": "markdown",
   "metadata": {
    "slideshow": {
     "slide_type": "subslide"
    }
   },
   "source": [
    "### What is Synchronous and Asynchronous execution?"
   ]
  },
  {
   "cell_type": "markdown",
   "metadata": {
    "slideshow": {
     "slide_type": "fragment"
    }
   },
   "source": [
    "A **synchronous** execution is one the processes are completed in the same order in which it was started. This is achieved by locking the main program until the respective processes are finished."
   ]
  },
  {
   "cell_type": "markdown",
   "metadata": {
    "slideshow": {
     "slide_type": "fragment"
    }
   },
   "source": [
    "**Asynchronous**, on the other hand, doesn’t involve locking. As a result, the order of results can get mixed up but usually gets done quicker."
   ]
  },
  {
   "cell_type": "markdown",
   "metadata": {
    "slideshow": {
     "slide_type": "subslide"
    }
   },
   "source": [
    "There are 2 main objects in multiprocessing to implement parallel execution of a function: The `Pool` Class and the `Process` Class.\n",
    "\n",
    "1. `Pool` Class\n",
    "  - Synchronous execution\n",
    "    - `Pool.map()` and `Pool.starmap()`\n",
    "    - `Pool.apply()`\n",
    "  - Asynchronous execution\n",
    "    - `Pool.map_async()` and `Pool.starmap_async()`\n",
    "    - `Pool.apply_async()`\n",
    "2. `Process` Class"
   ]
  },
  {
   "cell_type": "markdown",
   "metadata": {
    "slideshow": {
     "slide_type": "subslide"
    }
   },
   "source": [
    "### Problem\n",
    "\n",
    "> Count how many numbers exist between a given range in each row."
   ]
  },
  {
   "cell_type": "code",
   "execution_count": 2,
   "metadata": {
    "slideshow": {
     "slide_type": "fragment"
    }
   },
   "outputs": [],
   "source": [
    "import numpy as np\n",
    "from time import time\n",
    "\n",
    "# Prepare data\n",
    "np.random.RandomState(100)\n",
    "arr = np.random.randint(0, 10, size=[200000, 5])\n",
    "data = arr.tolist()"
   ]
  },
  {
   "cell_type": "markdown",
   "metadata": {
    "slideshow": {
     "slide_type": "subslide"
    }
   },
   "source": [
    "#### Solution without parallelization"
   ]
  },
  {
   "cell_type": "code",
   "execution_count": 3,
   "metadata": {
    "slideshow": {
     "slide_type": "fragment"
    }
   },
   "outputs": [],
   "source": [
    "# Solution Without Paralleization\n",
    "def howmany_within_range(row, minimum, maximum):\n",
    "    \"\"\"Returns how many numbers lie within `maximum` and `minimum` in a given `row`\"\"\"\n",
    "    count = 0\n",
    "    for n in row:\n",
    "        if minimum <= n <= maximum:\n",
    "            count = count + 1\n",
    "    return count"
   ]
  },
  {
   "cell_type": "code",
   "execution_count": 4,
   "metadata": {
    "slideshow": {
     "slide_type": "fragment"
    }
   },
   "outputs": [],
   "source": [
    "results = []\n",
    "for row in data:\n",
    "    results.append(howmany_within_range(row, minimum=4, maximum=8))"
   ]
  },
  {
   "cell_type": "code",
   "execution_count": 1,
   "metadata": {
    "slideshow": {
     "slide_type": "fragment"
    }
   },
   "outputs": [],
   "source": [
    "#print(results)"
   ]
  },
  {
   "cell_type": "markdown",
   "metadata": {
    "slideshow": {
     "slide_type": "subslide"
    }
   },
   "source": [
    "#### How to parallelize any function?"
   ]
  },
  {
   "cell_type": "markdown",
   "metadata": {
    "slideshow": {
     "slide_type": "fragment"
    }
   },
   "source": [
    "The general way to parallelize any operation is to take a particular function that should be run multiple times and make it run parallelly in different processors."
   ]
  },
  {
   "cell_type": "markdown",
   "metadata": {
    "slideshow": {
     "slide_type": "fragment"
    }
   },
   "source": [
    "To do this, you initialize a Pool with n number of processors and pass the function you want to parallelize to one of Pools parallization methods."
   ]
  },
  {
   "cell_type": "markdown",
   "metadata": {
    "slideshow": {
     "slide_type": "fragment"
    }
   },
   "source": [
    "`multiprocessing.Pool()` provides the `apply()`, `map()` and `starmap()` methods to make any function run in parallel."
   ]
  },
  {
   "cell_type": "markdown",
   "metadata": {
    "slideshow": {
     "slide_type": "subslide"
    }
   },
   "source": [
    "Both `apply()` and `map()` take the function to be parallelized as the main argument. But the difference is, `apply()` takes an args argument that accepts the parameters passed to the ‘function-to-be-parallelized’ as an argument, whereas, map can take only one iterable as an argument.\n",
    "\n",
    "`map()` is really more suitable for simpler iterable operations but does the job faster."
   ]
  },
  {
   "cell_type": "markdown",
   "metadata": {
    "slideshow": {
     "slide_type": "subslide"
    }
   },
   "source": [
    "#### Parallelizing using `Pool.apply()`"
   ]
  },
  {
   "cell_type": "code",
   "execution_count": null,
   "metadata": {
    "slideshow": {
     "slide_type": "subslide"
    }
   },
   "outputs": [],
   "source": [
    "# Parallelizing using Pool.apply()\n",
    "\n",
    "import multiprocessing as mp\n",
    "\n",
    "# Step 1: Init multiprocessing.Pool()\n",
    "pool = mp.Pool(mp.cpu_count())\n",
    "\n",
    "# Step 2: `pool.apply` the `howmany_within_range()`\n",
    "results = [pool.apply(howmany_within_range, args=(row, 4, 8)) for row in data]\n",
    "\n",
    "# Step 3: Don't forget to close\n",
    "pool.close()    \n",
    "\n",
    "print(results[:10])\n",
    "#> [3, 1, 4, 4, 4, 2, 1, 1, 3, 3]"
   ]
  },
  {
   "cell_type": "markdown",
   "metadata": {
    "slideshow": {
     "slide_type": "subslide"
    }
   },
   "source": [
    "#### Parallelizing using `Pool.map()`"
   ]
  },
  {
   "cell_type": "markdown",
   "metadata": {
    "slideshow": {
     "slide_type": "subslide"
    }
   },
   "source": [
    "`Pool.map()` accepts only one iterable as argument. So as a workaround, I modify the howmany_within_range function by setting a default to the minimum and maximum parameters to create a new `howmany_within_range_rowonly()` function so it accetps only an iterable list of rows as input. I know this is not a nice usecase of `map()`, but it clearly shows how it differs from `apply()`."
   ]
  },
  {
   "cell_type": "code",
   "execution_count": null,
   "metadata": {
    "slideshow": {
     "slide_type": "subslide"
    }
   },
   "outputs": [],
   "source": [
    "# Parallelizing using Pool.map()\n",
    "import multiprocessing as mp\n",
    "\n",
    "# Redefine, with only 1 mandatory argument.\n",
    "def howmany_within_range_rowonly(row, minimum=4, maximum=8):\n",
    "    count = 0\n",
    "    for n in row:\n",
    "        if minimum <= n <= maximum:\n",
    "            count = count + 1\n",
    "    return count\n",
    "\n",
    "pool = mp.Pool(mp.cpu_count())\n",
    "\n",
    "results = pool.map(howmany_within_range_rowonly, [row for row in data])\n",
    "\n",
    "pool.close()\n",
    "\n",
    "print(results[:10])\n",
    "#> [3, 1, 4, 4, 4, 2, 1, 1, 3, 3]"
   ]
  },
  {
   "cell_type": "markdown",
   "metadata": {
    "slideshow": {
     "slide_type": "subslide"
    }
   },
   "source": [
    "#### Parallelizing using `Pool.starmap()`"
   ]
  },
  {
   "cell_type": "markdown",
   "metadata": {
    "slideshow": {
     "slide_type": "fragment"
    }
   },
   "source": [
    "`Pool.starmap()` accepts only one iterable as argument, but in `starmap()`, each element in that iterable is also a iterable. You can to provide the arguments to the ‘function-to-be-parallelized’ in the same order in this inner iterable element, will in turn be unpacked during execution."
   ]
  },
  {
   "cell_type": "code",
   "execution_count": null,
   "metadata": {
    "slideshow": {
     "slide_type": "subslide"
    }
   },
   "outputs": [],
   "source": [
    "# Parallelizing with Pool.starmap()\n",
    "import multiprocessing as mp\n",
    "\n",
    "def howmany_within_range(row, minimum, maximum):\n",
    "    \"\"\"Returns how many numbers lie within `maximum` and `minimum` in a given `row`\"\"\"\n",
    "    count = 0\n",
    "    for n in row:\n",
    "        if minimum <= n <= maximum:\n",
    "            count = count + 1\n",
    "    return count\n",
    "\n",
    "if __name__ == '__main__':\n",
    "    pool = mp.Pool(mp.cpu_count())\n",
    "\n",
    "    results = pool.starmap(howmany_within_range, [(row, 4, 8) for row in data])\n",
    "\n",
    "    pool.close()\n",
    "\n",
    "    print(results[:10])\n",
    "    #> [3, 1, 4, 4, 4, 2, 1, 1, 3, 3]"
   ]
  },
  {
   "cell_type": "markdown",
   "metadata": {
    "slideshow": {
     "slide_type": "subslide"
    }
   },
   "source": [
    "####  Parallelizing with `Pool.apply_async()`"
   ]
  },
  {
   "cell_type": "code",
   "execution_count": null,
   "metadata": {
    "slideshow": {
     "slide_type": "subslide"
    }
   },
   "outputs": [],
   "source": [
    "# Parallel processing with Pool.apply_async() without callback function\n",
    "\n",
    "import multiprocessing as mp\n",
    "pool = mp.Pool(mp.cpu_count())\n",
    "\n",
    "results = []\n",
    "\n",
    "# call apply_async() without callback\n",
    "result_objects = [pool.apply_async(howmany_within_range2, args=(i, row, 4, 8)) for i, row in enumerate(data)]\n",
    "\n",
    "# result_objects is a list of pool.ApplyResult objects\n",
    "results = [r.get()[1] for r in result_objects]\n",
    "\n",
    "pool.close()\n",
    "pool.join()\n",
    "print(results[:10])\n",
    "#> [3, 1, 4, 4, 4, 2, 1, 1, 3, 3]"
   ]
  },
  {
   "cell_type": "markdown",
   "metadata": {
    "slideshow": {
     "slide_type": "subslide"
    }
   },
   "source": [
    "itd. ..."
   ]
  },
  {
   "cell_type": "markdown",
   "metadata": {
    "slideshow": {
     "slide_type": "subslide"
    }
   },
   "source": [
    "- `without`: all done at 1.32 seconds\n",
    "- `apply`: all done at 306.88 seconds\n",
    "- `map`:        all done at 4.34 seconds\n",
    "- `starmap`: all done at 5.69 seconds\n",
    "- `apply_async`: all done at 36.52 seconds\n",
    "- `map_async`: all done at 3.79 seconds\n",
    "- `starmap_async`: all done at 5.94 seconds\n"
   ]
  },
  {
   "cell_type": "markdown",
   "metadata": {
    "slideshow": {
     "slide_type": "slide"
    }
   },
   "source": [
    "## The Python Standard Library"
   ]
  },
  {
   "cell_type": "markdown",
   "metadata": {
    "slideshow": {
     "slide_type": "subslide"
    }
   },
   "source": [
    "Behind: Python syntax and philosophy\n",
    "\n",
    "\"Python\" is a \"batteries-included\" distribution\n",
    "\n",
    "Many powerful tools are already implemented in the:\n",
    "\n",
    "[https://docs.python.org/3.6/library/](https://docs.python.org/3.6/library/)"
   ]
  },
  {
   "cell_type": "markdown",
   "metadata": {
    "slideshow": {
     "slide_type": "subslide"
    }
   },
   "source": [
    "Assume all necessary imports have been executed"
   ]
  },
  {
   "cell_type": "markdown",
   "metadata": {
    "slideshow": {
     "slide_type": "slide"
    }
   },
   "source": [
    "# collections\n",
    "## container datatypes"
   ]
  },
  {
   "cell_type": "markdown",
   "metadata": {
    "slideshow": {
     "slide_type": "slide"
    }
   },
   "source": [
    "## collections.namedtuple\n",
    "### create tuple subclasses with named fields"
   ]
  },
  {
   "cell_type": "code",
   "execution_count": null,
   "metadata": {
    "collapsed": true,
    "slideshow": {
     "slide_type": "fragment"
    }
   },
   "outputs": [],
   "source": [
    "Point = collections.namedtuple('Point', ['x', 'y'])\n",
    "\n",
    "p = Point(11, y=22) # positional or keyword arguments\n",
    "\n",
    "# Fields are accessible by name! \"Readability counts.\"\n",
    "-p.x, 2 * p.y # => -11, 44\n",
    "\n",
    "# readable __repr__ with a name=value style\n",
    "print(p) # Point(x=11, y=22)"
   ]
  },
  {
   "cell_type": "code",
   "execution_count": null,
   "metadata": {
    "collapsed": true,
    "slideshow": {
     "slide_type": "subslide"
    }
   },
   "outputs": [],
   "source": [
    "Point = collections.namedtuple('Point', ['x', 'y'])\n",
    "\n",
    "p = Point(11, 22)\n",
    "\n",
    "# Subscriptable, like regular tuples\n",
    "p[0] * p[1] # => 242\n",
    "\n",
    "# Unpack, like regular tuples\n",
    "x, y = p # x == 11, y == 22\n",
    "\n",
    "# Usually don't need to unpack if attributes have names\n",
    "math.hypot(p.x - other.x, p.y - other.y)"
   ]
  },
  {
   "cell_type": "markdown",
   "metadata": {
    "slideshow": {
     "slide_type": "subslide"
    }
   },
   "source": [
    "# Good Python Style:\n",
    "# Use namedtuple"
   ]
  },
  {
   "cell_type": "code",
   "execution_count": null,
   "metadata": {
    "collapsed": true,
    "slideshow": {
     "slide_type": "fragment"
    }
   },
   "outputs": [],
   "source": [
    "# Can you guess the context of this code?\n",
    "p = (170, 0.1, 0.6)\n",
    "if p[1] >= 0.5:\n",
    "    print(\"Whew, that is bright!\")\n",
    "if p[2] >= 0.5:\n",
    "    print(\"Wow, that is light!\")"
   ]
  },
  {
   "cell_type": "code",
   "execution_count": 28,
   "metadata": {
    "slideshow": {
     "slide_type": "subslide"
    }
   },
   "outputs": [
    {
     "name": "stdout",
     "output_type": "stream",
     "text": [
      "Wow, that is light!\n"
     ]
    }
   ],
   "source": [
    "Color = collections.namedtuple(\"Color\", [\"hue\", \"saturation\", \"luminosity\"])\n",
    "pixel = Color(170, 0.1, 0.6)\n",
    "\n",
    "if pixel.saturation >= 0.5:\n",
    "    print(\"Whew, that is bright!\")\n",
    "if pixel.luminosity >= 0.5:\n",
    "    print(\"Wow, that is light!\")"
   ]
  },
  {
   "cell_type": "markdown",
   "metadata": {
    "slideshow": {
     "slide_type": "slide"
    }
   },
   "source": [
    "## collections.defaultdict\n",
    "### dict subclass with factory function for missing values"
   ]
  },
  {
   "cell_type": "code",
   "execution_count": null,
   "metadata": {
    "collapsed": true,
    "slideshow": {
     "slide_type": "subslide"
    }
   },
   "outputs": [],
   "source": [
    "# Have:\n",
    "input_data = [('yellow', 1), ('blue', 2), ('yellow', 3), ('blue', 4), ('red', 1)]\n",
    "\n",
    "# Want:\n",
    "output = {'blue': [2, 4], 'red': [1], 'yellow': [1, 3]}"
   ]
  },
  {
   "cell_type": "code",
   "execution_count": 3,
   "metadata": {
    "slideshow": {
     "slide_type": "subslide"
    }
   },
   "outputs": [
    {
     "name": "stdout",
     "output_type": "stream",
     "text": [
      "{'yellow': [1, 3], 'blue': [2, 4], 'red': [1]}\n"
     ]
    }
   ],
   "source": [
    "input_data = [('yellow', 1), ('blue', 2), ('yellow', 3), ('blue', 4), ('red', 1)]\n",
    "\n",
    "# One approach\n",
    "output = {}\n",
    "for k, v in input_data:\n",
    "    if k not in output:\n",
    "        output[k] = []\n",
    "    output[k].append(v)\n",
    "        \n",
    "print(output) # => {'yellow': [1, 3], 'blue': [2, 4], 'red': [1]}"
   ]
  },
  {
   "cell_type": "code",
   "execution_count": 6,
   "metadata": {
    "slideshow": {
     "slide_type": "subslide"
    }
   },
   "outputs": [
    {
     "name": "stdout",
     "output_type": "stream",
     "text": [
      "defaultdict(<function <lambda> at 0x000001C5DB3B3730>, {'yellow': [1, 3], 'blue': [2, 4], 'red': [1]})\n"
     ]
    }
   ],
   "source": [
    "import collections\n",
    "input_data = [('yellow', 1), ('blue', 2), ('yellow', 3), ('blue', 4), ('red', 1)]\n",
    "\n",
    "# One approach\n",
    "# accepts one argument - a zero-argument factory function to supply missing keys\n",
    "output = collections.defaultdict(lambda: list()) \n",
    "for k, v in input_data:\n",
    "    output[k].append(v)\n",
    "        \n",
    "print(output) # => {'yellow': [1, 3], 'blue': [2, 4], 'red': [1]}"
   ]
  },
  {
   "cell_type": "code",
   "execution_count": null,
   "metadata": {
    "collapsed": true,
    "slideshow": {
     "slide_type": "subslide"
    }
   },
   "outputs": [],
   "source": [
    "# defaultdict with default value []\n",
    "collections.defaultdict(lambda: list())\n",
    "\n",
    "# equivalent to\n",
    "collections.defaultdict(list)\n",
    "\n",
    "# defaultdict with default value 0\n",
    "collections.defaultdict(lambda: 0)\n",
    "\n",
    "# equivalent to\n",
    "collections.defaultdict(int)"
   ]
  },
  {
   "cell_type": "code",
   "execution_count": 7,
   "metadata": {
    "slideshow": {
     "slide_type": "subslide"
    }
   },
   "outputs": [
    {
     "name": "stdout",
     "output_type": "stream",
     "text": [
      "defaultdict(<class 'int'>, {'m': 1, 'i': 4, 's': 4, 'p': 2})\n"
     ]
    }
   ],
   "source": [
    "# Have: s = 'mississippi'\n",
    "# Want: d = {'i': 4, 'p': 2, 'm': 1, 's': 4}\n",
    "s = 'mississippi'\n",
    "d = collections.defaultdict(int) # or... lambda: 0\n",
    "for letter in s:\n",
    "    d[letter] += 1\n",
    "    \n",
    "print(d)"
   ]
  },
  {
   "cell_type": "markdown",
   "metadata": {
    "slideshow": {
     "slide_type": "slide"
    }
   },
   "source": [
    "## collections.Counter\n",
    "### dict subclass for counting hashable objects"
   ]
  },
  {
   "cell_type": "code",
   "execution_count": 8,
   "metadata": {
    "slideshow": {
     "slide_type": "subslide"
    }
   },
   "outputs": [
    {
     "name": "stdout",
     "output_type": "stream",
     "text": [
      "Counter({'i': 4, 's': 4, 'p': 2, 'm': 1})\n",
      "[('m', 1), ('i', 4), ('s', 4), ('p', 2)]\n"
     ]
    }
   ],
   "source": [
    "# Have: s = 'mississippi'\n",
    "# Want: [('s', 4), ('m', 1), ('i', 4), ('p', 2)]\n",
    "s = 'mississippi'\n",
    "\n",
    "count = collections.Counter(s)\n",
    "\n",
    "print(count) # Counter({'i': 4, 's': 4, 'p': 2, 'm': 1})\n",
    "print(list(count.items())) # [('m', 1), ('i', 4), ('s', 4), ('p', 2)]"
   ]
  },
  {
   "cell_type": "code",
   "execution_count": 9,
   "metadata": {
    "slideshow": {
     "slide_type": "subslide"
    }
   },
   "outputs": [
    {
     "name": "stdout",
     "output_type": "stream",
     "text": [
      "Counter({'red': 2, 'blue': 2, 'green': 1})\n",
      "Counter({'red': 2, 'blue': 2, 'green': 1})\n"
     ]
    }
   ],
   "source": [
    "# Tally occurrences of words in a list\n",
    "colors = ['red', 'blue', 'red', 'green', 'blue']\n",
    "\n",
    "# One approach\n",
    "counter = collections.Counter()\n",
    "for color in colors:\n",
    "    counter[color] += 1\n",
    "\n",
    "print(counter) # Counter({'red': 2, 'blue': 2, 'green': 1})\n",
    "\n",
    "# A better approach\n",
    "counter = collections.Counter(colors)\n",
    "print(counter) # Counter({'red': 2, 'blue': 2, 'green': 1})"
   ]
  },
  {
   "cell_type": "code",
   "execution_count": 12,
   "metadata": {},
   "outputs": [
    {
     "data": {
      "text/plain": [
       "Counter({'a': 1, 'b': 2, 'c': 1, 'd': 1, 'r': 2})"
      ]
     },
     "execution_count": 12,
     "metadata": {},
     "output_type": "execute_result"
    }
   ],
   "source": [
    "# Get most common elements!\n",
    "collections.Counter('abracadabra').most_common(3) # [('a', 5), ('b', 2), ('r', 2)]\n",
    "\n",
    "# Supports basic arithmetic\n",
    "collections.Counter('which') + collections.Counter('witch') # Counter({'c': 2, 'h': 3, 'i': 2, 't': 1, 'w': 2})\n",
    "\n",
    "collections.Counter('abracadabra') - collections.Counter('alakazam') # Counter({'a': 1, 'b': 2, 'c': 1, 'd': 1, 'r': 2})"
   ]
  },
  {
   "cell_type": "markdown",
   "metadata": {
    "slideshow": {
     "slide_type": "slide"
    }
   },
   "source": [
    "## re\n",
    "### Regular expression operations"
   ]
  },
  {
   "cell_type": "code",
   "execution_count": 16,
   "metadata": {
    "collapsed": true,
    "slideshow": {
     "slide_type": "subslide"
    }
   },
   "outputs": [],
   "source": [
    "import re"
   ]
  },
  {
   "cell_type": "code",
   "execution_count": null,
   "metadata": {
    "collapsed": true,
    "slideshow": {
     "slide_type": "subslide"
    }
   },
   "outputs": [],
   "source": [
    "# Search for pattern match anywhere in string; return None if not found\n",
    "m = re.search(r\"(\\w+) (\\w+)\", \"Physicist Isaac Newton\")\n",
    "m.group(0) # \"Physicist Isaac\" - the entire match\n",
    "m.group(1) # \"Physicist\" - first parenthesized subgroup\n",
    "m.group(2) # \"Isaac\" - second parenthesized subgroup\n",
    "\n",
    "# Match pattern against start of string; return None if not found\n",
    "m = re.match(r\"(?P<fname>\\w+) (?P<lname>\\w+)\", \"Malcolm Reynolds\")\n",
    "m.group('fname') # => 'Malcolm'\n",
    "m.group('lname') # => 'Reynolds'"
   ]
  },
  {
   "cell_type": "code",
   "execution_count": 21,
   "metadata": {
    "slideshow": {
     "slide_type": "fragment"
    }
   },
   "outputs": [
    {
     "ename": "IndexError",
     "evalue": "no such group",
     "output_type": "error",
     "traceback": [
      "\u001b[1;31m---------------------------------------------------------------------------\u001b[0m",
      "\u001b[1;31mIndexError\u001b[0m                                Traceback (most recent call last)",
      "\u001b[1;32m<ipython-input-21-2a132f382cb2>\u001b[0m in \u001b[0;36m<module>\u001b[1;34m()\u001b[0m\n\u001b[1;32m----> 1\u001b[1;33m \u001b[0mm\u001b[0m\u001b[1;33m.\u001b[0m\u001b[0mgroup\u001b[0m\u001b[1;33m(\u001b[0m\u001b[1;36m3\u001b[0m\u001b[1;33m)\u001b[0m\u001b[1;33m\u001b[0m\u001b[0m\n\u001b[0m",
      "\u001b[1;31mIndexError\u001b[0m: no such group"
     ]
    }
   ],
   "source": [
    "m.group(3) "
   ]
  },
  {
   "cell_type": "code",
   "execution_count": null,
   "metadata": {
    "collapsed": true,
    "slideshow": {
     "slide_type": "subslide"
    }
   },
   "outputs": [],
   "source": [
    "# Substitute occurrences of one pattern with another\n",
    "re.sub(r'@\\w+\\.com', '@stanford.edu', 'sam@go.com poohbear@bears.com')\n",
    "# => sam@stanford.edu poohbear@stanford.edu\n",
    "\n",
    "pattern = re.compile(r'[a-z]+[0-9]{3}') # compile pattern for fast ops\n",
    "match = re.search(pattern, '@@@abc123') # pattern is first argument\n",
    "match.span() # (3, 9)"
   ]
  },
  {
   "cell_type": "markdown",
   "metadata": {
    "slideshow": {
     "slide_type": "slide"
    }
   },
   "source": [
    "## itertools\n",
    "### iterators for efficient looping"
   ]
  },
  {
   "cell_type": "markdown",
   "metadata": {
    "slideshow": {
     "slide_type": "subslide"
    }
   },
   "source": [
    "### Combinatorics"
   ]
  },
  {
   "cell_type": "code",
   "execution_count": null,
   "metadata": {
    "collapsed": true,
    "slideshow": {
     "slide_type": "subslide"
    }
   },
   "outputs": [],
   "source": [
    "def view(it): print(*[''.join(els) for els in it])\n",
    "view(itertools.product('ABCD', 'EFGH'))\n",
    "# => AE AF AG AH BE BF BG BH CE CF CG CH DE DF DG DH\n",
    "\n",
    "view(itertools.product('ABCD', repeat=2))\n",
    "# => AA AB AC AD BA BB BC BD CA CB CC CD DA DB DC DD\n",
    "\n",
    "view(itertools.permutations('ABCD', 2))\n",
    "# => AB AC AD BA BC BD CA CB CD DA DB DC\n",
    "\n",
    "view(itertools.combinations('ABCD', 2))\n",
    "# => AB AC AD BC BD CD\n",
    "\n",
    "view(itertools.combinations_with_replacement('ABCD', 2))\n",
    "# => AA AB AC AD BB BC BD CC CD DD"
   ]
  },
  {
   "cell_type": "code",
   "execution_count": null,
   "metadata": {
    "collapsed": true,
    "slideshow": {
     "slide_type": "subslide"
    }
   },
   "outputs": [],
   "source": [
    "# start, [step] -> start, start + step, ...\n",
    "itertools.count(10) # -> 10, 11, 12, 13, 14, ...\n",
    "\n",
    "# Cycle through elements of an iterable\n",
    "itertools.cycle('ABC') # -> 'A', 'B', 'C', 'A', ...\n",
    "\n",
    "# Repeat a single element over and over.\n",
    "itertools.repeat(10) # -> 10, 10, 10, 10, ..."
   ]
  },
  {
   "cell_type": "markdown",
   "metadata": {
    "slideshow": {
     "slide_type": "slide"
    }
   },
   "source": [
    "## random\n",
    "### Generate pseudo-random numbers"
   ]
  },
  {
   "cell_type": "code",
   "execution_count": null,
   "metadata": {
    "collapsed": true,
    "slideshow": {
     "slide_type": "subslide"
    }
   },
   "outputs": [],
   "source": [
    "# Random float x with 0.0 <= x < 1.0\n",
    "random.random() # => 0.37444887175646646\n",
    "\n",
    "# Random float x, 1.0 <= x < 10.0\n",
    "random.uniform(1, 10) # => 1.1800146073117523\n",
    "\n",
    "# Random integer from 1 to 6 (inclusive)\n",
    "random.randint(1, 6) # => 4 (https://xkcd.com/221/)\n",
    "\n",
    "# Random integer from 0 to 9 (inclusive)\n",
    "random.randrange(10) # => 7\n",
    "\n",
    "# Random even integer from 0 to 100 (inclusive)\n",
    "random.randrange(0, 101, 2) # => 26"
   ]
  },
  {
   "cell_type": "code",
   "execution_count": 1,
   "metadata": {
    "slideshow": {
     "slide_type": "subslide"
    }
   },
   "outputs": [
    {
     "name": "stdout",
     "output_type": "stream",
     "text": [
      "[7, 5, 4, 3, 2, 1, 6]\n"
     ]
    },
    {
     "data": {
      "text/plain": [
       "0.24707776115117297"
      ]
     },
     "execution_count": 1,
     "metadata": {},
     "output_type": "execute_result"
    }
   ],
   "source": [
    "import random\n",
    "# Choose a single element\n",
    "random.choice('abcdefghij') # => 'c'\n",
    "\n",
    "items = [1, 2, 3, 4, 5, 6, 7]\n",
    "random.shuffle(items)\n",
    "print(items) # => [7, 3, 2, 5, 6, 4, 1]\n",
    "\n",
    "# k samples without replacement\n",
    "random.sample(range(5), k=3) # => [3, 1, 4]\n",
    "\n",
    "# Sample from statistical distributions (others exist)\n",
    "random.normalvariate(mu=0, sigma=3) # => 2.373780578271"
   ]
  },
  {
   "cell_type": "markdown",
   "metadata": {
    "slideshow": {
     "slide_type": "slide"
    }
   },
   "source": [
    "# Builtin Functions"
   ]
  },
  {
   "cell_type": "code",
   "execution_count": null,
   "metadata": {
    "collapsed": true,
    "slideshow": {
     "slide_type": "subslide"
    }
   },
   "outputs": [],
   "source": [
    "any([True, True, False]) # => True\n",
    "all([True, True, False]) # => False"
   ]
  },
  {
   "cell_type": "code",
   "execution_count": null,
   "metadata": {
    "collapsed": true,
    "slideshow": {
     "slide_type": "subslide"
    }
   },
   "outputs": [],
   "source": [
    "int('45') # => 45\n",
    "int('0x2a', 16) # => 42\n",
    "int('1011', 2) # => 11\n",
    "hex(42) # => '0x2a'\n",
    "bin(42) # => '0b101010'"
   ]
  },
  {
   "cell_type": "code",
   "execution_count": null,
   "metadata": {
    "collapsed": true,
    "slideshow": {
     "slide_type": "subslide"
    }
   },
   "outputs": [],
   "source": [
    "ord('a') # => 97\n",
    "chr(97) # => 'a'"
   ]
  },
  {
   "cell_type": "code",
   "execution_count": 5,
   "metadata": {
    "slideshow": {
     "slide_type": "subslide"
    }
   },
   "outputs": [
    {
     "data": {
      "text/plain": [
       "123.0"
      ]
     },
     "execution_count": 5,
     "metadata": {},
     "output_type": "execute_result"
    }
   ],
   "source": [
    "#round(123.45, 1) # => 123.4\n",
    "round(123.45, 0) # => 100"
   ]
  },
  {
   "cell_type": "code",
   "execution_count": 6,
   "metadata": {
    "slideshow": {
     "slide_type": "subslide"
    }
   },
   "outputs": [
    {
     "data": {
      "text/plain": [
       "'pear'"
      ]
     },
     "execution_count": 6,
     "metadata": {},
     "output_type": "execute_result"
    }
   ],
   "source": [
    "max(2, 3) # => 3\n",
    "max([0, 4, 1]) # => 4\n",
    "min(['apple', 'banana', 'pear'], key=len) # => 0"
   ]
  },
  {
   "cell_type": "code",
   "execution_count": 22,
   "metadata": {
    "slideshow": {
     "slide_type": "subslide"
    }
   },
   "outputs": [
    {
     "data": {
      "text/plain": [
       "15"
      ]
     },
     "execution_count": 22,
     "metadata": {},
     "output_type": "execute_result"
    }
   ],
   "source": [
    "sum([3, 5, 7]) # => 15"
   ]
  },
  {
   "cell_type": "code",
   "execution_count": 23,
   "metadata": {
    "slideshow": {
     "slide_type": "fragment"
    }
   },
   "outputs": [
    {
     "data": {
      "text/plain": [
       "25"
      ]
     },
     "execution_count": 23,
     "metadata": {},
     "output_type": "execute_result"
    }
   ],
   "source": [
    "sum([3, 5, 7], 10) # => 15"
   ]
  },
  {
   "cell_type": "code",
   "execution_count": null,
   "metadata": {
    "collapsed": true,
    "slideshow": {
     "slide_type": "subslide"
    }
   },
   "outputs": [],
   "source": [
    "pow(3, 5) # => 243 (= 3 ** 5)\n",
    "pow(3, 5, 10) # => 3 (= (3 ** 5) % 10, efficiently)"
   ]
  },
  {
   "cell_type": "code",
   "execution_count": null,
   "metadata": {
    "collapsed": true,
    "slideshow": {
     "slide_type": "subslide"
    }
   },
   "outputs": [],
   "source": [
    "quotient, remainder = divmod(10, 6)\n",
    "# quotient, remainder => (1, 4)"
   ]
  },
  {
   "cell_type": "code",
   "execution_count": null,
   "metadata": {
    "collapsed": true,
    "slideshow": {
     "slide_type": "subslide"
    }
   },
   "outputs": [],
   "source": [
    "# Flatten a list of lists (slower than itertools.chain)\n",
    "sum([[3, 5], [1, 7], [4]], []) # => [3, 5, 1, 7, 4]"
   ]
  },
  {
   "cell_type": "markdown",
   "metadata": {
    "slideshow": {
     "slide_type": "slide"
    }
   },
   "source": [
    "# Other Modules"
   ]
  },
  {
   "cell_type": "markdown",
   "metadata": {
    "slideshow": {
     "slide_type": "subslide"
    }
   },
   "source": [
    "- 6.1. string — Common string operations\n",
    "- 7.1. struct — Interpret bytes as packed binary data\n",
    "- 8.1. datetime — Basic date and time types\n",
    "- 9.5. fractions — Rational numbers\n",
    "- 9.7. statistics — Mathematical statistics functions\n",
    "- 10.3. operator — Standard operators as functions\n",
    "- 12.1. pickle — Python object serialization\n",
    "- 14.1. csv — CSV File Reading and Writing\n",
    "- 16.1. os — Miscellaneous operating system interfaces"
   ]
  },
  {
   "cell_type": "markdown",
   "metadata": {
    "slideshow": {
     "slide_type": "subslide"
    }
   },
   "source": [
    "- 16.3. time — Time access and conversions\n",
    "- 16.4. argparse — Parser for command-line options, arguments and sub-commands\n",
    "- 16.6. logging — Logging facility for Python\n",
    "- 17.1. threading — Thread-based parallelism\n",
    "- 17.2. multiprocessing — Process-based parallelism\n",
    "- 18.1. socket — Low-level networking interface \n",
    "- 18.5. asyncio – Asynchronous I/O, event loop, coroutines and tasks"
   ]
  },
  {
   "cell_type": "markdown",
   "metadata": {
    "slideshow": {
     "slide_type": "subslide"
    }
   },
   "source": [
    "- 18.8. signal — Set handlers for asynchronous events\n",
    "- 26.3. unittest — Unit testing framework\n",
    "- 26.6. 2to3 - Automated Python 2 to 3 code translation\n",
    "- 27.3. pdb — The Python Debugger\n",
    "- 27.6. trace — Trace or track Python statement execution\n",
    "- 29.12. inspect — Inspect live objects"
   ]
  },
  {
   "cell_type": "markdown",
   "metadata": {
    "slideshow": {
     "slide_type": "slide"
    }
   },
   "source": [
    "[https://www.youtube.com/watch?v=o9pEzgHorH0](https://www.youtube.com/watch?v=o9pEzgHorH0)\n",
    "\n",
    "[https://www.youtube.com/watch?v=JYuE8ZiDPl4&list=PLs4CJRBY5F1KsK4AbFaPsUT8X8iXc7X84&index=2](https://www.youtube.com/watch?v=JYuE8ZiDPl4&list=PLs4CJRBY5F1KsK4AbFaPsUT8X8iXc7X84&index=2)"
   ]
  }
 ],
 "metadata": {
  "celltoolbar": "Slideshow",
  "kernelspec": {
   "display_name": "Python 3",
   "language": "python",
   "name": "python3"
  },
  "language_info": {
   "codemirror_mode": {
    "name": "ipython",
    "version": 3
   },
   "file_extension": ".py",
   "mimetype": "text/x-python",
   "name": "python",
   "nbconvert_exporter": "python",
   "pygments_lexer": "ipython3",
   "version": "3.7.9"
  }
 },
 "nbformat": 4,
 "nbformat_minor": 2
}
