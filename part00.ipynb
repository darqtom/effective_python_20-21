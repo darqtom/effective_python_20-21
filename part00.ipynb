{
 "cells": [
  {
   "cell_type": "markdown",
   "metadata": {
    "slideshow": {
     "slide_type": "slide"
    }
   },
   "source": [
    "# Efektywne programowanie w języku Python"
   ]
  },
  {
   "cell_type": "markdown",
   "metadata": {
    "slideshow": {
     "slide_type": "slide"
    }
   },
   "source": [
    "## Prowadzący\n",
    "- dr Krzysztof Misztal, krzysztof.misztal@uj.edu.pl, pokój 2164"
   ]
  },
  {
   "cell_type": "markdown",
   "metadata": {
    "collapsed": true,
    "slideshow": {
     "slide_type": "slide"
    }
   },
   "source": [
    "## Sprawy organizacyjne"
   ]
  },
  {
   "cell_type": "markdown",
   "metadata": {
    "slideshow": {
     "slide_type": "slide"
    }
   },
   "source": [
    "#### Kryteria oceny\n",
    "\n",
    "Ocena końcowa z przedmiotu wystawiana jest na podstawie poniższej listy aktywności"
   ]
  },
  {
   "cell_type": "markdown",
   "metadata": {
    "slideshow": {
     "slide_type": "subslide"
    }
   },
   "source": [
    "- (50p) **Kolokwia (zadania rozwiązywane samodzielnie na laboratorium)**\n",
    "\n",
    "    Planowane są dwa kolokwia po 25 punktów każde. \n",
    "    Terminy:\n",
    "    - 17.11.2020\n",
    "    - 05.01.2021\n",
    "    \n",
    "    Kolokwia należy zaliczyć, tzn. uzyskać co najmiej 10 punktów na 25 punktów z każdego, i nie mniej niż 25 punktów z obu - **w przeciwnym przypadku osoba pisze egzamin**.\n",
    "    \n",
    "> Uwaga: Na kolokwium nie można cofać do poprzedniego pytania, a kolejność pytań jest losowa\n",
    "    "
   ]
  },
  {
   "cell_type": "markdown",
   "metadata": {
    "slideshow": {
     "slide_type": "subslide"
    }
   },
   "source": [
    "- (30p) **Projekt**\n",
    "    \n",
    "    Projekt zaliczeniowy będzie dotyczył jednego z tematów, które zostaną przedstawione przez prowadzącego. Projekty będą jedno- lub dwu-osobowe (oczywiście wtedy będą większe). Nie ma tu możliwości oddania projektu z innego przedmiotu, ponieważ celem realizacji projektu jest pogłębienie wiedzy z języka. Projekt będzie oceniany przez wykładowcę i prowadzacych, przy czym kryteria i szczegóły oceny zostaną zaprezentowane odpowiednio wcześniej.\n",
    "    \n",
    "    Przykład projektu: implementacja gry 2048 wraz z botami."
   ]
  },
  {
   "cell_type": "markdown",
   "metadata": {
    "slideshow": {
     "slide_type": "subslide"
    }
   },
   "source": [
    "- (20p) **Aktywność w czasie laboratoriów**\n",
    "\n",
    "    Aktywne uczestnictwo w laboratoriach [subiektywna ocena ćwiczeniowca], m.in. rozwiązywanie zadań podanych podczas zajęć, udział w nich poprzez zadawanie pytań, prowadzenie merytorycznej dyskusji."
   ]
  },
  {
   "cell_type": "markdown",
   "metadata": {
    "slideshow": {
     "slide_type": "subslide"
    }
   },
   "source": [
    "- (10p) **Krótkie prezentacje w czasie laboratoriów**\n",
    "\n",
    "    Na wykładzie będą ogłaszane, krótkie pytania do rozważania/wyszukania. Prezentacja każdego z takich zagadanień będzie oceniana przez wykładowcę w skali od 0 do 5 punktów. Jedna osoba nie może zaprezentować więcej niż 4 odpowiedzi na takie pytania i nie może zgromadzić więcej niż 10 punktów. \n",
    "    \n",
    "    Przykład: jak działa `timeit`"
   ]
  },
  {
   "cell_type": "markdown",
   "metadata": {
    "slideshow": {
     "slide_type": "subslide"
    }
   },
   "source": [
    "Czyli w sumie:\n",
    "- (50p) **Kolokwia**\n",
    "- (30p) **Projekt**\n",
    "- (20p) **Aktywność w czasie laboratoriów**\n",
    "- (10p) **Krótkie prezentacje w czasie laboratoriów**\n",
    "\n",
    "uzyskujemy 110p, zatem 10p jest po to, aby ..."
   ]
  },
  {
   "cell_type": "markdown",
   "metadata": {
    "slideshow": {
     "slide_type": "slide"
    }
   },
   "source": [
    "#### (Nie)Obecności \n",
    "Obecność na laboratoriach jest obowiązkowa. Dopuszcza się dwie nieobecności, bez konieczności usprawiedliwienia. Przekroczenie tego limitu powoduje niezaliczenie przedmiotu, niezależy od liczby zdobytych punktów. \n",
    "\n",
    "Dla osób, które nie będą mogły uczestniczy, w którym kolwiek kolokwium organizowane jest dodatkowe kolokwium w terminie sesji z zagadnień zwiazanych z całym materiałem przerobionym na laboratoriach."
   ]
  },
  {
   "cell_type": "markdown",
   "metadata": {
    "slideshow": {
     "slide_type": "slide"
    }
   },
   "source": [
    "## COVID-19\n",
    "\n",
    "... ??? ... ???"
   ]
  },
  {
   "cell_type": "markdown",
   "metadata": {
    "slideshow": {
     "slide_type": "slide"
    }
   },
   "source": [
    "#### Egzamin\n",
    "Odbędzie się na ostatnim wykładzie, w godzinach 17.00-18.30"
   ]
  },
  {
   "cell_type": "markdown",
   "metadata": {
    "slideshow": {
     "slide_type": "slide"
    }
   },
   "source": [
    "#### Stopnie\n",
    "\n",
    "Ocena końcowa to:\n",
    "- ocena z ćwiczeń w przypadku zaliczenia kolokwiów jak wspomniano wyżej\n",
    "- średnia wyniku z egzaminu (w skali 0-100%) oraz z ćwiczeń (0-100%)\n",
    "\n",
    "Zaliczenie przedmiotu wymaga uzyskania 50% maksymalnej liczby punktów oraz zaliczenie projektu na minimum 11 punktów. Oceny wystawiane są według skali\n",
    "\n",
    "| ocena   | punkty      |\n",
    "|:--------:|:-----------:| \n",
    "| 5.0      | [90%, 100%) |\n",
    "| 4.5      | [80%, 90%)  |\n",
    "| 4.0      | [70%, 80%)  |\n",
    "| 3.5      | [60%, 70%)  |\n",
    "| 3.0      | [50%, 60%)  |"
   ]
  },
  {
   "cell_type": "markdown",
   "metadata": {
    "slideshow": {
     "slide_type": "slide"
    }
   },
   "source": [
    "Osoby, które zaliczą ćwiczenia, lecz w toku normalnych zajęć nie uzyskają wymaganej liczb punktów, będą pisały egzamin w sesji, w zwykłym terminie (i ewnetualnie egzamin poprawowy w sesji poprawkowej). Z egzaminu nie można uzyskać oceny wyższej niż 3.0."
   ]
  },
  {
   "cell_type": "markdown",
   "metadata": {
    "slideshow": {
     "slide_type": "slide"
    }
   },
   "source": [
    "#### Uwagi:\n",
    "1. Nie jest możliwe przepisywanie oceny na podstawie zajęć zrealizowanych na I stopniu studiów.\n",
    "2. Nie wyrażam zgody na rezygnację z przedmiotu ze względu na konieczność utrzymania odpowiedniej liczności w grupach."
   ]
  },
  {
   "cell_type": "markdown",
   "metadata": {
    "slideshow": {
     "slide_type": "slide"
    }
   },
   "source": [
    "## Materiały\n",
    "\n",
    "Kurs jest oparty m.in. na:\n",
    "- http://stanfordpython.com\n",
    "- https://stanford.edu/~schmit/cme193/project.html\n",
    "- https://github.com/gmum/python-lecture\n",
    "- http://workshop-python.readthedocs.io"
   ]
  },
  {
   "cell_type": "markdown",
   "metadata": {
    "slideshow": {
     "slide_type": "slide"
    }
   },
   "source": [
    "## Podstawowe cele tego przedmiotu to:\n",
    "\n",
    "1. Rozwijanie umiętności pisania kodu w Pythonie.\n",
    "2. Nauczenie rozpoznawania \"dobrego\" Pythona.\n",
    "3. Podniesienie doświadczenia w rozwiązywaniu zagadnień programistycznych w Pythonie.\n",
    "4. Zrozumienie kiedy należy a kiedy nie używać Pythona."
   ]
  },
  {
   "cell_type": "markdown",
   "metadata": {
    "slideshow": {
     "slide_type": "slide"
    }
   },
   "source": [
    "## Tematyka\n",
    "\n",
    "- Wprowadzenie do programowania w Pythonie (rozgrzewka, data structures, functions)\n",
    "- Functional programming\n",
    "- Object-oriented Python\n",
    "- Standard library\n",
    "- Cython, Jython, PyPy\n",
    "- Third-party tools: `Pillow`, `scikit-image` – manipulacja  obrazami; `numpy`, `scipy` – obliczenia numeryczne; `matplotlib`, `PyGoogleChart` – tworzenie wykresów; `scikit-learn` – metody uczenia maszynowego; `pandas`, `h5py` – obsługa dużych plików; `django`\n",
    "- Testowanie\n",
    "- Niecodzienne aspekty Pythona\n"
   ]
  },
  {
   "cell_type": "markdown",
   "metadata": {
    "slideshow": {
     "slide_type": "slide"
    }
   },
   "source": [
    "# Wykładów nie można nagrywać ze względu na RODO\n",
    "\n",
    "Wykładowca nie ponosi odpowiedzialności za postępowanie studentów niezgodne z powyższym!"
   ]
  },
  {
   "cell_type": "markdown",
   "metadata": {
    "slideshow": {
     "slide_type": "slide"
    }
   },
   "source": [
    "## Obietnica wykładowcy\n",
    "\n",
    "# Co najmniej 60% czasu wykładu będzie mówił prowadzący"
   ]
  }
 ],
 "metadata": {
  "celltoolbar": "Slideshow",
  "kernelspec": {
   "display_name": "Python 3",
   "language": "python",
   "name": "python3"
  },
  "language_info": {
   "codemirror_mode": {
    "name": "ipython",
    "version": 3
   },
   "file_extension": ".py",
   "mimetype": "text/x-python",
   "name": "python",
   "nbconvert_exporter": "python",
   "pygments_lexer": "ipython3",
   "version": "3.7.9"
  }
 },
 "nbformat": 4,
 "nbformat_minor": 1
}
