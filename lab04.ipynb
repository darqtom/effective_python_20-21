{
 "cells": [
  {
   "cell_type": "markdown",
   "metadata": {},
   "source": [
    "## Lab 04"
   ]
  },
  {
   "cell_type": "markdown",
   "metadata": {},
   "source": [
    "## Zadanie 1 (Igor Sieradzki)"
   ]
  },
  {
   "cell_type": "markdown",
   "metadata": {},
   "source": [
    "Funkcja <t>flow_rate</i> do modyfikacji"
   ]
  },
  {
   "cell_type": "code",
   "execution_count": null,
   "metadata": {
    "collapsed": true
   },
   "outputs": [],
   "source": [
    "def flow_rate(weight, time):\n",
    "    \"\"\" Funkcja wylicza ile wagi produktu przybyło/ubyło w jednostce czasu \"\"\"\n",
    "    return weight / time\n",
    "\n",
    "weight = 0.5\n",
    "time = 3"
   ]
  },
  {
   "cell_type": "code",
   "execution_count": null,
   "metadata": {
    "collapsed": true
   },
   "outputs": [],
   "source": [
    "flow = flow_rate(weight, time)\n",
    "print(\"{0:.3} kg per second\".format(flow))"
   ]
  },
  {
   "cell_type": "code",
   "execution_count": null,
   "metadata": {
    "collapsed": true
   },
   "outputs": [],
   "source": [
    "Zmodyfikuj funckje <i>flow_rate</i> tak, aby poniższe wywołania działały poprawnie."
   ]
  },
  {
   "cell_type": "code",
   "execution_count": null,
   "metadata": {
    "collapsed": true
   },
   "outputs": [],
   "source": [
    "flow = flow_rate(weight, time, period=60, units_per_kg=1000)\n",
    "print(\"{} grams per minute\".format(flow))"
   ]
  },
  {
   "cell_type": "code",
   "execution_count": null,
   "metadata": {
    "collapsed": true
   },
   "outputs": [],
   "source": [
    "flow = flow_rate(weight, time, period=1, units_per_kg=1)\n",
    "print(\"{0:.3} kg per second\".format(flow))"
   ]
  },
  {
   "cell_type": "code",
   "execution_count": null,
   "metadata": {
    "collapsed": true
   },
   "outputs": [],
   "source": [
    "flow = flow_rate(weight, time)\n",
    "print(\"{0:.3} grams per minute\".format(flow))"
   ]
  },
  {
   "cell_type": "markdown",
   "metadata": {},
   "source": [
    "Wyjaśnić czemu poniższe rzucanie błędu jest porządane"
   ]
  },
  {
   "cell_type": "code",
   "execution_count": null,
   "metadata": {
    "collapsed": true
   },
   "outputs": [],
   "source": [
    "try:\n",
    "    flow = flow_rate(weight, time, 3600, 2.2)\n",
    "except TypeError:\n",
    "    print(True)"
   ]
  },
  {
   "cell_type": "markdown",
   "metadata": {},
   "source": [
    "## Zadanie 2 (Igor Sieradzki)"
   ]
  },
  {
   "cell_type": "markdown",
   "metadata": {},
   "source": [
    "Dopisz definicje dekoratora _timeit_, który wypisze na wyjscie standardowe czas wywołania udekorowanej funckji np.\n",
    "\n",
    "```\n",
    "@timeit\n",
    "def foo(x):\n",
    "    return x**2\n",
    "    \n",
    "r = foo(2)\n",
    "```\n",
    "wypize: <br>\n",
    "    `Function foo took: 0.00001 seconds` <br>\n",
    "oraz zwróci 4"
   ]
  },
  {
   "cell_type": "code",
   "execution_count": null,
   "metadata": {
    "collapsed": true
   },
   "outputs": [],
   "source": [
    "from time import time\n",
    "\n",
    "def timeit(func):\n",
    "    \"\"\" Wypisuje czas wywołania udekorowanej funckji \"\"\"\n",
    "    pass\n",
    "\n",
    "@timeit\n",
    "def squares_list(n):\n",
    "    squares = []\n",
    "    for i in range(n):\n",
    "        squares.append(i ** 2)\n",
    "    return squares\n",
    "\n",
    "@timeit\n",
    "def squares_comprehension(n):\n",
    "    return [i ** 2 for i in range(n)]\n",
    "\n",
    "@timeit\n",
    "def squares_map(n):\n",
    "    return map(lambda x: x**2, range(n))\n",
    "\n",
    "n = 1000000\n",
    "l = squares_list(n)\n",
    "c = squares_comprehension(n)\n",
    "m = squares_map(n)"
   ]
  },
  {
   "cell_type": "markdown",
   "metadata": {},
   "source": [
    "## Zadanie 3 (Igor Sieradzki)"
   ]
  },
  {
   "cell_type": "markdown",
   "metadata": {},
   "source": [
    "Dopisz definicje dekoratora _derivate_ wg. instrukcji w _docstringu_"
   ]
  },
  {
   "cell_type": "code",
   "execution_count": null,
   "metadata": {
    "collapsed": true
   },
   "outputs": [],
   "source": [
    "import sys\n",
    "sys.float_info.epsilon # epsilon maszynowy\n",
    "\n",
    "\n",
    "def derivate(epsilon=None):\n",
    "     \"\"\"\n",
    "    Zwraca pochodną funkcji w punkcie, wg. wzoru f'(x) = [f(x+h) - f(x)]/h, \n",
    "    gdzie h jest parametrem dekoratora, jeśli nie zostanie podany, należy przyjąć 1000 * epsilon maszynowy\n",
    "    \"\"\"\n",
    "    pass\n",
    "\n",
    "\n",
    "@derivate(0.01)\n",
    "def f(x):\n",
    "    return x*x\n",
    "\n",
    "@derivate(0.00001)\n",
    "def g(x):\n",
    "    return x*x*x+3\n",
    "\n",
    "def test(a, b, eps=1):\n",
    "    return abs(round(a)-round(b)) < eps\n",
    "\n",
    "print(test(f(100), 200.0))\n",
    "print(round(f(0)) == 0.0)\n",
    "\n",
    "print(test(g(100), 30000.0))\n",
    "print(round(g(0)) == 0.0)\n",
    "\n",
    "from random import random\n",
    "for x in [random()*1000. for _ in range(20)]:\n",
    "    print(f(x), 2*x, '\\t', test(f(x), 2*x))\n",
    "    print(g(x), 3*x**2, '\\t', test(g(x), 3*x**2))"
   ]
  },
  {
   "cell_type": "markdown",
   "metadata": {},
   "source": [
    "## Zadanie 4 (Igor Sieradzki)"
   ]
  },
  {
   "cell_type": "markdown",
   "metadata": {},
   "source": [
    "Dopisz definicje dekoratora _accepts_ wg. instrukcji w _docstringu_"
   ]
  },
  {
   "cell_type": "code",
   "execution_count": null,
   "metadata": {
    "collapsed": true
   },
   "outputs": [],
   "source": [
    "def accepts(*types):\n",
    "    \"\"\"Sprawdza czy udekorowanej funckji zostały podane odpowiednie parametry zdefiniowane \n",
    "       w argumentach dekoratora\"\"\"\n",
    "    pass\n",
    "\n",
    "\n",
    "@accepts(str)\n",
    "def capitalize(word):\n",
    "    return word[0].upper() + word[1:]\n",
    "\n",
    "print(capitalize('ola') == 'Ola')\n",
    "\n",
    "try:\n",
    "    capitalize(2)\n",
    "except TypeError:\n",
    "    print(True)\n",
    "\n",
    "@accepts(float, int)\n",
    "def static_pow(base, exp):\n",
    "    return base ** exp \n",
    "\n",
    "print(static_pow(2., 2) == 4.)\n",
    "print(static_pow(2., exp=2) == 4.)\n",
    "print(static_pow(base=2., exp=2) == 4.)\n",
    "\n",
    "try:\n",
    "    static_pow('x', 10)\n",
    "except TypeError:\n",
    "    print(True)\n",
    "    \n",
    "try:\n",
    "    static_pow(2, 2.2)\n",
    "except TypeError:\n",
    "    print(True)"
   ]
  },
  {
   "cell_type": "markdown",
   "metadata": {},
   "source": [
    "## Zadanie 5 (Igor Sieradzki)"
   ]
  },
  {
   "cell_type": "markdown",
   "metadata": {},
   "source": [
    "Dopisz definicje dekoratora _returns_ wg. instrukcji w _docstringu_"
   ]
  },
  {
   "cell_type": "code",
   "execution_count": null,
   "metadata": {
    "collapsed": true
   },
   "outputs": [],
   "source": [
    "def returns(*types):\n",
    "    \"\"\"Sprawdza czy udekorowana funkcja zwraca poprawne argumenty, zdefiniowane w parametrach dekoratora\"\"\"\n",
    "    pass\n",
    "\n",
    "\n",
    "@returns(str)\n",
    "def str_only_identity(word):\n",
    "    return word\n",
    "\n",
    "print(str_only_identity('hello') == 'hello')\n",
    "\n",
    "try:\n",
    "    str_only_identity(10)\n",
    "except TypeError:\n",
    "    print(True)\n",
    "    \n",
    "@returns(int, int)\n",
    "def split_indices(x):\n",
    "    return x[0], x[1]\n",
    "\n",
    "print(split_indices(x=[6,9]) == (6,9))\n",
    "\n",
    "try:\n",
    "    split('AB')\n",
    "except TypeError:\n",
    "    print(True)"
   ]
  },
  {
   "cell_type": "markdown",
   "metadata": {},
   "source": [
    "## Zadanie 6 (Igor Sieradzki)\n",
    "Stwórz dekorator cached służący do cachowania wywołań dowolnej funkcji, tzn. chcemy by:\n",
    "* wywołanie funkcji z określonymi argumentami miało miejsce tylko raz\n",
    "* funkcja mogła przyjmować dowolną liczbę nazwanych i nienazwanych argumentów\n",
    "* nie musi reagować poprawnie na domyślne argumenty, tzn. wywołanie funkcji z domyślnymi argumentami a podanie dokładnie takich samych może być traktowane jako dwa różne wywołania\n",
    "* na opakowanej funkcji można wywołać `.cache_reset()`, który usunie cache z pamięci\n",
    "* wywołanie `.cache_status()` zwraca string z opisem w postaci: <br>\n",
    "    `Function FUNCTION_NAME called X times, evaluated Y times`"
   ]
  },
  {
   "cell_type": "code",
   "execution_count": null,
   "metadata": {
    "collapsed": true
   },
   "outputs": [],
   "source": [
    "from random import random\n",
    "\n",
    "@cached\n",
    "def foo(x, y=1, z=4):\n",
    "    return random()\n",
    "        \n",
    "print(foo(3) == foo(3))\n",
    "print(foo(4) == foo(4))\n",
    "print(foo(3, z=-1, y=3) == foo(3, y=3, z=-1))\n",
    "print(foo(3) != foo(x=3))\n",
    "a = foo(3)\n",
    "foo.cache_reset()\n",
    "print(a != foo(3))\n",
    "print(foo.cache_status() == 'Function foo called 10 times, evaluated 5 times')"
   ]
  },
  {
   "cell_type": "markdown",
   "metadata": {},
   "source": [
    "## Zadanie 7 (Krzysztof Hajto)"
   ]
  },
  {
   "cell_type": "markdown",
   "metadata": {},
   "source": [
    "Napisz dekorator który będzie robić n-krotne złożenie funkcji, gdzie n jest parametrem dekoratora"
   ]
  },
  {
   "cell_type": "code",
   "execution_count": null,
   "metadata": {
    "collapsed": true
   },
   "outputs": [],
   "source": [
    "def zlozenie(n):\n",
    "    pass\n",
    "\n",
    "@zlozenie(3)\n",
    "def f1(x):\n",
    "    return x+1\n",
    "\n",
    "@zlozenie(2)\n",
    "def f2(x):\n",
    "    return x*x\n",
    "\n",
    "@zlozenie(5)\n",
    "def f3(word):\n",
    "    return \"\".join(chr(ord(l)+1) for l in word)\n",
    "\n",
    "print(f1(2)==5)\n",
    "print(f2(3)==81)\n",
    "print(f3(\"alamakota\")==\"fqfrfptyf\")"
   ]
  },
  {
   "cell_type": "markdown",
   "metadata": {},
   "source": [
    "## Zadanie 8 (Krzysztof Hajto)"
   ]
  },
  {
   "cell_type": "markdown",
   "metadata": {},
   "source": [
    "Python nie ma wbudowanej instrukcji switch. Ale posiada anonimowe funkcje oraz słowniki. Zaimplementuj poniższy switch w postaci słownika funkcji.\n",
    "`\n",
    "int my_function(x, y) {\n",
    "\n",
    "\n",
    "    switch(x) {\n",
    "        case 1: return y*y;\n",
    "        case 2: return x+y;\n",
    "        case 3: return x*y;\n",
    "        case 4: return 0;\n",
    "    }\n",
    "}\n",
    "`\n",
    "\n",
    "PS. Nigdy nie róbcie tego w faktycznym kodzie :)"
   ]
  },
  {
   "cell_type": "code",
   "execution_count": null,
   "metadata": {
    "collapsed": true
   },
   "outputs": [],
   "source": [
    "def my_function(x, y):\n",
    "    pass\n",
    "\n",
    "print(my_function(1,3)==9)\n",
    "print(my_function(2,4)==6)\n",
    "print(my_function(3,1)==3)\n",
    "print(my_function(4,9)==0)"
   ]
  }
 ],
 "metadata": {
  "kernelspec": {
   "display_name": "Python 3",
   "language": "python",
   "name": "python3"
  },
  "language_info": {
   "codemirror_mode": {
    "name": "ipython",
    "version": 3
   },
   "file_extension": ".py",
   "mimetype": "text/x-python",
   "name": "python",
   "nbconvert_exporter": "python",
   "pygments_lexer": "ipython3",
   "version": "3.6.2"
  }
 },
 "nbformat": 4,
 "nbformat_minor": 2
}
