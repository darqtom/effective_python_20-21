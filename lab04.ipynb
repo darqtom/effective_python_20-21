{
 "cells": [
  {
   "cell_type": "markdown",
   "metadata": {},
   "source": [
    "## Lab 04"
   ]
  },
  {
   "cell_type": "markdown",
   "metadata": {},
   "source": [
    "## Zadanie 1 (Igor Sieradzki)"
   ]
  },
  {
   "cell_type": "markdown",
   "metadata": {},
   "source": [
    "Funkcja <t>flow_rate</i> do modyfikacji"
   ]
  },
  {
   "cell_type": "code",
   "execution_count": 220,
   "metadata": {},
   "outputs": [],
   "source": [
    "def flow_rate(weight, time, *, period=1, units_per_kg=1):\n",
    "    \"\"\" Funkcja wylicza ile wagi produktu przybyło/ubyło w jednostce czasu \"\"\"\n",
    "    return weight * units_per_kg / (time / period) \n",
    "\n",
    "weight = 0.5\n",
    "time = 3"
   ]
  },
  {
   "cell_type": "code",
   "execution_count": 221,
   "metadata": {},
   "outputs": [
    {
     "name": "stdout",
     "output_type": "stream",
     "text": [
      "0.167 kg per second\n"
     ]
    }
   ],
   "source": [
    "flow = flow_rate(weight, time)\n",
    "print(\"{0:.3} kg per second\".format(flow))"
   ]
  },
  {
   "cell_type": "code",
   "execution_count": 222,
   "metadata": {},
   "outputs": [
    {
     "ename": "SyntaxError",
     "evalue": "invalid syntax (<ipython-input-222-fbf05e22c559>, line 1)",
     "output_type": "error",
     "traceback": [
      "\u001b[0;36m  File \u001b[0;32m\"<ipython-input-222-fbf05e22c559>\"\u001b[0;36m, line \u001b[0;32m1\u001b[0m\n\u001b[0;31m    Zmodyfikuj funckje flow_rate tak, aby poniższe wywołania działały poprawnie\u001b[0m\n\u001b[0m               ^\u001b[0m\n\u001b[0;31mSyntaxError\u001b[0m\u001b[0;31m:\u001b[0m invalid syntax\n"
     ]
    }
   ],
   "source": [
    "Zmodyfikuj funckje flow_rate tak, aby poniższe wywołania działały poprawnie"
   ]
  },
  {
   "cell_type": "code",
   "execution_count": 223,
   "metadata": {},
   "outputs": [
    {
     "name": "stdout",
     "output_type": "stream",
     "text": [
      "10000.0 grams per minute\n"
     ]
    }
   ],
   "source": [
    "flow = flow_rate(weight, time, period=60, units_per_kg=1000)\n",
    "print(\"{} grams per minute\".format(flow))"
   ]
  },
  {
   "cell_type": "code",
   "execution_count": 224,
   "metadata": {},
   "outputs": [
    {
     "name": "stdout",
     "output_type": "stream",
     "text": [
      "0.167 kg per second\n"
     ]
    }
   ],
   "source": [
    "flow = flow_rate(weight, time, period=1, units_per_kg=1)\n",
    "print(\"{0:.3} kg per second\".format(flow))"
   ]
  },
  {
   "cell_type": "code",
   "execution_count": 225,
   "metadata": {},
   "outputs": [
    {
     "name": "stdout",
     "output_type": "stream",
     "text": [
      "0.167 grams per minute\n"
     ]
    }
   ],
   "source": [
    "flow = flow_rate(weight, time)\n",
    "print(\"{0:.3} grams per minute\".format(flow))"
   ]
  },
  {
   "cell_type": "markdown",
   "metadata": {},
   "source": [
    "Wyjaśnić czemu poniższe rzucanie błędu jest porządane"
   ]
  },
  {
   "cell_type": "code",
   "execution_count": 59,
   "metadata": {},
   "outputs": [
    {
     "name": "stdout",
     "output_type": "stream",
     "text": [
      "True\n"
     ]
    }
   ],
   "source": [
    "try:\n",
    "    flow = flow_rate(weight, time, 3600, 2.2)\n",
    "except TypeError:\n",
    "    print(True)"
   ]
  },
  {
   "cell_type": "markdown",
   "metadata": {},
   "source": [
    "## Zadanie 2 (Igor Sieradzki)"
   ]
  },
  {
   "cell_type": "markdown",
   "metadata": {},
   "source": [
    "Dopisz definicje dekoratora _timeit_, który wypisze na wyjscie standardowe czas wywołania udekorowanej funckji np.\n",
    "\n",
    "```\n",
    "@timeit\n",
    "def foo(x):\n",
    "    return x**2\n",
    "    \n",
    "r = foo(2)\n",
    "```\n",
    "wypize: <br>\n",
    "    `Function foo took: 0.00001 seconds` <br>\n",
    "oraz zwróci 4"
   ]
  },
  {
   "cell_type": "code",
   "execution_count": 226,
   "metadata": {},
   "outputs": [
    {
     "name": "stdout",
     "output_type": "stream",
     "text": [
      "Function squares_list took: 0.40796 seconds\n",
      "Function squares_comprehension took: 0.35592 seconds\n",
      "Function squares_map took: 3.0994e-06 seconds\n"
     ]
    }
   ],
   "source": [
    "from time import time\n",
    "\n",
    "def timeit(func):\n",
    "    \"\"\" Wypisuje czas wywołania udekorowanej funckji \"\"\"\n",
    "    def inner(*args, **kwargs):\n",
    "        t1 = time()\n",
    "        res = func(*args, **kwargs)\n",
    "        t2 = time()\n",
    "        print(f'Function {func.__name__} took: {t2 - t1:.5} seconds')\n",
    "        return res\n",
    "    return inner\n",
    "\n",
    "@timeit\n",
    "def squares_list(n):\n",
    "    squares = []\n",
    "    for i in range(n):\n",
    "        squares.append(i ** 2)\n",
    "    return squares\n",
    "\n",
    "@timeit\n",
    "def squares_comprehension(n):\n",
    "    return [i ** 2 for i in range(n)]\n",
    "\n",
    "@timeit\n",
    "def squares_map(n):\n",
    "    return map(lambda x: x**2, range(n))\n",
    "\n",
    "n = 1000000\n",
    "l = squares_list(n)\n",
    "c = squares_comprehension(n)\n",
    "m = squares_map(n)\n"
   ]
  },
  {
   "cell_type": "markdown",
   "metadata": {},
   "source": [
    "## Zadanie 3 (Igor Sieradzki)"
   ]
  },
  {
   "cell_type": "markdown",
   "metadata": {},
   "source": [
    "Dopisz definicje dekoratora _derivate_ wg. instrukcji w _docstringu_"
   ]
  },
  {
   "cell_type": "code",
   "execution_count": 229,
   "metadata": {},
   "outputs": [
    {
     "name": "stdout",
     "output_type": "stream",
     "text": [
      "True\n",
      "True\n",
      "True\n",
      "True\n",
      "775.129189772997 775.119189775683 \t True\n",
      "450607.32886195177 450607.31876888353 \t True\n",
      "1402.6151010708418 1402.6051010709202 \t True\n",
      "1475475.8238792417 1475475.802162625 \t True\n",
      "1792.207194736693 1792.1971947323955 \t True\n",
      "2408978.1165122986 2408978.0886050006 \t True\n",
      "471.69988501555054 471.6898850165907 \t True\n",
      "166868.51773411036 166868.51072022345 \t True\n",
      "1873.2046677498147 1873.1946677525239 \t True\n",
      "2631643.7244415283 2631643.697472366 \t True\n",
      "201.1697348942107 201.15973489420645 \t True\n",
      "30348.93223084509 30348.929207030567 \t True\n",
      "887.2705961024622 887.2605961030287 \t True\n",
      "590423.5363006592 590423.5240478263 \t True\n",
      "1312.3986672377214 1312.388667241687 \t True\n",
      "1291773.0271816254 1291773.0104283087 \t True\n",
      "1335.9346752229612 1335.9246752190684 \t True\n",
      "1338521.0752487183 1338521.05339438 \t True\n",
      "190.8382467498086 190.82824674977573 \t True\n",
      "27311.56768277287 27311.56481819497 \t True\n",
      "1128.1620381458197 1128.152038146544 \t True\n",
      "954545.2833175658 954545.2658806511 \t True\n",
      "111.63511473137078 111.62511473140113 \t True\n",
      "9345.126355765387 9345.124679098848 \t True\n",
      "423.55398061918095 423.543980619852 \t True\n",
      "134542.1338453889 134542.12763948218 \t True\n",
      "1774.8996214126237 1774.8896214143606 \t True\n",
      "2362674.903869629 2362674.8761533094 \t True\n",
      "652.2653267136775 652.2553267142035 \t True\n",
      "319077.76817679405 319077.75842028926 \t True\n",
      "1857.0426243823022 1857.0326243884856 \t True\n",
      "2586427.652835846 2586427.6260323897 \t True\n",
      "531.6211640485562 531.6111640485049 \t True\n",
      "211957.82944560048 211957.82230575476 \t True\n",
      "473.0344764975598 473.02447649760705 \t True\n",
      "167814.12363052368 167814.1165243764 \t True\n",
      "1114.552690187702 1114.542690192885 \t True\n",
      "931654.068827629 931654.0561967948 \t True\n",
      "806.0069513943745 805.9969513947265 \t True\n",
      "487223.3241796493 487223.3142431948 \t True\n"
     ]
    }
   ],
   "source": [
    "import sys\n",
    "sys.float_info.epsilon # epsilon maszynowy\n",
    "\n",
    "\n",
    "def derivate(epsilon=None):\n",
    "    \"\"\"\n",
    "    Zwraca pochodną funkcji w punkcie, wg. wzoru f'(x) = [f(x+h) - f(x)]/h, \n",
    "    gdzie h jest parametrem dekoratora, jeśli nie zostanie podany, należy przyjąć 1000 * epsilon maszynowy\n",
    "    \"\"\"\n",
    "    def wrapper(func): \n",
    "        def inner(arg):\n",
    "            h = epsilon if epsilon else 1000 * sys.float_info.epsilon\n",
    "            return (func(arg + h) - func(arg)) / h\n",
    "        return inner\n",
    "    return wrapper\n",
    "\n",
    "\n",
    "@derivate(0.01)\n",
    "def f(x):\n",
    "    return x*x\n",
    "\n",
    "@derivate(0.00001)\n",
    "def g(x):\n",
    "    return x*x*x+3\n",
    "\n",
    "def test(a, b, eps=1):\n",
    "    return abs(round(a)-round(b)) < eps\n",
    "\n",
    "print(test(f(100), 200.0))\n",
    "print(round(f(0)) == 0.0)\n",
    "\n",
    "print(test(g(100), 30000.0))\n",
    "print(round(g(0)) == 0.0)\n",
    "\n",
    "from random import random\n",
    "for x in [random()*1000. for _ in range(20)]:\n",
    "    print(f(x), 2*x, '\\t', test(f(x), 2*x))\n",
    "    print(g(x), 3*x**2, '\\t', test(g(x), 3*x**2))"
   ]
  },
  {
   "cell_type": "markdown",
   "metadata": {},
   "source": [
    "## Zadanie 4 (Igor Sieradzki)"
   ]
  },
  {
   "cell_type": "markdown",
   "metadata": {},
   "source": [
    "Dopisz definicje dekoratora _accepts_ wg. instrukcji w _docstringu_"
   ]
  },
  {
   "cell_type": "code",
   "execution_count": 230,
   "metadata": {},
   "outputs": [
    {
     "name": "stdout",
     "output_type": "stream",
     "text": [
      "True\n",
      "True\n",
      "True\n",
      "True\n",
      "True\n",
      "True\n",
      "True\n"
     ]
    }
   ],
   "source": [
    "def accepts(*types):\n",
    "    \"\"\"Sprawdza czy udekorowanej funckji zostały podane odpowiednie parametry zdefiniowane \n",
    "       w argumentach dekoratora\"\"\"\n",
    "    def wrapper(func):\n",
    "        def inner(*args, **kwargs):\n",
    "            all_args = list(args) + [v for v in kwargs.values()]\n",
    "            if len(types) == len(all_args):\n",
    "                if all(isinstance(a, t) for a, t in zip(all_args, types)):\n",
    "                    return func(*args, **kwargs)\n",
    "            raise TypeError()\n",
    "        return inner\n",
    "    return wrapper\n",
    "\n",
    "\n",
    "@accepts(str)\n",
    "def capitalize(word):\n",
    "    return word[0].upper() + word[1:]\n",
    "\n",
    "print(capitalize('ola') == 'Ola')\n",
    "\n",
    "try:\n",
    "    capitalize(2)\n",
    "except TypeError:\n",
    "    print(True)\n",
    "\n",
    "@accepts(float, int)\n",
    "def static_pow(base, exp):\n",
    "    return base ** exp \n",
    "\n",
    "print(static_pow(2., 2) == 4.)\n",
    "print(static_pow(2., exp=2) == 4.)\n",
    "print(static_pow(base=2., exp=2) == 4.)\n",
    "\n",
    "try:\n",
    "    static_pow('x', 10)\n",
    "except TypeError:\n",
    "    print(True)\n",
    "    \n",
    "try:\n",
    "    static_pow(2, 2.2)\n",
    "except TypeError:\n",
    "    print(True)"
   ]
  },
  {
   "cell_type": "markdown",
   "metadata": {},
   "source": [
    "## Zadanie 5 (Igor Sieradzki)"
   ]
  },
  {
   "cell_type": "markdown",
   "metadata": {},
   "source": [
    "Dopisz definicje dekoratora _returns_ wg. instrukcji w _docstringu_"
   ]
  },
  {
   "cell_type": "code",
   "execution_count": 239,
   "metadata": {},
   "outputs": [
    {
     "ename": "TypeError",
     "evalue": "'int' object is not iterable",
     "output_type": "error",
     "traceback": [
      "\u001b[0;31m---------------------------------------------------------------------------\u001b[0m",
      "\u001b[0;31mTypeError\u001b[0m                                 Traceback (most recent call last)",
      "\u001b[0;32m<ipython-input-239-2639a2663faf>\u001b[0m in \u001b[0;36m<module>\u001b[0;34m\u001b[0m\n\u001b[1;32m     22\u001b[0m     \u001b[0;32mreturn\u001b[0m \u001b[0;36m1\u001b[0m\u001b[0;34m\u001b[0m\u001b[0;34m\u001b[0m\u001b[0m\n\u001b[1;32m     23\u001b[0m \u001b[0;34m\u001b[0m\u001b[0m\n\u001b[0;32m---> 24\u001b[0;31m \u001b[0mprint\u001b[0m\u001b[0;34m(\u001b[0m\u001b[0mstr_only_identity\u001b[0m\u001b[0;34m(\u001b[0m\u001b[0;34m'hello'\u001b[0m\u001b[0;34m)\u001b[0m \u001b[0;34m==\u001b[0m \u001b[0;34m'hello'\u001b[0m\u001b[0;34m)\u001b[0m\u001b[0;34m\u001b[0m\u001b[0;34m\u001b[0m\u001b[0m\n\u001b[0m\u001b[1;32m     25\u001b[0m \u001b[0;34m\u001b[0m\u001b[0m\n\u001b[1;32m     26\u001b[0m \u001b[0;32mtry\u001b[0m\u001b[0;34m:\u001b[0m\u001b[0;34m\u001b[0m\u001b[0;34m\u001b[0m\u001b[0m\n",
      "\u001b[0;32m<ipython-input-239-2639a2663faf>\u001b[0m in \u001b[0;36minner\u001b[0;34m(*args, **kwargs)\u001b[0m\n\u001b[1;32m     10\u001b[0m                 \u001b[0;32mraise\u001b[0m \u001b[0mTypeError\u001b[0m\u001b[0;34m(\u001b[0m\u001b[0;34m)\u001b[0m\u001b[0;34m\u001b[0m\u001b[0;34m\u001b[0m\u001b[0m\n\u001b[1;32m     11\u001b[0m \u001b[0;34m\u001b[0m\u001b[0m\n\u001b[0;32m---> 12\u001b[0;31m             \u001b[0;32mif\u001b[0m \u001b[0mall\u001b[0m\u001b[0;34m(\u001b[0m\u001b[0misinstance\u001b[0m\u001b[0;34m(\u001b[0m\u001b[0ma\u001b[0m\u001b[0;34m,\u001b[0m \u001b[0mt\u001b[0m\u001b[0;34m)\u001b[0m \u001b[0;32mfor\u001b[0m \u001b[0ma\u001b[0m\u001b[0;34m,\u001b[0m \u001b[0mt\u001b[0m \u001b[0;32min\u001b[0m \u001b[0mzip\u001b[0m\u001b[0;34m(\u001b[0m\u001b[0mres\u001b[0m\u001b[0;34m,\u001b[0m \u001b[0mtypes\u001b[0m\u001b[0;34m)\u001b[0m\u001b[0;34m)\u001b[0m\u001b[0;34m:\u001b[0m\u001b[0;34m\u001b[0m\u001b[0;34m\u001b[0m\u001b[0m\n\u001b[0m\u001b[1;32m     13\u001b[0m                 \u001b[0;32mreturn\u001b[0m \u001b[0mres\u001b[0m\u001b[0;34m\u001b[0m\u001b[0;34m\u001b[0m\u001b[0m\n\u001b[1;32m     14\u001b[0m             \u001b[0;32melse\u001b[0m\u001b[0;34m:\u001b[0m\u001b[0;34m\u001b[0m\u001b[0;34m\u001b[0m\u001b[0m\n",
      "\u001b[0;31mTypeError\u001b[0m: 'int' object is not iterable"
     ]
    }
   ],
   "source": [
    "def returns(*types):\n",
    "    \"\"\"Sprawdza czy udekorowana funkcja zwraca poprawne argumenty, zdefiniowane w parametrach dekoratora\"\"\"\n",
    "    def wrapper(func):\n",
    "        def inner(*args, **kwargs):\n",
    "            res = func(*args, **kwargs)\n",
    "            if (\n",
    "                not isinstance(res, tuple) and len((res,)) != len(types)\n",
    "                or isinstance(res, tuple) and len(res) != len(types)\n",
    "            ):\n",
    "                raise TypeError()\n",
    "\n",
    "            if all(isinstance(a, t) for a, t in zip(res, types)):\n",
    "                return res\n",
    "            else:\n",
    "                raise TypeError()\n",
    "        return inner\n",
    "    return wrapper\n",
    "\n",
    "\n",
    "@returns(int)\n",
    "def str_only_identity(word):\n",
    "    return 1\n",
    "\n",
    "print(str_only_identity('hello') == 'hello')\n",
    "\n",
    "try:\n",
    "    str_only_identity(10)\n",
    "except TypeError:\n",
    "    print(True)\n",
    "    \n",
    "@returns(int, int)\n",
    "def split_indices(x):\n",
    "    return x[0], x[1]\n",
    "\n",
    "print(split_indices(x=[6,9]) == (6,9))\n",
    "\n",
    "try:\n",
    "    split_indices('AB')\n",
    "except TypeError:\n",
    "    print(True)"
   ]
  },
  {
   "cell_type": "markdown",
   "metadata": {},
   "source": [
    "## Zadanie 6 (Igor Sieradzki)\n",
    "Stwórz dekorator cached służący do cachowania wywołań dowolnej funkcji, tzn. chcemy by:\n",
    "* wywołanie funkcji z określonymi argumentami miało miejsce tylko raz\n",
    "* funkcja mogła przyjmować dowolną liczbę nazwanych i nienazwanych argumentów\n",
    "* nie musi reagować poprawnie na domyślne argumenty, tzn. wywołanie funkcji z domyślnymi argumentami a podanie dokładnie takich samych może być traktowane jako dwa różne wywołania\n",
    "* na opakowanej funkcji można wywołać `.cache_reset()`, który usunie cache z pamięci\n",
    "* wywołanie `.cache_status()` zwraca string z opisem w postaci: <br>\n",
    "    `Function FUNCTION_NAME called X times, evaluated Y times`"
   ]
  },
  {
   "cell_type": "code",
   "execution_count": null,
   "metadata": {
    "collapsed": true
   },
   "outputs": [],
   "source": [
    "from random import random\n",
    "\n",
    "@cached\n",
    "def foo(x, y=1, z=4):\n",
    "    return random()\n",
    "        \n",
    "print(foo(3) == foo(3))\n",
    "print(foo(4) == foo(4))\n",
    "print(foo(3, z=-1, y=3) == foo(3, y=3, z=-1))\n",
    "print(foo(3) != foo(x=3))\n",
    "a = foo(3)\n",
    "foo.cache_reset()\n",
    "print(a != foo(3))\n",
    "print(foo.cache_status() == 'Function foo called 10 times, evaluated 5 times')"
   ]
  },
  {
   "cell_type": "markdown",
   "metadata": {},
   "source": [
    "## Zadanie 7 (Krzysztof Hajto)"
   ]
  },
  {
   "cell_type": "markdown",
   "metadata": {},
   "source": [
    "Napisz dekorator który będzie robić n-krotne złożenie funkcji, gdzie n jest parametrem dekoratora"
   ]
  },
  {
   "cell_type": "code",
   "execution_count": null,
   "metadata": {
    "collapsed": true
   },
   "outputs": [],
   "source": [
    "def zlozenie(n):\n",
    "    pass\n",
    "\n",
    "@zlozenie(3)\n",
    "def f1(x):\n",
    "    return x+1\n",
    "\n",
    "@zlozenie(2)\n",
    "def f2(x):\n",
    "    return x*x\n",
    "\n",
    "@zlozenie(5)\n",
    "def f3(word):\n",
    "    return \"\".join(chr(ord(l)+1) for l in word)\n",
    "\n",
    "print(f1(2)==5)\n",
    "print(f2(3)==81)\n",
    "print(f3(\"alamakota\")==\"fqfrfptyf\")"
   ]
  },
  {
   "cell_type": "markdown",
   "metadata": {},
   "source": [
    "## Zadanie 8 (Krzysztof Hajto)"
   ]
  },
  {
   "cell_type": "markdown",
   "metadata": {},
   "source": [
    "Python nie ma wbudowanej instrukcji switch. Ale posiada anonimowe funkcje oraz słowniki. Zaimplementuj poniższy switch w postaci słownika funkcji.\n",
    "`\n",
    "int my_function(x, y) {\n",
    "\n",
    "\n",
    "    switch(x) {\n",
    "        case 1: return y*y;\n",
    "        case 2: return x+y;\n",
    "        case 3: return x*y;\n",
    "        case 4: return 0;\n",
    "    }\n",
    "}\n",
    "`\n",
    "\n",
    "PS. Nigdy nie róbcie tego w faktycznym kodzie :)"
   ]
  },
  {
   "cell_type": "code",
   "execution_count": null,
   "metadata": {
    "collapsed": true
   },
   "outputs": [],
   "source": [
    "def my_function(x, y):\n",
    "    pass\n",
    "\n",
    "print(my_function(1,3)==9)\n",
    "print(my_function(2,4)==6)\n",
    "print(my_function(3,1)==3)\n",
    "print(my_function(4,9)==0)"
   ]
  }
 ],
 "metadata": {
  "kernelspec": {
   "display_name": "Python 3",
   "language": "python",
   "name": "python3"
  },
  "language_info": {
   "codemirror_mode": {
    "name": "ipython",
    "version": 3
   },
   "file_extension": ".py",
   "mimetype": "text/x-python",
   "name": "python",
   "nbconvert_exporter": "python",
   "pygments_lexer": "ipython3",
   "version": "3.8.0"
  }
 },
 "nbformat": 4,
 "nbformat_minor": 2
}
