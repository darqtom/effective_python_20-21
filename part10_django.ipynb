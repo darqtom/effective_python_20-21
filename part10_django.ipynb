{
 "cells": [
  {
   "cell_type": "markdown",
   "metadata": {
    "slideshow": {
     "slide_type": "slide"
    }
   },
   "source": [
    "# Efektywne programowanie w języku Python \n",
    "\n",
    "## wykład 8"
   ]
  },
  {
   "cell_type": "markdown",
   "metadata": {
    "slideshow": {
     "slide_type": "slide"
    }
   },
   "source": [
    "![alt text](images/django.png \"Guido van Rossum\")"
   ]
  },
  {
   "cell_type": "markdown",
   "metadata": {
    "slideshow": {
     "slide_type": "slide"
    }
   },
   "source": [
    "https://www.youtube.com/watch?v=eUdM9vrCbow"
   ]
  },
  {
   "cell_type": "markdown",
   "metadata": {
    "slideshow": {
     "slide_type": "slide"
    }
   },
   "source": [
    "## **Django** to webowy framework wysokiego poziomu napisany w Pythonie z myślą o szybkim rozwoju aplikacji, posiadający przejrzystą i pragmatyczną architekturę."
   ]
  },
  {
   "cell_type": "markdown",
   "metadata": {
    "slideshow": {
     "slide_type": "slide"
    }
   },
   "source": [
    "# Dlaczego?\n",
    "https://docs.djangoproject.com/pl/2.2/faq/general/#why-does-this-project-exist"
   ]
  },
  {
   "cell_type": "markdown",
   "metadata": {
    "slideshow": {
     "slide_type": "subslide"
    }
   },
   "source": [
    "#### Dlaczego ten projekt istnieje?"
   ]
  },
  {
   "cell_type": "markdown",
   "metadata": {
    "slideshow": {
     "slide_type": "fragment"
    }
   },
   "source": [
    "Django wyrosło z bardzo praktycznej potrzeby: World Online, projekt gazety internetowej, jest odpowiedzialne za budowanie rozległych aplikacji WWW na dziennikarskich deadline’ach. W dynamicznym newsroomie, World Online ma często tylko kilka godzin, aby skomplikowaną aplikację webową przeprowadzić od pomysłu do publicznego uruchomienia.\n",
    "\n",
    "Jesienią 2003 deweloperzy World Online (Adrian Holovaty i Simon Willison) porzucili PHP i zaczęli używać Pythona do rozwijania swoich stron. Tworząc rozległe, bardzo interaktywne witryny, takie jak Lawrence.com, zaczęli ekstrahować ogólny web-deweloperski framework, który pozwalał im budować aplikacje WWW coraz to szybciej. Usprawniali stale ten framework, przez dwa lata dodając poprawki.\n",
    "\n",
    "Latem 2005 World Online postanowiło z-open-source’ować wynikowe oprogramowanie, Django."
   ]
  },
  {
   "cell_type": "markdown",
   "metadata": {
    "slideshow": {
     "slide_type": "subslide"
    }
   },
   "source": [
    "#### Co znaczy „Django” i jak wymawiać tę nazwę?"
   ]
  },
  {
   "cell_type": "markdown",
   "metadata": {
    "slideshow": {
     "slide_type": "fragment"
    }
   },
   "source": [
    "![alt text](images/Django_Reinhardt.jpg \"Guido van Rossum\")"
   ]
  },
  {
   "cell_type": "markdown",
   "metadata": {
    "slideshow": {
     "slide_type": "fragment"
    }
   },
   "source": [
    "Django zostało nazwane imieniem **Django Reinhardta**, gitarzysty gypsy jazz z lat 30. do wczesnych 50. XX wieku. Do dnia dzisiejszego jest on uważany za jednego z najlepszych gitarzystów jazzowych wszechczasów."
   ]
  },
  {
   "cell_type": "markdown",
   "metadata": {
    "slideshow": {
     "slide_type": "subslide"
    }
   },
   "source": [
    "#### Czy Django jest stabilne?"
   ]
  },
  {
   "cell_type": "markdown",
   "metadata": {
    "slideshow": {
     "slide_type": "fragment"
    }
   },
   "source": [
    "Tak, jest całkiem stabilne. Firmy takie jak Disqus, Instagram, Pinterest i Mozilla używają Django od wielu lat. Strony budowane na Django przetrwały skoki odwiedzin rzędu ponad 50 tysięcy odsłon na sekundę."
   ]
  },
  {
   "cell_type": "markdown",
   "metadata": {
    "slideshow": {
     "slide_type": "subslide"
    }
   },
   "source": [
    "#### Jakie strony używają Django?"
   ]
  },
  {
   "cell_type": "markdown",
   "metadata": {
    "slideshow": {
     "slide_type": "fragment"
    }
   },
   "source": [
    "[DjangoSites.org](http://djangoSites.org) posiada stale rosnącą listę stron działających dzięki Django."
   ]
  },
  {
   "cell_type": "markdown",
   "metadata": {
    "slideshow": {
     "slide_type": "slide"
    }
   },
   "source": [
    "## Pierwszy projekt"
   ]
  },
  {
   "cell_type": "markdown",
   "metadata": {
    "slideshow": {
     "slide_type": "subslide"
    }
   },
   "source": [
    "Wydajemy polecenie \n",
    "\n",
    "`django-admin startproject testing`\n",
    "\n",
    "gdzie `testing` to nazwa projektu, który chcemy utworzyć. \n",
    "\n",
    "Uwaga: Po instalacji konieczne może być nadanie praw uruchamiania dla pliku django-admin.py pod linuksem, w przypadku windowsa zostanie uruchomiony odpowiedni plik django-admin.exe."
   ]
  },
  {
   "cell_type": "markdown",
   "metadata": {
    "slideshow": {
     "slide_type": "subslide"
    }
   },
   "source": [
    "### Uruchmienie projektu - serwer developerski\n",
    "\n",
    "Sprawdzamy czy udało nam się porawnie utworzyc projekt, w tym celu przechodzimy do katalogu testing wydając polecenie \n",
    "\n",
    "`cd testing`\n",
    "\n",
    "a następnie \n",
    "\n",
    "`python manage.py runserver`"
   ]
  },
  {
   "cell_type": "markdown",
   "metadata": {
    "slideshow": {
     "slide_type": "subslide"
    }
   },
   "source": [
    "w efekcie tego na konsoli pojawi się "
   ]
  },
  {
   "cell_type": "markdown",
   "metadata": {
    "slideshow": {
     "slide_type": "fragment"
    }
   },
   "source": [
    "![alt text](images/django_runserver-1078x243.png \"Guido van Rossum\")"
   ]
  },
  {
   "cell_type": "markdown",
   "metadata": {
    "slideshow": {
     "slide_type": "subslide"
    }
   },
   "source": [
    "następnie przechodzimy do przeglądarki i wpisujemy adres http://127.0.0.1:8000/ i oto mamy działający projekt django który wygląda tak"
   ]
  },
  {
   "cell_type": "markdown",
   "metadata": {
    "slideshow": {
     "slide_type": "fragment"
    }
   },
   "source": [
    "![alt text](images/django_runserver_web-942x334.png \"Guido van Rossum\")"
   ]
  },
  {
   "cell_type": "markdown",
   "metadata": {
    "slideshow": {
     "slide_type": "slide"
    }
   },
   "source": [
    "## Struktura projektu"
   ]
  },
  {
   "cell_type": "markdown",
   "metadata": {
    "slideshow": {
     "slide_type": "subslide"
    }
   },
   "source": [
    "![alt text](images/structure-461x227.png \"Guido van Rossum\")"
   ]
  },
  {
   "cell_type": "markdown",
   "metadata": {
    "slideshow": {
     "slide_type": "subslide"
    }
   },
   "source": [
    "W detalach wygląda to tak:\n",
    "\n",
    "- `manage.py`: Działające z linii poleceń narzędzie, które pozwala na interakcję z projektem Django na różne sposoby.\n",
    "- `testing/__init__.py`: Pusty plik informujący Pythona o tym, że katalog nadrzędny powinien być traktowany jako pakiet Pythona\n",
    "- `testing/wsgi.py`: [Plik uławiający deployment](https://docs.djangoproject.com/en/1.10/howto/deployment/wsgi/) naszego projektu na serwerze.\n",
    "- `testing/settings.py`: [Ustawienia/konfiguracja](https://docs.djangoproject.com/en/1.10/ref/settings/) dla tego projektu Django.\n",
    "- `testing/urls.py`: [Deklaracja adresów URL](https://docs.djangoproject.com/en/1.10/topics/http/urls/) dla tego projektu Django; “mapa serwisu” Twojej strony zbudowanej w oparciu o Django."
   ]
  },
  {
   "cell_type": "markdown",
   "metadata": {
    "slideshow": {
     "slide_type": "slide"
    }
   },
   "source": [
    "### Plik konfiguracyjny - `settings.py`"
   ]
  },
  {
   "cell_type": "code",
   "execution_count": null,
   "metadata": {
    "collapsed": true,
    "slideshow": {
     "slide_type": "subslide"
    }
   },
   "outputs": [],
   "source": [
    "\"\"\"\n",
    "Django settings for django_testing project.\n",
    "\n",
    "Generated by 'django-admin startproject' using Django 1.11.7.\n",
    "\n",
    "For more information on this file, see\n",
    "https://docs.djangoproject.com/en/1.11/topics/settings/\n",
    "\n",
    "For the full list of settings and their values, see\n",
    "https://docs.djangoproject.com/en/1.11/ref/settings/\n",
    "\"\"\"\n",
    "\n",
    "import os\n",
    "\n",
    "# Build paths inside the project like this: os.path.join(BASE_DIR, ...)\n",
    "BASE_DIR = os.path.dirname(os.path.dirname(os.path.abspath(__file__)))"
   ]
  },
  {
   "cell_type": "code",
   "execution_count": null,
   "metadata": {
    "collapsed": true,
    "slideshow": {
     "slide_type": "slide"
    }
   },
   "outputs": [],
   "source": [
    "# SECURITY WARNING: keep the secret key used in production secret!\n",
    "SECRET_KEY = '(d1hw(y^d7(!3)natviq#=a)do3y2qcsjwh3udh%^y$#8@r7e@'"
   ]
  },
  {
   "cell_type": "markdown",
   "metadata": {
    "slideshow": {
     "slide_type": "fragment"
    }
   },
   "source": [
    "SECRET_KEY to seed używany przez Django przy generowaniu sum kontrolnych dla rzeczy krytycznych dla bezpieczeństwa.\n",
    "\n",
    "Dzięki niemu Django wie że zserializowana zawartość w sesji/cache jest bezpieczna. (Serializacja przez pickle zwraca bytecode pythona który po wywołaniu ma odtworzyć oryginalną strukturę danych, ale przy deserializacji moduł nie sprawdza co tak naprawdę bytecode robi więc można tego użyć do wstrzyknięcia w aplikację złośliwego kodu).\n",
    "\n",
    "Używa się tego również do zaszyfrowania i odszyfrowania JSON'a z nowym hasłem który przesyła się userowi w emailu przy resecie zapomnianego hasła."
   ]
  },
  {
   "cell_type": "code",
   "execution_count": null,
   "metadata": {
    "collapsed": true,
    "slideshow": {
     "slide_type": "subslide"
    }
   },
   "outputs": [],
   "source": [
    "# SECURITY WARNING: don't run with debug turned on in production!\n",
    "DEBUG = True"
   ]
  },
  {
   "cell_type": "code",
   "execution_count": null,
   "metadata": {
    "collapsed": true,
    "slideshow": {
     "slide_type": "fragment"
    }
   },
   "outputs": [],
   "source": [
    "ALLOWED_HOSTS = []"
   ]
  },
  {
   "cell_type": "markdown",
   "metadata": {
    "slideshow": {
     "slide_type": "fragment"
    }
   },
   "source": [
    "[ALLOWED_HOSTS](https://docs.djangoproject.com/en/1.10/ref/settings/#allowed-hosts) - czyli lista hostów, które mogą łączyć się z nasza aplikacją,"
   ]
  },
  {
   "cell_type": "code",
   "execution_count": null,
   "metadata": {
    "collapsed": true,
    "slideshow": {
     "slide_type": "subslide"
    }
   },
   "outputs": [],
   "source": [
    "# Application definition\n",
    "\n",
    "INSTALLED_APPS = [\n",
    "    'django.contrib.admin',\n",
    "    'django.contrib.auth',\n",
    "    'django.contrib.contenttypes',\n",
    "    'django.contrib.sessions',\n",
    "    'django.contrib.messages',\n",
    "    'django.contrib.staticfiles',\n",
    "]"
   ]
  },
  {
   "cell_type": "markdown",
   "metadata": {
    "slideshow": {
     "slide_type": "fragment"
    }
   },
   "source": [
    "[INSTALLED_APPS](https://docs.djangoproject.com/en/1.10/ref/settings/#installed-apps) - lista aplikacji zainstalowanych w naszym projekcie, możemy korzystać z gotowych aplikacji - polecam stronę [djangopackages.org](https://djangopackages.org/) lub pisać własne,"
   ]
  },
  {
   "cell_type": "code",
   "execution_count": null,
   "metadata": {
    "collapsed": true,
    "slideshow": {
     "slide_type": "subslide"
    }
   },
   "outputs": [],
   "source": [
    "MIDDLEWARE = [\n",
    "    'django.middleware.security.SecurityMiddleware',\n",
    "    'django.contrib.sessions.middleware.SessionMiddleware',\n",
    "    'django.middleware.common.CommonMiddleware',\n",
    "    'django.middleware.csrf.CsrfViewMiddleware',\n",
    "    'django.contrib.auth.middleware.AuthenticationMiddleware',\n",
    "    'django.contrib.messages.middleware.MessageMiddleware',\n",
    "    'django.middleware.clickjacking.XFrameOptionsMiddleware',\n",
    "]"
   ]
  },
  {
   "cell_type": "markdown",
   "metadata": {
    "slideshow": {
     "slide_type": "fragment"
    }
   },
   "source": [
    "MIDDLEWARE to kod, który będzie automatycznie wykonywany przed/po wykonaniu widoku, przed wysłaniem odpowiedzi do klienta (przeglądarki)"
   ]
  },
  {
   "cell_type": "code",
   "execution_count": null,
   "metadata": {
    "collapsed": true,
    "slideshow": {
     "slide_type": "subslide"
    }
   },
   "outputs": [],
   "source": [
    "ROOT_URLCONF = 'django_testing.urls'"
   ]
  },
  {
   "cell_type": "markdown",
   "metadata": {
    "slideshow": {
     "slide_type": "fragment"
    }
   },
   "source": [
    "Główny plik konfiguracyjny adresów url"
   ]
  },
  {
   "cell_type": "code",
   "execution_count": null,
   "metadata": {
    "collapsed": true,
    "slideshow": {
     "slide_type": "subslide"
    }
   },
   "outputs": [],
   "source": [
    "TEMPLATES = [\n",
    "    {\n",
    "        'BACKEND': 'django.template.backends.django.DjangoTemplates',\n",
    "        'DIRS': [os.path.join(BASE_DIR, 'templates')]\n",
    "        ,\n",
    "        'APP_DIRS': True,\n",
    "        'OPTIONS': {\n",
    "            'context_processors': [\n",
    "                'django.template.context_processors.debug',\n",
    "                'django.template.context_processors.request',\n",
    "                'django.contrib.auth.context_processors.auth',\n",
    "                'django.contrib.messages.context_processors.messages',\n",
    "            ],\n",
    "        },\n",
    "    },\n",
    "]"
   ]
  },
  {
   "cell_type": "code",
   "execution_count": null,
   "metadata": {
    "collapsed": true,
    "slideshow": {
     "slide_type": "subslide"
    }
   },
   "outputs": [],
   "source": [
    "WSGI_APPLICATION = 'django_testing.wsgi.application'"
   ]
  },
  {
   "cell_type": "code",
   "execution_count": null,
   "metadata": {
    "collapsed": true,
    "slideshow": {
     "slide_type": "slide"
    }
   },
   "outputs": [],
   "source": [
    "# Database\n",
    "# https://docs.djangoproject.com/en/1.11/ref/settings/#databases\n",
    "\n",
    "DATABASES = {\n",
    "    'default': {\n",
    "        'ENGINE': 'django.db.backends.sqlite3',\n",
    "        'NAME': os.path.join(BASE_DIR, 'db.sqlite3'),\n",
    "    }\n",
    "}"
   ]
  },
  {
   "cell_type": "markdown",
   "metadata": {
    "slideshow": {
     "slide_type": "fragment"
    }
   },
   "source": [
    "[DATABASES](https://docs.djangoproject.com/en/1.10/ref/settings/#databases) - konfiguracja bazy danych wykorzystywanej w naszym projekcie, w naszym przypadku korzystamy z bazy opartej o sqlite3, oczywiście nie ma problemy skonfigurować np. mysql'a."
   ]
  },
  {
   "cell_type": "code",
   "execution_count": null,
   "metadata": {
    "collapsed": true,
    "slideshow": {
     "slide_type": "subslide"
    }
   },
   "outputs": [],
   "source": [
    "# Password validation\n",
    "# https://docs.djangoproject.com/en/1.11/ref/settings/#auth-password-validators\n",
    "\n",
    "AUTH_PASSWORD_VALIDATORS = [\n",
    "    {\n",
    "        'NAME': 'django.contrib.auth.password_validation.UserAttributeSimilarityValidator',\n",
    "    },\n",
    "    {\n",
    "        'NAME': 'django.contrib.auth.password_validation.MinimumLengthValidator',\n",
    "    },\n",
    "    {\n",
    "        'NAME': 'django.contrib.auth.password_validation.CommonPasswordValidator',\n",
    "    },\n",
    "    {\n",
    "        'NAME': 'django.contrib.auth.password_validation.NumericPasswordValidator',\n",
    "    },\n",
    "]"
   ]
  },
  {
   "cell_type": "code",
   "execution_count": null,
   "metadata": {
    "collapsed": true,
    "slideshow": {
     "slide_type": "subslide"
    }
   },
   "outputs": [],
   "source": [
    "# Internationalization\n",
    "# https://docs.djangoproject.com/en/1.11/topics/i18n/\n",
    "\n",
    "LANGUAGE_CODE = 'en-us'\n",
    "\n",
    "TIME_ZONE = 'UTC'\n",
    "\n",
    "USE_I18N = True\n",
    "\n",
    "USE_L10N = True\n",
    "\n",
    "USE_TZ = True"
   ]
  },
  {
   "cell_type": "code",
   "execution_count": null,
   "metadata": {
    "collapsed": true,
    "slideshow": {
     "slide_type": "subslide"
    }
   },
   "outputs": [],
   "source": [
    "# Static files (CSS, JavaScript, Images)\n",
    "# https://docs.djangoproject.com/en/1.11/howto/static-files/\n",
    "\n",
    "STATIC_URL = '/static/'"
   ]
  },
  {
   "cell_type": "markdown",
   "metadata": {
    "slideshow": {
     "slide_type": "slide"
    }
   },
   "source": [
    "### Adresy URL - plik `urls.py`"
   ]
  },
  {
   "cell_type": "code",
   "execution_count": null,
   "metadata": {
    "collapsed": true,
    "slideshow": {
     "slide_type": "subslide"
    }
   },
   "outputs": [],
   "source": [
    "\"\"\"django_testing URL Configuration\n",
    "\n",
    "The `urlpatterns` list routes URLs to views. For more information please see:\n",
    "    https://docs.djangoproject.com/en/1.11/topics/http/urls/\n",
    "Examples:\n",
    "Function views\n",
    "    1. Add an import:  from my_app import views\n",
    "    2. Add a URL to urlpatterns:  url(r'^$', views.home, name='home')\n",
    "Class-based views\n",
    "    1. Add an import:  from other_app.views import Home\n",
    "    2. Add a URL to urlpatterns:  url(r'^$', Home.as_view(), name='home')\n",
    "Including another URLconf\n",
    "    1. Import the include() function: from django.conf.urls import url, include\n",
    "    2. Add a URL to urlpatterns:  url(r'^blog/', include('blog.urls'))\n",
    "\"\"\""
   ]
  },
  {
   "cell_type": "code",
   "execution_count": null,
   "metadata": {
    "collapsed": true,
    "slideshow": {
     "slide_type": "subslide"
    }
   },
   "outputs": [],
   "source": [
    "from django.conf.urls import url\n",
    "from django.contrib import admin\n",
    "\n",
    "urlpatterns = [\n",
    "    url(r'^admin/', admin.site.urls),\n",
    "]"
   ]
  },
  {
   "cell_type": "markdown",
   "metadata": {
    "slideshow": {
     "slide_type": "slide"
    }
   },
   "source": [
    "### oraz plik `manage.py` i `wsgi.py`"
   ]
  },
  {
   "cell_type": "markdown",
   "metadata": {
    "slideshow": {
     "slide_type": "slide"
    }
   },
   "source": [
    "### Incjalizacja bazy danych"
   ]
  },
  {
   "cell_type": "markdown",
   "metadata": {
    "slideshow": {
     "slide_type": "subslide"
    }
   },
   "source": [
    "Przed tworzeniem nowych aplikacji warto zadbać o porawe wypełnienie bazy danych, w tym celu wydajemy polecenie\n",
    "\n",
    "`python manage.py migrate`\n",
    "\n",
    "w efekcjie nasza baza danych zostanie utworzona i wypełniona. Dodatkowo utwóżmy sobie konto admina wydając polecenie\n",
    "\n",
    "`python manage.py createsuperuser`\n",
    "\n",
    "w efekcie będziemy proszeni o podanie loginu, adresu mailowego oraz hasła do konta. Po wykonaniu tych poleceń możemy zalogować się na stronę administratora wpisując adres http://127.0.0.1:8000/admin"
   ]
  },
  {
   "cell_type": "markdown",
   "metadata": {
    "slideshow": {
     "slide_type": "subslide"
    }
   },
   "source": [
    "![alt text](images/django_admin_login-771x516.png \"ob\")"
   ]
  },
  {
   "cell_type": "markdown",
   "metadata": {
    "slideshow": {
     "slide_type": "subslide"
    }
   },
   "source": [
    "po zalogowaniu zobaczmy panel addministratora - chyba najlepszą \"rzecz\" w django"
   ]
  },
  {
   "cell_type": "markdown",
   "metadata": {
    "slideshow": {
     "slide_type": "fragment"
    }
   },
   "source": [
    "![alt text](images/django_admin_logined-1118x418.png \"ob\")"
   ]
  },
  {
   "cell_type": "markdown",
   "metadata": {
    "slideshow": {
     "slide_type": "slide"
    }
   },
   "source": [
    "## Projekt vs. aplikacja"
   ]
  },
  {
   "cell_type": "markdown",
   "metadata": {
    "slideshow": {
     "slide_type": "subslide"
    }
   },
   "source": [
    "Jaka jest różnica pomiędzy projektem a aplikacją?\n",
    "\n",
    "- **Aplikacja** coś robi - jest nią np. system blogowy, rejestr danych publicznych lub prosta ankieta.\n",
    "- **Projekt** jest kolekcją konfiguracji i aplikacji dla określonej strony www. Projekt może zawierać wiele aplikacji. Dana aplikacja może być w wielu projektach.\n",
    "\n",
    "Jak pisać aplikacje wielokrotnego użytku?"
   ]
  },
  {
   "cell_type": "markdown",
   "metadata": {
    "slideshow": {
     "slide_type": "slide"
    }
   },
   "source": [
    "### Nowa aplikacja"
   ]
  },
  {
   "cell_type": "markdown",
   "metadata": {
    "slideshow": {
     "slide_type": "subslide"
    }
   },
   "source": [
    "Utwórzmy aplikację `notes`, w tym celu wydajemy polecenie\n",
    "\n",
    "`python manage.py startapp notes`\n",
    "\n",
    "Po wykonaniu polecenia dostaniemy"
   ]
  },
  {
   "cell_type": "markdown",
   "metadata": {
    "slideshow": {
     "slide_type": "subslide"
    }
   },
   "source": [
    "![alt text](images/notes-341x426.png \"ob\")"
   ]
  },
  {
   "cell_type": "markdown",
   "metadata": {
    "slideshow": {
     "slide_type": "slide"
    }
   },
   "source": [
    "### Instalowanie aplikacji"
   ]
  },
  {
   "cell_type": "markdown",
   "metadata": {
    "slideshow": {
     "slide_type": "subslide"
    }
   },
   "source": [
    "Utworzona aplikację musimy zainstalować dodając ją do zmiennejI NSTALLED_APPS"
   ]
  },
  {
   "cell_type": "code",
   "execution_count": null,
   "metadata": {
    "collapsed": true,
    "slideshow": {
     "slide_type": "fragment"
    }
   },
   "outputs": [],
   "source": [
    "INSTALLED_APPS = [\n",
    "    'django.contrib.admin',\n",
    "    'django.contrib.auth',\n",
    "    'django.contrib.contenttypes',\n",
    "    'django.contrib.sessions',\n",
    "    'django.contrib.messages',\n",
    "    'django.contrib.staticfiles',\n",
    "    'notes'  # local app\n",
    "]"
   ]
  },
  {
   "cell_type": "markdown",
   "metadata": {
    "slideshow": {
     "slide_type": "slide"
    }
   },
   "source": [
    "### Pierwszy model"
   ]
  },
  {
   "cell_type": "markdown",
   "metadata": {
    "slideshow": {
     "slide_type": "subslide"
    }
   },
   "source": [
    "W naszej aplikacji notes tworzymy model w pliku notes/models.py, który umożliwia przechowywanie naszych notatek"
   ]
  },
  {
   "cell_type": "code",
   "execution_count": null,
   "metadata": {
    "collapsed": true,
    "slideshow": {
     "slide_type": "fragment"
    }
   },
   "outputs": [],
   "source": [
    "from django.db import models\n",
    "\n",
    "class Note(models.Model):\n",
    "    title = models.CharField(max_length=256)\n",
    "    body = models.TextField()"
   ]
  },
  {
   "cell_type": "markdown",
   "metadata": {
    "slideshow": {
     "slide_type": "fragment"
    }
   },
   "source": [
    "W notatce przechowujemy jej tytuł i zawartość. Powyższy kod trafia do pliku `models.py`"
   ]
  },
  {
   "cell_type": "markdown",
   "metadata": {
    "slideshow": {
     "slide_type": "subslide"
    }
   },
   "source": [
    "### Migracja bazy danych\n",
    "\n",
    "Po utworzeniu nowego modelu oraz po zainstalowaniu naszej aplikacji możemy utworzyć odpowiednią tabelę w naszej bazie, wykonujemy to wydając polecenia\n",
    "\n",
    "`makemigrations`\n",
    "\n",
    "które utworzy odpowiedni plik migracji dla naszego modelu\n",
    "\n",
    "`migrate`"
   ]
  },
  {
   "cell_type": "code",
   "execution_count": null,
   "metadata": {
    "collapsed": true
   },
   "outputs": [],
   "source": [
    "# -*- coding: utf-8 -*-\n",
    "# Generated by Django 1.11.7 on 2017-11-28 22:00\n",
    "from __future__ import unicode_literals\n",
    "\n",
    "from django.db import migrations, models\n",
    "\n",
    "\n",
    "class Migration(migrations.Migration):\n",
    "\n",
    "    initial = True\n",
    "\n",
    "    dependencies = [\n",
    "    ]\n",
    "\n",
    "    operations = [\n",
    "        migrations.CreateModel(\n",
    "            name='Note',\n",
    "            fields=[\n",
    "                ('id', models.AutoField(auto_created=True, primary_key=True, serialize=False, verbose_name='ID')),\n",
    "                ('title', models.CharField(max_length=256)),\n",
    "                ('body', models.TextField()),\n",
    "            ],\n",
    "        ),\n",
    "    ]"
   ]
  },
  {
   "cell_type": "markdown",
   "metadata": {
    "slideshow": {
     "slide_type": "subslide"
    }
   },
   "source": [
    "### Dodanie modelu w panelu administratora\n",
    "\n",
    "Aby nasz model widoczny był w Panelu administratora musimy w pliku notes/admin.py umieścić następujący kod"
   ]
  },
  {
   "cell_type": "code",
   "execution_count": null,
   "metadata": {
    "collapsed": true,
    "slideshow": {
     "slide_type": "fragment"
    }
   },
   "outputs": [],
   "source": [
    "from django.contrib import admin\n",
    "\n",
    "from notes.models import Note\n",
    "\n",
    "admin.site.register(Note)"
   ]
  },
  {
   "cell_type": "markdown",
   "metadata": {
    "slideshow": {
     "slide_type": "subslide"
    }
   },
   "source": [
    "od tego momentu możemy w panelu administratora zarządzać naszymi notatkami, a w szczególności dodawać nowe"
   ]
  },
  {
   "cell_type": "markdown",
   "metadata": {
    "slideshow": {
     "slide_type": "fragment"
    }
   },
   "source": [
    "![alt text](images/notes_admin_add-1062x604.png \"ob\")"
   ]
  },
  {
   "cell_type": "markdown",
   "metadata": {
    "slideshow": {
     "slide_type": "slide"
    }
   },
   "source": [
    "## ListView w django"
   ]
  },
  {
   "cell_type": "markdown",
   "metadata": {
    "slideshow": {
     "slide_type": "subslide"
    }
   },
   "source": [
    "Najprostsza wersja widoku może dla niego wygladać w ten sposób -"
   ]
  },
  {
   "cell_type": "code",
   "execution_count": null,
   "metadata": {
    "collapsed": true,
    "slideshow": {
     "slide_type": "fragment"
    }
   },
   "outputs": [],
   "source": [
    "#plik: notes/views.py\n",
    "from django.views.generic import ListView\n",
    "\n",
    "from notes.models import Note\n",
    "\n",
    "\n",
    "class NoteListView(ListView):\n",
    "    model = Note"
   ]
  },
  {
   "cell_type": "markdown",
   "metadata": {
    "slideshow": {
     "slide_type": "subslide"
    }
   },
   "source": [
    "Aby z niego skorzystać musimy utworzyć odpowiedni adres url w pliku notes/urls.py"
   ]
  },
  {
   "cell_type": "code",
   "execution_count": null,
   "metadata": {
    "collapsed": true,
    "slideshow": {
     "slide_type": "fragment"
    }
   },
   "outputs": [],
   "source": [
    "from django.conf.urls import url\n",
    "\n",
    "from notes.views import NoteListView\n",
    "\n",
    "urlpatterns = [\n",
    "    url(r'^$', NoteListView.as_view(), name='note-list'),\n",
    "]"
   ]
  },
  {
   "cell_type": "markdown",
   "metadata": {
    "slideshow": {
     "slide_type": "subslide"
    }
   },
   "source": [
    "Nasz widok domyślnie będzie szukał szablonu odpowiedzialnego za wyświetlanie danych w pliku `notes/templates/notes/note_list.html`"
   ]
  },
  {
   "cell_type": "code",
   "execution_count": null,
   "metadata": {
    "collapsed": true,
    "slideshow": {
     "slide_type": "fragment"
    }
   },
   "outputs": [],
   "source": [
    "<h1>Notes</h1>\n",
    "<ul>\n",
    "{% for note in object_list %}\n",
    "    <li>{{ note.title }}</li>\n",
    "{% empty %}\n",
    "    <li>No notes yet.</li>\n",
    "{% endfor %}\n",
    "</ul>"
   ]
  },
  {
   "cell_type": "markdown",
   "metadata": {
    "slideshow": {
     "slide_type": "subslide"
    }
   },
   "source": [
    "Musimy oczywiście pamietac o podpięciu adresów z aplikacji do projektu, a więc zmieniay w pliku `testing/urls.py`"
   ]
  },
  {
   "cell_type": "code",
   "execution_count": null,
   "metadata": {
    "collapsed": true,
    "slideshow": {
     "slide_type": "fragment"
    }
   },
   "outputs": [],
   "source": [
    "from django.conf.urls import url, include\n",
    "from django.contrib import admin\n",
    "\n",
    "\n",
    "urlpatterns = [\n",
    "    url(r'^admin/', admin.site.urls),\n",
    "    url(r'^notes/', include('notes.urls')),\n",
    "]"
   ]
  },
  {
   "cell_type": "markdown",
   "metadata": {
    "slideshow": {
     "slide_type": "subslide"
    }
   },
   "source": [
    "Uruchamiamy aplikację i przechodzimy na stronę [http://127.0.0.1:8000/notes/](http://127.0.0.1:8000/notes/)"
   ]
  },
  {
   "cell_type": "markdown",
   "metadata": {
    "slideshow": {
     "slide_type": "slide"
    }
   },
   "source": [
    "## DetailView w django"
   ]
  },
  {
   "cell_type": "code",
   "execution_count": null,
   "metadata": {
    "collapsed": true,
    "slideshow": {
     "slide_type": "subslide"
    }
   },
   "outputs": [],
   "source": [
    "#plik: notes/views.py\n",
    "from django.views.generic import ListView\n",
    "\n",
    "from notes.models import Note\n",
    "\n",
    "\n",
    "class NoteDetailView(DetailView):\n",
    "    model = Note"
   ]
  },
  {
   "cell_type": "code",
   "execution_count": null,
   "metadata": {
    "collapsed": true,
    "slideshow": {
     "slide_type": "subslide"
    }
   },
   "outputs": [],
   "source": [
    "from django.conf.urls import url\n",
    "\n",
    "from notes.views import NoteListView\n",
    "\n",
    "urlpatterns = [\n",
    "    url(r'^(?P<pk>\\d+)/$', NoteDetailView.as_view(), name='note-detail'),\n",
    "]"
   ]
  },
  {
   "cell_type": "code",
   "execution_count": null,
   "metadata": {
    "collapsed": true,
    "slideshow": {
     "slide_type": "subslide"
    }
   },
   "outputs": [],
   "source": [
    "<h1>Notes</h1>\n",
    "<ul>\n",
    "{% for note in object_list %}\n",
    "    <li><a href=\"{% url 'note-detail' note.pk %}\">{{ note.title }}</a></li>\n",
    "{% empty %}\n",
    "    <li>No notes yet.</li>\n",
    "{% endfor %}\n",
    "</ul>"
   ]
  },
  {
   "cell_type": "markdown",
   "metadata": {
    "slideshow": {
     "slide_type": "slide"
    }
   },
   "source": [
    "Źródła:\n",
    "- [slash4 trainings: Learn Django in 4 hours](http://slash4.net/learn-django/) - materiał obowiązkowy na zajęcia\n",
    "- [Strona projektu](https://www.djangoproject.com)\n",
    "- [Django Packages](https://djangopackages.org)\n",
    "- https://github.com/kmisztal/django_simple_project - mój projekt na githubie\n",
    "- http://slides.com/dominikwronski/wit-ep2-django-introduction/fullscreen"
   ]
  },
  {
   "cell_type": "markdown",
   "metadata": {
    "slideshow": {
     "slide_type": "slide"
    }
   },
   "source": [
    "Zadania na wykład:\n",
    "- mptt (+ admin) - Górszczak\n",
    "- formset \n",
    "- allauth \n",
    "- django vs. ajax \n",
    "- [https://github.com/django-polymorphic/django-polymorphic](https://github.com/django-polymorphic/django-polymorphic) - Żarek\n",
    "- pliki statyczne + [django-compressor](https://github.com/django-compressor/django-compressor) \n",
    "- formset \n",
    "- [https://github.com/django-polymorphic/django-polymorphic](https://github.com/django-polymorphic/django-polymorphic)\n",
    "- import/export https://github.com/django-import-export/django-import-export - Kubiak\n",
    "- keywords - Domański - https://github.com/WoLpH/django-tags-input\n",
    "- tłumaczenie danych w modelach - Zieliński\n",
    "- django channels - Jurczyk\n",
    "- social widgets - Dudziński"
   ]
  },
  {
   "cell_type": "code",
   "execution_count": null,
   "metadata": {},
   "outputs": [],
   "source": []
  }
 ],
 "metadata": {
  "celltoolbar": "Slideshow",
  "kernelspec": {
   "display_name": "Python 3",
   "language": "python",
   "name": "python3"
  },
  "language_info": {
   "codemirror_mode": {
    "name": "ipython",
    "version": 3
   },
   "file_extension": ".py",
   "mimetype": "text/x-python",
   "name": "python",
   "nbconvert_exporter": "python",
   "pygments_lexer": "ipython3",
   "version": "3.6.4"
  }
 },
 "nbformat": 4,
 "nbformat_minor": 2
}
