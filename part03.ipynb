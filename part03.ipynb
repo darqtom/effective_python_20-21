{
 "cells": [
  {
   "cell_type": "markdown",
   "metadata": {
    "slideshow": {
     "slide_type": "slide"
    }
   },
   "source": [
    "# Efektywne programowanie w języku Python \n",
    "\n",
    "## wykład 3"
   ]
  },
  {
   "cell_type": "markdown",
   "metadata": {
    "slideshow": {
     "slide_type": "slide"
    }
   },
   "source": [
    "## Functions"
   ]
  },
  {
   "cell_type": "code",
   "execution_count": null,
   "metadata": {
    "collapsed": true,
    "slideshow": {
     "slide_type": "fragment"
    }
   },
   "outputs": [],
   "source": [
    "def fn_name(param1, param2):\n",
    "    value = do_something()\n",
    "    return value"
   ]
  },
  {
   "cell_type": "markdown",
   "metadata": {
    "slideshow": {
     "slide_type": "subslide"
    }
   },
   "source": [
    "- All functions return some value\n",
    "    > Even if that value is None\n",
    "    \n",
    "- No return statement or just return implicitly returns None\n",
    "- Returning multiple values\n",
    "\n",
    "    You can use a tuple! In some cases, use a namedtuple\n",
    "    return value1, value2, value3"
   ]
  },
  {
   "cell_type": "markdown",
   "metadata": {
    "slideshow": {
     "slide_type": "subslide"
    }
   },
   "source": [
    "- Function execution introduces a new local symbol table (scope)\n",
    "    Think of baggage tags and suitcases: a new baggage area\n",
    "    \n",
    "- Variable assignments (L-values) x = 5\n",
    "    Add entry to local symbol table (or overwrite an existing entry)\n",
    "    \n",
    "- Variable references (R-values) print(y)\n",
    "    - First, look in local symbol table\n",
    "    - Next, check symbol tables of enclosing functions (unusual)\n",
    "    - Then, search global (top-level) symbol table\n",
    "    - Finally, check builtin symbols (print, input, etc)"
   ]
  },
  {
   "cell_type": "markdown",
   "metadata": {
    "slideshow": {
     "slide_type": "subslide"
    }
   },
   "source": [
    "### Local Function Scope"
   ]
  },
  {
   "cell_type": "code",
   "execution_count": null,
   "metadata": {
    "collapsed": true,
    "slideshow": {
     "slide_type": "fragment"
    }
   },
   "outputs": [],
   "source": [
    "x = 2\n",
    "\n",
    "def foo(y):\n",
    "    z = 5\n",
    "    print(locals())\n",
    "    print(globals()['x'])\n",
    "    print(x, y, z)\n",
    "\n",
    "foo(3)\n",
    "\n",
    "# prints {'y': 3, 'z': 5}\n",
    "# print 2\n",
    "# prints 2, 3, 5"
   ]
  },
  {
   "cell_type": "markdown",
   "metadata": {
    "slideshow": {
     "slide_type": "subslide"
    }
   },
   "source": [
    "### Local Function Scope"
   ]
  },
  {
   "cell_type": "code",
   "execution_count": null,
   "metadata": {
    "collapsed": true,
    "slideshow": {
     "slide_type": "fragment"
    }
   },
   "outputs": [],
   "source": [
    "x = 2\n",
    "\n",
    "def foo(y):\n",
    "    x = 41\n",
    "    z = 5\n",
    "    print(locals())\n",
    "    print(globals()['x'])\n",
    "    print(x, y, z)\n",
    "    \n",
    "foo(3)\n",
    "\n",
    "# prints {'x': 41, 'y': 3, 'z': 5}\n",
    "# print 2\n",
    "# prints 41, 3, 5"
   ]
  },
  {
   "cell_type": "markdown",
   "metadata": {
    "slideshow": {
     "slide_type": "subslide"
    }
   },
   "source": [
    "### If / For Scope"
   ]
  },
  {
   "cell_type": "code",
   "execution_count": 1,
   "metadata": {
    "slideshow": {
     "slide_type": "fragment"
    }
   },
   "outputs": [
    {
     "name": "stdout",
     "output_type": "stream",
     "text": [
      "Winner!\n"
     ]
    }
   ],
   "source": [
    "# Notably, only* function definitions define new scopes\n",
    "# if statements, for loops, while loops, with statements, etc\n",
    "\n",
    "# Do not introduce a new scope\n",
    "success = True\n",
    "if success:\n",
    "    desc = 'Winner!'\n",
    "else:\n",
    "    desc = 'Loser :('\n",
    "    \n",
    "print(desc)"
   ]
  },
  {
   "cell_type": "markdown",
   "metadata": {
    "slideshow": {
     "slide_type": "subslide"
    }
   },
   "source": [
    "### Pass-By-Value or Pass-By-Reference?"
   ]
  },
  {
   "cell_type": "markdown",
   "metadata": {
    "slideshow": {
     "slide_type": "fragment"
    }
   },
   "source": [
    "1. Variables are copied into function's local symbol table\n",
    "    - But variables are just references to objects!\n",
    "2. Best to think of it as pass-by-object-reference\n",
    "    - If a mutable object is passed, caller will see changes\n",
    "3. Baggage tags in one area can point to suitcases in another"
   ]
  },
  {
   "cell_type": "markdown",
   "metadata": {
    "slideshow": {
     "slide_type": "slide"
    }
   },
   "source": [
    "## Default / Named Parameters"
   ]
  },
  {
   "cell_type": "markdown",
   "metadata": {
    "slideshow": {
     "slide_type": "subslide"
    }
   },
   "source": [
    "Specify a default value for one or more parameters\n",
    "Called with fewer arguments than it is defined to allow\n",
    "\n",
    "Usually used to provide \"settings\" for the function.\n",
    "\n",
    "Why?\n",
    "- Presents a simplified interface for a function\n",
    "- Provides reasonable defaults for parameters\n",
    "- Declares intent to caller that parameters are \"extra\""
   ]
  },
  {
   "cell_type": "code",
   "execution_count": null,
   "metadata": {
    "collapsed": true,
    "slideshow": {
     "slide_type": "subslide"
    }
   },
   "outputs": [],
   "source": [
    "def ask_yn(prompt, retries=4, complaint='Enter Y/N!'):\n",
    "    for i in range(retries)\n",
    "        ok = input(prompt)\n",
    "        if ok == 'Y':\n",
    "            return True\n",
    "        if ok == 'N':\n",
    "            return False\n",
    "        print(complaint)\n",
    "    return False"
   ]
  },
  {
   "cell_type": "code",
   "execution_count": null,
   "metadata": {
    "collapsed": true,
    "slideshow": {
     "slide_type": "subslide"
    }
   },
   "outputs": [],
   "source": [
    "ask_yn(prompt, retries=4, complaint='...')"
   ]
  },
  {
   "cell_type": "code",
   "execution_count": null,
   "metadata": {
    "collapsed": true,
    "slideshow": {
     "slide_type": "fragment"
    }
   },
   "outputs": [],
   "source": [
    "# Call with only the mandatory argument\n",
    "ask_yn('Really quit?')\n",
    "\n",
    "# Call with one keyword argument\n",
    "ask_yn('OK to overwrite the file?', retries=2)\n",
    "\n",
    "# Call with one keyword argument - in any order!\n",
    "ask_yn('Update status?', complaint='Just Y/N')\n",
    "\n",
    "# Call with all of the keyword arguments\n",
    "ask_yn('Send text?', retries=2, complaint='Y/N please!')"
   ]
  },
  {
   "cell_type": "code",
   "execution_count": null,
   "metadata": {
    "collapsed": true,
    "slideshow": {
     "slide_type": "subslide"
    }
   },
   "outputs": [],
   "source": [
    "def parrot(voltage, state='a stiff', action='voom', type='Norwegian Blue'):\n",
    "    print(\"-- This parrot wouldn't\", action, end=' ')\n",
    "    print(\"if you put\", voltage, \"volts through it.\")\n",
    "    print(\"-- Lovely plumage, the\", type)\n",
    "    print(\"-- It's\", state, \"!\")"
   ]
  },
  {
   "cell_type": "code",
   "execution_count": null,
   "metadata": {
    "collapsed": true,
    "slideshow": {
     "slide_type": "subslide"
    }
   },
   "outputs": [],
   "source": [
    "VALID CALLS"
   ]
  },
  {
   "cell_type": "code",
   "execution_count": null,
   "metadata": {
    "collapsed": true,
    "slideshow": {
     "slide_type": "fragment"
    }
   },
   "outputs": [],
   "source": [
    "def parrot(voltage, state='…', action='…', type='…')\n",
    "\n",
    "# 1 positional argument\n",
    "parrot(1000)\n",
    "# 1 keyword argument\n",
    "parrot(voltage=1000)\n",
    "# 2 keyword arguments\n",
    "parrot(voltage=1000000, action='VOOOOOM')\n",
    "# 2 keyword arguments\n",
    "parrot(action='VOOOOOM', voltage=1000000)\n",
    "# 3 positional arguments\n",
    "parrot('a million', 'bereft of life', 'jump')\n",
    "# 1 positional, 1 keyword\n",
    "parrot('a thousand', state='pushing up the daisies')"
   ]
  },
  {
   "cell_type": "code",
   "execution_count": null,
   "metadata": {
    "collapsed": true,
    "slideshow": {
     "slide_type": "subslide"
    }
   },
   "outputs": [],
   "source": [
    "INVALID CALLS"
   ]
  },
  {
   "cell_type": "code",
   "execution_count": null,
   "metadata": {
    "collapsed": true,
    "slideshow": {
     "slide_type": "fragment"
    }
   },
   "outputs": [],
   "source": [
    "def parrot(voltage, state='…', action='…', type='…')\n",
    "\n",
    "# required argument missing\n",
    "parrot()\n",
    "# non-keyword argument after a keyword argument\n",
    "parrot(voltage=5.0, 'dead')\n",
    "# duplicate value for the same argument\n",
    "parrot(110, voltage=220)\n",
    "# unknown keyword argument\n",
    "parrot(actor='John Cleese')"
   ]
  },
  {
   "cell_type": "markdown",
   "metadata": {
    "slideshow": {
     "slide_type": "subslide"
    }
   },
   "source": [
    "### Rules about Function Calls"
   ]
  },
  {
   "cell_type": "markdown",
   "metadata": {
    "slideshow": {
     "slide_type": "fragment"
    }
   },
   "source": [
    "- Keyword arguments must follow positional arguments\n",
    "- All keyword arguments must identify some parameter\n",
    "    - Even positional ones\n",
    "- No parameter may receive a value more than once"
   ]
  },
  {
   "cell_type": "markdown",
   "metadata": {
    "slideshow": {
     "slide_type": "slide"
    }
   },
   "source": [
    "## Variadic Positional Arguments"
   ]
  },
  {
   "cell_type": "markdown",
   "metadata": {
    "slideshow": {
     "slide_type": "fragment"
    }
   },
   "source": [
    "- A parameter of form *args captures excess positional args\n",
    "    - These excess arguments are bundled into an args tuple\n",
    "- Why?\n",
    "    - Call functions with any number of positional arguments\n",
    "    - Capture all arguments to forward to another handler\n",
    "        - Used in subclasses, proxies, and decorators"
   ]
  },
  {
   "cell_type": "code",
   "execution_count": null,
   "metadata": {
    "collapsed": true,
    "slideshow": {
     "slide_type": "fragment"
    }
   },
   "outputs": [],
   "source": [
    "print(*objects, sep=' ', end='\\n', file=…, flush=False)"
   ]
  },
  {
   "cell_type": "code",
   "execution_count": null,
   "metadata": {
    "collapsed": true,
    "slideshow": {
     "slide_type": "subslide"
    }
   },
   "outputs": [],
   "source": [
    "# Suppose we want a product function that works as so:\n",
    "product(3, 5) # => 15\n",
    "product(3, 4, 2) # => 24\n",
    "product(3, 5, scale=10) # => 150"
   ]
  },
  {
   "cell_type": "code",
   "execution_count": null,
   "metadata": {
    "collapsed": true,
    "slideshow": {
     "slide_type": "fragment"
    }
   },
   "outputs": [],
   "source": [
    "# product accepts any number of arguments\n",
    "def product(*nums, scale=1):\n",
    "    p = scale\n",
    "    for n in nums:\n",
    "        p *= n\n",
    "    return p"
   ]
  },
  {
   "cell_type": "markdown",
   "metadata": {
    "slideshow": {
     "slide_type": "subslide"
    }
   },
   "source": [
    "#### Unpacking Variadic Positional Arguments"
   ]
  },
  {
   "cell_type": "code",
   "execution_count": null,
   "metadata": {
    "collapsed": true,
    "slideshow": {
     "slide_type": "fragment"
    }
   },
   "outputs": [],
   "source": [
    "# Suppose we want to find 2 * 3 * 5 * 7 * … up to 100\n",
    "def is_prime(n): pass # Some implementation\n",
    "# Extract"
   ]
  },
  {
   "cell_type": "code",
   "execution_count": null,
   "metadata": {
    "collapsed": true,
    "slideshow": {
     "slide_type": "fragment"
    }
   },
   "outputs": [],
   "source": [
    "# Extract all the primes\n",
    "primes = [number for number in range(2, 100)\n",
    "                                                      if is_prime(number)]"
   ]
  },
  {
   "cell_type": "code",
   "execution_count": null,
   "metadata": {
    "collapsed": true,
    "slideshow": {
     "slide_type": "fragment"
    }
   },
   "outputs": [],
   "source": [
    "# primes == [2, 3, 5, …]\n",
    "print(product(*primes)) # equiv. to product(2, 3, 5, …)"
   ]
  },
  {
   "cell_type": "markdown",
   "metadata": {
    "slideshow": {
     "slide_type": "subslide"
    }
   },
   "source": [
    "[https://www.youtube.com/watch?v=WjJUPxKB164](https://www.youtube.com/watch?v=WjJUPxKB164)\n",
    "\n",
    "2:30-6:00"
   ]
  },
  {
   "cell_type": "markdown",
   "metadata": {
    "slideshow": {
     "slide_type": "slide"
    }
   },
   "source": [
    "## Enforce Clarity with Keyword-Only Arguments"
   ]
  },
  {
   "cell_type": "markdown",
   "metadata": {
    "slideshow": {
     "slide_type": "fragment"
    }
   },
   "source": [
    "[https://www.youtube.com/watch?v=WjJUPxKB164](https://www.youtube.com/watch?v=WjJUPxKB164)\n",
    "\n",
    "9:30 - 15:00"
   ]
  },
  {
   "cell_type": "markdown",
   "metadata": {
    "slideshow": {
     "slide_type": "slide"
    }
   },
   "source": [
    "## Variadic Keyword Arguments"
   ]
  },
  {
   "cell_type": "markdown",
   "metadata": {
    "slideshow": {
     "slide_type": "fragment"
    }
   },
   "source": [
    "- A parameter of the form \\*\\*kwargs captures all excess keyword arguments\n",
    "    - These excess arguments are bundled into a kwargs dict\n",
    "- Why?\n",
    "    - Allow arbitrary named parameters, usually for configuration\n",
    "    - Similar: capture all arguments to forward to another handler\n",
    "        - Used in subclasses, proxies, and decorators"
   ]
  },
  {
   "cell_type": "code",
   "execution_count": null,
   "metadata": {
    "collapsed": true,
    "slideshow": {
     "slide_type": "subslide"
    }
   },
   "outputs": [],
   "source": [
    "def authorize(quote, **speaker_info):\n",
    "    print(\">\", quote)\n",
    "    print(\"-\" * (len(quote) + 2))\n",
    "    for k, v in speaker_info.items():\n",
    "        print(k, v, sep=': ')"
   ]
  },
  {
   "cell_type": "code",
   "execution_count": null,
   "metadata": {
    "collapsed": true,
    "slideshow": {
     "slide_type": "fragment"
    }
   },
   "outputs": [],
   "source": [
    "authorize(\n",
    "    \"If music be the food of love, play on.\",\n",
    "    playwright=\"Shakespeare\",\n",
    "    act=1,\n",
    "    scene=1,\n",
    "    speaker=\"Duke Orsino\"\n",
    ")\n",
    "\n",
    "# > If music be the food of love, play on.\n",
    "# ----------------------------------------\n",
    "# act: 1\n",
    "# scene: 1\n",
    "# speaker: Duke Orsino\n",
    "# playwright: Shakespeare"
   ]
  },
  {
   "cell_type": "markdown",
   "metadata": {
    "slideshow": {
     "slide_type": "subslide"
    }
   },
   "source": [
    "#### Unpacking Variadic Keyword Arguments"
   ]
  },
  {
   "cell_type": "code",
   "execution_count": null,
   "metadata": {
    "collapsed": true,
    "slideshow": {
     "slide_type": "fragment"
    }
   },
   "outputs": [],
   "source": [
    "info = {\n",
    "    'sonnet': 18,\n",
    "    'line': 1,\n",
    "    'author': \"Shakespeare\"\n",
    "}"
   ]
  },
  {
   "cell_type": "code",
   "execution_count": null,
   "metadata": {
    "collapsed": true,
    "slideshow": {
     "slide_type": "fragment"
    }
   },
   "outputs": [],
   "source": [
    "authorize(\"Shall I compare tree to a summer's day\", **info)\n",
    "\n",
    "# > Shall I compare tree to a summer's day\n",
    "# ----------------------------------------\n",
    "# line: 1\n",
    "# sonnet: 18\n",
    "# author: Shakespeare"
   ]
  },
  {
   "cell_type": "markdown",
   "metadata": {
    "slideshow": {
     "slide_type": "slide"
    }
   },
   "source": [
    "## Function Comments"
   ]
  },
  {
   "cell_type": "markdown",
   "metadata": {
    "slideshow": {
     "slide_type": "fragment"
    }
   },
   "source": [
    "- The first string literal inside a function body is a docstring\n",
    "    - First line: one-line summary of the function\n",
    "    - Subsequent lines: extended description of function\n",
    "- Describe parameters (value / expected type) and return\n",
    "    - Many standards have emerged (javadoc, reST, Google)\n",
    "    - Just be consistent!\n",
    "- The usual rules apply too! List pre-/post-conditions, if any."
   ]
  },
  {
   "cell_type": "code",
   "execution_count": 2,
   "metadata": {
    "collapsed": true,
    "slideshow": {
     "slide_type": "subslide"
    }
   },
   "outputs": [],
   "source": [
    "def my_function():\n",
    "    \"\"\"Summary line: do nothing, but document it.\n",
    "    Description: No, really, it doesn't do anything.\n",
    "    \"\"\"\n",
    "    pass"
   ]
  },
  {
   "cell_type": "code",
   "execution_count": 3,
   "metadata": {
    "slideshow": {
     "slide_type": "fragment"
    }
   },
   "outputs": [
    {
     "name": "stdout",
     "output_type": "stream",
     "text": [
      "Summary line: do nothing, but document it.\n",
      "    Description: No, really, it doesn't do anything.\n",
      "    \n"
     ]
    }
   ],
   "source": [
    "print(my_function.__doc__)"
   ]
  },
  {
   "cell_type": "markdown",
   "metadata": {
    "slideshow": {
     "slide_type": "slide"
    }
   },
   "source": [
    "## Dekorators"
   ]
  },
  {
   "cell_type": "markdown",
   "metadata": {
    "slideshow": {
     "slide_type": "subslide"
    }
   },
   "source": [
    "#### Functions as arguments"
   ]
  },
  {
   "cell_type": "code",
   "execution_count": 4,
   "metadata": {
    "slideshow": {
     "slide_type": "fragment"
    }
   },
   "outputs": [
    {
     "name": "stdout",
     "output_type": "stream",
     "text": [
      "5&10...5&10..."
     ]
    }
   ],
   "source": [
    "def perform_twice(fn, *args, **kwargs):\n",
    "    fn(*args, **kwargs)\n",
    "    fn(*args, **kwargs)\n",
    "    \n",
    "perform_twice(print, 5, 10, sep='&', end='...')\n",
    "\n",
    "# => 5&10...5&10..."
   ]
  },
  {
   "cell_type": "markdown",
   "metadata": {
    "slideshow": {
     "slide_type": "subslide"
    }
   },
   "source": [
    "#### Functions as Return Values"
   ]
  },
  {
   "cell_type": "code",
   "execution_count": 6,
   "metadata": {
    "collapsed": true,
    "slideshow": {
     "slide_type": "fragment"
    }
   },
   "outputs": [],
   "source": [
    "def make_divisibility_test(n):\n",
    "    def divisible_by_n(m):\n",
    "        return m % n == 0\n",
    "    return divisible_by_n"
   ]
  },
  {
   "cell_type": "code",
   "execution_count": 8,
   "metadata": {
    "slideshow": {
     "slide_type": "fragment"
    }
   },
   "outputs": [
    {
     "data": {
      "text/plain": [
       "False"
      ]
     },
     "execution_count": 8,
     "metadata": {},
     "output_type": "execute_result"
    }
   ],
   "source": [
    "div_by_3 = make_divisibility_test(3)\n",
    "div_by_3(4)"
   ]
  },
  {
   "cell_type": "code",
   "execution_count": 9,
   "metadata": {
    "slideshow": {
     "slide_type": "fragment"
    }
   },
   "outputs": [
    {
     "data": {
      "text/plain": [
       "True"
      ]
     },
     "execution_count": 9,
     "metadata": {},
     "output_type": "execute_result"
    }
   ],
   "source": [
    "make_divisibility_test(5)(10) # => True"
   ]
  },
  {
   "cell_type": "markdown",
   "metadata": {
    "slideshow": {
     "slide_type": "subslide"
    }
   },
   "source": [
    "#### Decorators: use both functions as arguments and as return values"
   ]
  },
  {
   "cell_type": "code",
   "execution_count": 2,
   "metadata": {
    "slideshow": {
     "slide_type": "fragment"
    }
   },
   "outputs": [],
   "source": [
    "def debug(function):\n",
    "    def wrapper(*args, **kwargs):\n",
    "        print(\"Arguments:\", args, kwargs)\n",
    "        return function(*args, **kwargs)\n",
    "    return wrapper"
   ]
  },
  {
   "cell_type": "code",
   "execution_count": 3,
   "metadata": {
    "slideshow": {
     "slide_type": "subslide"
    }
   },
   "outputs": [],
   "source": [
    "def foo(a, b, c=1):\n",
    "    return (a + b) * c"
   ]
  },
  {
   "cell_type": "code",
   "execution_count": 4,
   "metadata": {
    "slideshow": {
     "slide_type": "fragment"
    }
   },
   "outputs": [],
   "source": [
    "foo = debug(foo)"
   ]
  },
  {
   "cell_type": "code",
   "execution_count": 5,
   "metadata": {
    "slideshow": {
     "slide_type": "fragment"
    }
   },
   "outputs": [
    {
     "name": "stdout",
     "output_type": "stream",
     "text": [
      "Arguments: (2, 3) {}\n"
     ]
    },
    {
     "data": {
      "text/plain": [
       "5"
      ]
     },
     "execution_count": 5,
     "metadata": {},
     "output_type": "execute_result"
    }
   ],
   "source": [
    "foo(2, 3) # prints \"Arguments: (2, 3) {}\n",
    "# => returns 5\n",
    "# foo(2, 1, c=3) # prints \"Arguments: (2, 1) {'c': 3}\"\n",
    "# # => returns 9\n",
    "# print(foo) # <function debug.<locals>.wrapper at 0x...>"
   ]
  },
  {
   "cell_type": "markdown",
   "metadata": {
    "slideshow": {
     "slide_type": "subslide"
    }
   },
   "source": [
    "#### Using function as decorator"
   ]
  },
  {
   "cell_type": "code",
   "execution_count": 6,
   "metadata": {
    "slideshow": {
     "slide_type": "fragment"
    }
   },
   "outputs": [],
   "source": [
    "@debug\n",
    "def foo(a, b, c=1):\n",
    "    return (a + b) * c"
   ]
  },
  {
   "cell_type": "code",
   "execution_count": 7,
   "metadata": {
    "slideshow": {
     "slide_type": "fragment"
    }
   },
   "outputs": [
    {
     "name": "stdout",
     "output_type": "stream",
     "text": [
      "Arguments: (5, 3) {'c': 2}\n"
     ]
    },
    {
     "data": {
      "text/plain": [
       "16"
      ]
     },
     "execution_count": 7,
     "metadata": {},
     "output_type": "execute_result"
    }
   ],
   "source": [
    "foo(5,3, c=2)"
   ]
  },
  {
   "cell_type": "markdown",
   "metadata": {
    "slideshow": {
     "slide_type": "subslide"
    }
   },
   "source": [
    "Decorators can be used for:\n",
    "- Cache function return value (memoization)\n",
    "- Set timeout for blocking function\n",
    "- Mark class properties as readonly\n",
    "- Mark methods as static methods or class methods\n",
    "- Handle administrative logic (authorization, routing, etc)"
   ]
  },
  {
   "cell_type": "markdown",
   "metadata": {
    "slideshow": {
     "slide_type": "slide"
    }
   },
   "source": [
    "## Iterators"
   ]
  },
  {
   "cell_type": "markdown",
   "metadata": {
    "slideshow": {
     "slide_type": "fragment"
    }
   },
   "source": [
    "> Stream of data, returned one element at a time"
   ]
  },
  {
   "cell_type": "markdown",
   "metadata": {
    "slideshow": {
     "slide_type": "subslide"
    }
   },
   "source": [
    "- Iterators are objects, like (almost) everything in Python\n",
    "- Represent finite or infinite data streams\n",
    "\n",
    "- Use next(iterator) to yield successive values\n",
    "    - Raises StopIteration error upon termination\n",
    "- Use iter(data) to build an iterator for a data structure"
   ]
  },
  {
   "cell_type": "code",
   "execution_count": 8,
   "metadata": {
    "slideshow": {
     "slide_type": "subslide"
    }
   },
   "outputs": [
    {
     "ename": "StopIteration",
     "evalue": "",
     "output_type": "error",
     "traceback": [
      "\u001b[1;31m---------------------------------------------------------------------------\u001b[0m",
      "\u001b[1;31mStopIteration\u001b[0m                             Traceback (most recent call last)",
      "\u001b[1;32m<ipython-input-8-0f0337849e26>\u001b[0m in \u001b[0;36m<module>\u001b[1;34m\u001b[0m\n\u001b[0;32m      5\u001b[0m \u001b[0mnext\u001b[0m\u001b[1;33m(\u001b[0m\u001b[0mit\u001b[0m\u001b[1;33m)\u001b[0m \u001b[1;31m# => 2\u001b[0m\u001b[1;33m\u001b[0m\u001b[0m\n\u001b[0;32m      6\u001b[0m \u001b[0mnext\u001b[0m\u001b[1;33m(\u001b[0m\u001b[0mit\u001b[0m\u001b[1;33m)\u001b[0m \u001b[1;31m# => 3\u001b[0m\u001b[1;33m\u001b[0m\u001b[0m\n\u001b[1;32m----> 7\u001b[1;33m \u001b[0mnext\u001b[0m\u001b[1;33m(\u001b[0m\u001b[0mit\u001b[0m\u001b[1;33m)\u001b[0m \u001b[1;31m# raises StopIteration error\u001b[0m\u001b[1;33m\u001b[0m\u001b[0m\n\u001b[0m",
      "\u001b[1;31mStopIteration\u001b[0m: "
     ]
    }
   ],
   "source": [
    "# Build an iterator over [1,2,3]\n",
    "it = iter([1,2,3])\n",
    "\n",
    "next(it) # => 1\n",
    "next(it) # => 2\n",
    "next(it) # => 3\n",
    "next(it) # raises StopIteration error"
   ]
  },
  {
   "cell_type": "code",
   "execution_count": null,
   "metadata": {
    "collapsed": true,
    "slideshow": {
     "slide_type": "subslide"
    }
   },
   "outputs": [],
   "source": [
    "for data in data_source:\n",
    "    process(data)\n",
    "\n",
    "# is really\n",
    "for data in iter(data_source):\n",
    "    process(data)"
   ]
  },
  {
   "cell_type": "markdown",
   "metadata": {
    "slideshow": {
     "slide_type": "fragment"
    }
   },
   "source": [
    "# Iterator sees changes to the underlying data structure"
   ]
  },
  {
   "cell_type": "markdown",
   "metadata": {
    "slideshow": {
     "slide_type": "subslide"
    }
   },
   "source": [
    "#### Consume iterable until return value is known - RETURNS a VALUE"
   ]
  },
  {
   "cell_type": "code",
   "execution_count": null,
   "metadata": {
    "collapsed": true,
    "slideshow": {
     "slide_type": "fragment"
    }
   },
   "outputs": [],
   "source": [
    "max(iterable) \n",
    "min(iterable)\n",
    "\n",
    "val in iterable \n",
    "val not in iterable\n",
    "\n",
    "all(iterable) \n",
    "any(iterable)"
   ]
  },
  {
   "cell_type": "markdown",
   "metadata": {
    "slideshow": {
     "slide_type": "subslide"
    }
   },
   "source": [
    "#### RETURN VALUES are ITERABLE"
   ]
  },
  {
   "cell_type": "code",
   "execution_count": null,
   "metadata": {
    "collapsed": true,
    "slideshow": {
     "slide_type": "fragment"
    }
   },
   "outputs": [],
   "source": [
    "enumerate(iterable) \n",
    "zip(*iterables)\n",
    "map(fn, iterable)\n",
    "filter(pred, iterable)"
   ]
  },
  {
   "cell_type": "markdown",
   "metadata": {
    "slideshow": {
     "slide_type": "fragment"
    }
   },
   "source": [
    "> To convert to list, use list(iterable)"
   ]
  },
  {
   "cell_type": "markdown",
   "metadata": {
    "slideshow": {
     "slide_type": "slide"
    }
   },
   "source": [
    "## Generators"
   ]
  },
  {
   "cell_type": "markdown",
   "metadata": {
    "slideshow": {
     "slide_type": "fragment"
    }
   },
   "source": [
    "> \"Resumable Functions\""
   ]
  },
  {
   "cell_type": "markdown",
   "metadata": {
    "slideshow": {
     "slide_type": "subslide"
    }
   },
   "source": [
    "**Regular Functions**\n",
    "\n",
    "Return a single, computed value"
   ]
  },
  {
   "cell_type": "markdown",
   "metadata": {
    "slideshow": {
     "slide_type": "fragment"
    }
   },
   "source": [
    "**Generators**\n",
    "\n",
    "Return an iterator that generates a stream of values"
   ]
  },
  {
   "cell_type": "markdown",
   "metadata": {
    "slideshow": {
     "slide_type": "fragment"
    }
   },
   "source": [
    "**Regular Functions**\n",
    "\n",
    "Each call generates a new private namespace and new local variables, then variables are thrown away"
   ]
  },
  {
   "cell_type": "markdown",
   "metadata": {
    "slideshow": {
     "slide_type": "fragment"
    }
   },
   "source": [
    "**Generators**\n",
    "\n",
    "Local variables aren't thrown away when exiting a function - you can resume where you left off!"
   ]
  },
  {
   "cell_type": "code",
   "execution_count": null,
   "metadata": {
    "collapsed": true,
    "slideshow": {
     "slide_type": "subslide"
    }
   },
   "outputs": [],
   "source": [
    "def generate_ints(n):\n",
    "    for i in range(n):\n",
    "        yield i\n",
    "        \n",
    "g = generate_ints(3)\n",
    "\n",
    "type(g) # => <class 'generator'>\n",
    "next(g) # => 0\n",
    "next(g) # => 1\n",
    "next(g) # => 2\n",
    "next(g) # raises StopIteration"
   ]
  },
  {
   "cell_type": "code",
   "execution_count": null,
   "metadata": {
    "collapsed": true,
    "slideshow": {
     "slide_type": "subslide"
    }
   },
   "outputs": [],
   "source": [
    "def generate_fibs():\n",
    "    a, b = 0, 1\n",
    "    while True:\n",
    "        a, b = b, a + b\n",
    "        yield a"
   ]
  },
  {
   "cell_type": "code",
   "execution_count": null,
   "metadata": {
    "collapsed": true,
    "slideshow": {
     "slide_type": "subslide"
    }
   },
   "outputs": [],
   "source": [
    "g = generate_fibs()\n",
    "\n",
    "next(g) # => 1\n",
    "next(g) # => 1\n",
    "next(g) # => 2\n",
    "next(g) # => 3\n",
    "next(g) # => 5\n",
    "\n",
    "max(g) # Oh no! What happens?"
   ]
  },
  {
   "cell_type": "markdown",
   "metadata": {
    "slideshow": {
     "slide_type": "subslide"
    }
   },
   "source": [
    "Compute data on demand\n",
    "- Reduces in-memory buffering\n",
    "- Avoid expensive function calls\n",
    "- Describe (finite or infinite) streams of data"
   ]
  },
  {
   "cell_type": "markdown",
   "metadata": {
    "slideshow": {
     "slide_type": "subslide"
    }
   },
   "source": [
    "[https://www.youtube.com/watch?v=WjJUPxKB164](https://www.youtube.com/watch?v=WjJUPxKB164)\n",
    "\n",
    "15:00 - ..."
   ]
  }
 ],
 "metadata": {
  "celltoolbar": "Slideshow",
  "kernelspec": {
   "display_name": "Python 3",
   "language": "python",
   "name": "python3"
  },
  "language_info": {
   "codemirror_mode": {
    "name": "ipython",
    "version": 3
   },
   "file_extension": ".py",
   "mimetype": "text/x-python",
   "name": "python",
   "nbconvert_exporter": "python",
   "pygments_lexer": "ipython3",
   "version": "3.7.9"
  }
 },
 "nbformat": 4,
 "nbformat_minor": 2
}
