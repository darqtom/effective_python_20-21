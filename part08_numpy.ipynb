{
 "cells": [
  {
   "cell_type": "markdown",
   "metadata": {
    "slideshow": {
     "slide_type": "slide"
    }
   },
   "source": [
    "# Efektywne programowanie w języku Python \n",
    "\n",
    "## wykład 8"
   ]
  },
  {
   "cell_type": "markdown",
   "metadata": {
    "slideshow": {
     "slide_type": "slide"
    }
   },
   "source": [
    "![alt text](images/numpy_project_page.jpg \"numpy\")"
   ]
  },
  {
   "cell_type": "markdown",
   "metadata": {
    "slideshow": {
     "slide_type": "fragment"
    }
   },
   "source": [
    "## Wydajne obliczenia numeryczne"
   ]
  },
  {
   "cell_type": "markdown",
   "metadata": {
    "slideshow": {
     "slide_type": "slide"
    }
   },
   "source": [
    "Standardowe typy danych i procedury Pythona nie nadają się do poważnych zastosowań numerycznych. Konieczne było opracowanie zoptymalizowanych pod względem typowych operacji numerycznych typów danych i procedur. Stworzony został **Numerical Python**, zwany w skrócie **NumPy**. Podczas rozwoju tego pakietu kierowano się podejściem zastosowanym w takich językach jak Basis, MATLAB, rodzina języków APL, FORTRAN i innych. Tak więc NumPy jest biblioteką Pythona służącą do obliczeń naukowych. Dostarcza ona listę matematycznych funkcji użytecznych w takich zagadnieniach jak:\n",
    "- algebra liniowa,\n",
    "- transformacje Fouriera,\n",
    "- generowanie liczb losowych,\n",
    "- oraz wszystkie operacje na tablicach i macierzach, które są podstawowymi obiektami w Numpy."
   ]
  },
  {
   "cell_type": "markdown",
   "metadata": {
    "slideshow": {
     "slide_type": "subslide"
    }
   },
   "source": [
    "W numpy znajdziemy, m.in.\n",
    "- `ndarray` - wydajną implementacjeę tablic wielowymiarowych umozliwiające szybkie wykonywanie operacji arytmetycznych,\n",
    "- funkcje matematyczne przeznaczone do wykonywania szybkich operacji na calych tablicach bez potrzeby korzystania z pętli,\n",
    "- narzędzia przeznaczone do zapisu i odczytu danych tablicowych."
   ]
  },
  {
   "cell_type": "code",
   "execution_count": 1,
   "metadata": {
    "slideshow": {
     "slide_type": "subslide"
    }
   },
   "outputs": [],
   "source": [
    "import numpy\n",
    "# lub\n",
    "import numpy as np "
   ]
  },
  {
   "cell_type": "markdown",
   "metadata": {
    "slideshow": {
     "slide_type": "subslide"
    }
   },
   "source": [
    "# Przyklad na rozgrzewkę"
   ]
  },
  {
   "cell_type": "code",
   "execution_count": 2,
   "metadata": {
    "slideshow": {
     "slide_type": "fragment"
    }
   },
   "outputs": [],
   "source": [
    "import numpy as np\n",
    "a_arr = np.arange(1_000_000)\n",
    "a_list = list(range(1_000_000))"
   ]
  },
  {
   "cell_type": "code",
   "execution_count": 3,
   "metadata": {
    "slideshow": {
     "slide_type": "fragment"
    }
   },
   "outputs": [
    {
     "name": "stdout",
     "output_type": "stream",
     "text": [
      "39.8 ms ± 11.3 ms per loop (mean ± std. dev. of 7 runs, 10 loops each)\n"
     ]
    }
   ],
   "source": [
    "%%timeit\n",
    "for _ in range(10):\n",
    "    a_arr2 = a_arr * 2"
   ]
  },
  {
   "cell_type": "code",
   "execution_count": 4,
   "metadata": {
    "slideshow": {
     "slide_type": "fragment"
    }
   },
   "outputs": [
    {
     "name": "stdout",
     "output_type": "stream",
     "text": [
      "1.47 s ± 202 ms per loop (mean ± std. dev. of 7 runs, 1 loop each)\n"
     ]
    }
   ],
   "source": [
    "%%timeit\n",
    "for _ in range(10):\n",
    "    a_list2 = [x * 2 for x in a_list]"
   ]
  },
  {
   "cell_type": "markdown",
   "metadata": {
    "slideshow": {
     "slide_type": "fragment"
    }
   },
   "source": [
    "Generalnie jest of 10 do 1000 razy szybciej, jeśli umiemy numpy."
   ]
  },
  {
   "cell_type": "markdown",
   "metadata": {
    "slideshow": {
     "slide_type": "slide"
    }
   },
   "source": [
    "## Tworzenie macierzy"
   ]
  },
  {
   "cell_type": "markdown",
   "metadata": {
    "slideshow": {
     "slide_type": "subslide"
    }
   },
   "source": [
    "Do stworzenia tablicy jedno-, dwu- i wielowymiarowej używamy funkcji **array** - przyjmuje ona dowolny obiekt będący sekwencją i generuje nowa tablice  numpy"
   ]
  },
  {
   "cell_type": "code",
   "execution_count": 5,
   "metadata": {
    "slideshow": {
     "slide_type": "fragment"
    }
   },
   "outputs": [
    {
     "name": "stdout",
     "output_type": "stream",
     "text": [
      "x= [1 2 3] \n",
      "\n",
      "A= [[1 2 3]\n",
      " [4 5 6]] \n",
      "\n",
      "B= [[[1 1 1]\n",
      "  [1 1 1]]\n",
      "\n",
      " [[2 2 2]\n",
      "  [2 2 2]]] \n",
      "\n"
     ]
    }
   ],
   "source": [
    "x = np.array([1,2,3]) # tablica jednowymiarowa\n",
    "A = np.array([[1,2,3] , [4,5,6]]) # tablica dwuwymiarowa\n",
    "B = np.array( [[[1,1,1],[1,1,1]], [[2,2,2],[2,2,2]]]) # wielowymiarowa\n",
    "\n",
    "print('x=',  x, '\\n')\n",
    "print('A=', A, '\\n')\n",
    "print('B=', B, '\\n')"
   ]
  },
  {
   "cell_type": "markdown",
   "metadata": {
    "slideshow": {
     "slide_type": "subslide"
    }
   },
   "source": [
    "Tablica ma wymiar i kasztalt"
   ]
  },
  {
   "cell_type": "code",
   "execution_count": 6,
   "metadata": {
    "slideshow": {
     "slide_type": "fragment"
    }
   },
   "outputs": [],
   "source": [
    "x = np.array([[1,2,3],[2,3,4]]) # tablica dwuwymiarowa"
   ]
  },
  {
   "cell_type": "code",
   "execution_count": 7,
   "metadata": {
    "slideshow": {
     "slide_type": "fragment"
    }
   },
   "outputs": [
    {
     "data": {
      "text/plain": [
       "2"
      ]
     },
     "execution_count": 7,
     "metadata": {},
     "output_type": "execute_result"
    }
   ],
   "source": [
    "x.ndim"
   ]
  },
  {
   "cell_type": "code",
   "execution_count": 8,
   "metadata": {
    "slideshow": {
     "slide_type": "fragment"
    }
   },
   "outputs": [
    {
     "data": {
      "text/plain": [
       "(2, 3)"
      ]
     },
     "execution_count": 8,
     "metadata": {},
     "output_type": "execute_result"
    }
   ],
   "source": [
    "x.shape"
   ]
  },
  {
   "cell_type": "markdown",
   "metadata": {
    "slideshow": {
     "slide_type": "subslide"
    }
   },
   "source": [
    "Przy tworzeniu tablicy istnieje możliwość zadeklarowania jej typu:"
   ]
  },
  {
   "cell_type": "code",
   "execution_count": 9,
   "metadata": {
    "slideshow": {
     "slide_type": "fragment"
    }
   },
   "outputs": [
    {
     "name": "stdout",
     "output_type": "stream",
     "text": [
      "[[1.+0.j 0.+0.j]\n",
      " [0.+0.j 1.+0.j]]\n"
     ]
    }
   ],
   "source": [
    "z = np.array( [[1,0], [0,1]], dtype=complex) # tablica liczb zespolonych\n",
    "print(z)"
   ]
  },
  {
   "cell_type": "markdown",
   "metadata": {
    "slideshow": {
     "slide_type": "fragment"
    }
   },
   "source": [
    "Jesli typ nie zostanie okreslony, numpy zrobi to za nas, informacje te zostaną sapisane w polu `dtype`"
   ]
  },
  {
   "cell_type": "code",
   "execution_count": 10,
   "metadata": {
    "slideshow": {
     "slide_type": "fragment"
    }
   },
   "outputs": [
    {
     "data": {
      "text/plain": [
       "dtype('complex128')"
      ]
     },
     "execution_count": 10,
     "metadata": {},
     "output_type": "execute_result"
    }
   ],
   "source": [
    "z.dtype"
   ]
  },
  {
   "cell_type": "markdown",
   "metadata": {
    "slideshow": {
     "slide_type": "subslide"
    }
   },
   "source": [
    "Do tworzenia tablicy jednowymiarowej (wektora) składającego się z elementów z danego zakresu używamy polecenia **arange(start, stop, krok)**:"
   ]
  },
  {
   "cell_type": "code",
   "execution_count": 11,
   "metadata": {
    "slideshow": {
     "slide_type": "fragment"
    }
   },
   "outputs": [
    {
     "name": "stdout",
     "output_type": "stream",
     "text": [
      "[0 1 2 3 4 5 6 7 8 9] \n",
      "\n",
      "[0 2 4 6 8] \n",
      "\n",
      "[0.  0.5 1.  1.5 2.  2.5 3.  3.5 4.  4.5 5.  5.5 6.  6.5 7.  7.5 8.  8.5\n",
      " 9.  9.5]\n"
     ]
    }
   ],
   "source": [
    "print(np.arange(10), '\\n')\n",
    "print(np.arange(0, 10, 2), '\\n')\n",
    "print(np.arange(0., 10, 0.5))"
   ]
  },
  {
   "cell_type": "markdown",
   "metadata": {
    "slideshow": {
     "slide_type": "subslide"
    }
   },
   "source": [
    "Jeśli chcemy wygenerować tablicę o określonej liczbie z danego przedziału, używamy funkcji linspace:"
   ]
  },
  {
   "cell_type": "code",
   "execution_count": 12,
   "metadata": {
    "slideshow": {
     "slide_type": "fragment"
    }
   },
   "outputs": [
    {
     "name": "stdout",
     "output_type": "stream",
     "text": [
      "[ 0.  5. 10.] \n",
      "\n",
      "[0.   0.25 0.5  0.75 1.  ]\n"
     ]
    }
   ],
   "source": [
    "print(np.linspace(0., 10., 3), '\\n')\n",
    "print(np.linspace(0., 1., 5))"
   ]
  },
  {
   "cell_type": "markdown",
   "metadata": {
    "slideshow": {
     "slide_type": "subslide"
    }
   },
   "source": [
    "Biblioteka Numpy oferuje wiele możliwości budowania typowych tablic:"
   ]
  },
  {
   "cell_type": "code",
   "execution_count": 13,
   "metadata": {
    "slideshow": {
     "slide_type": "fragment"
    }
   },
   "outputs": [
    {
     "name": "stdout",
     "output_type": "stream",
     "text": [
      "[[1. 1. 1.]\n",
      " [1. 1. 1.]\n",
      " [1. 1. 1.]] \n",
      "\n",
      "[[0. 0.]\n",
      " [0. 0.]\n",
      " [0. 0.]] \n",
      "\n",
      "[[1. 0. 0. 0.]\n",
      " [0. 1. 0. 0.]\n",
      " [0. 0. 1. 0.]\n",
      " [0. 0. 0. 1.]]\n"
     ]
    }
   ],
   "source": [
    "print(np.ones((3,3)), '\\n') # dwuwymiarowa tablica (3x3) wypełniona jedynkami\n",
    "print(np.zeros((3,2)), '\\n') # dwuwymiarowa tablica (3x2) wypełniona zerami\n",
    "print(np.eye(4)) # macierz jednostkowa 4x4"
   ]
  },
  {
   "cell_type": "markdown",
   "metadata": {
    "slideshow": {
     "slide_type": "subslide"
    }
   },
   "source": [
    "Korzystając z powyższych funkcji możemy w łatwy sposób tworzyć dowolne macierze, zmieniając ich rozmiary."
   ]
  },
  {
   "cell_type": "code",
   "execution_count": 14,
   "metadata": {
    "slideshow": {
     "slide_type": "fragment"
    }
   },
   "outputs": [
    {
     "name": "stdout",
     "output_type": "stream",
     "text": [
      "[[ 0  1  2]\n",
      " [ 3  4  5]\n",
      " [ 6  7  8]\n",
      " [ 9 10 11]\n",
      " [12 13 14]] \n",
      "\n",
      "[[0.         0.07142857 0.14285714]\n",
      " [0.21428571 0.28571429 0.35714286]\n",
      " [0.42857143 0.5        0.57142857]\n",
      " [0.64285714 0.71428571 0.78571429]\n",
      " [0.85714286 0.92857143 1.        ]]\n"
     ]
    }
   ],
   "source": [
    "print(np.arange(15).reshape(5,3), '\\n')\n",
    "print(np.linspace(0., 1, 15).reshape(5,3))"
   ]
  },
  {
   "cell_type": "markdown",
   "metadata": {
    "slideshow": {
     "slide_type": "subslide"
    }
   },
   "source": [
    "## Uwaga:\n",
    "Metoda `np.empty` może zwrócić coś innego niż macierz z zerami więc nie zakładamy, że zwrac taką macierz."
   ]
  },
  {
   "cell_type": "code",
   "execution_count": 93,
   "metadata": {
    "slideshow": {
     "slide_type": "fragment"
    }
   },
   "outputs": [
    {
     "data": {
      "text/plain": [
       "array([[ 1.,  0.,  1.,  0.,  1.,  2.,  1.,  0.,  1.,  2.],\n",
       "       [ 3.,  2.,  3.,  2.,  3.,  2.,  3.,  4.,  5.,  6.],\n",
       "       [ 5.,  6.,  7.,  6.,  7.,  6.,  5.,  4.,  5.,  6.],\n",
       "       [ 5.,  4.,  3.,  4.,  5.,  6.,  5.,  6.,  7.,  8.],\n",
       "       [ 9., 10., 11., 12., 13., 14., 13., 12., 13., 12.],\n",
       "       [11., 10., 11., 10.,  9., 10., 11., 12., 11., 10.],\n",
       "       [ 9., 10., 11., 10., 11., 10.,  9., 10., 11., 12.],\n",
       "       [11., 10.,  9., 10., 11., 12., 11., 12., 11., 12.],\n",
       "       [11., 12., 13., 12., 11., 10.,  9.,  8.,  9.,  8.],\n",
       "       [ 9., 10.,  9.,  8.,  7.,  6.,  5.,  6.,  5.,  6.]])"
      ]
     },
     "execution_count": 93,
     "metadata": {},
     "output_type": "execute_result"
    }
   ],
   "source": [
    "np.empty((10, 10))"
   ]
  },
  {
   "cell_type": "markdown",
   "metadata": {
    "slideshow": {
     "slide_type": "slide"
    }
   },
   "source": [
    "## Metody `_like` \n",
    "Metody `ones_like`, `zero_like` itd. tworzą tablice o takim samy rozmiarze i wypełniają ją odpowiednimi wartościami"
   ]
  },
  {
   "cell_type": "code",
   "execution_count": 16,
   "metadata": {
    "slideshow": {
     "slide_type": "fragment"
    }
   },
   "outputs": [
    {
     "name": "stdout",
     "output_type": "stream",
     "text": [
      "[[0.         0.09090909 0.18181818]\n",
      " [0.27272727 0.36363636 0.45454545]\n",
      " [0.54545455 0.63636364 0.72727273]\n",
      " [0.81818182 0.90909091 1.        ]]\n"
     ]
    }
   ],
   "source": [
    "x = np.linspace(0., 1, 12).reshape(4,3)\n",
    "print(x)"
   ]
  },
  {
   "cell_type": "code",
   "execution_count": 17,
   "metadata": {
    "slideshow": {
     "slide_type": "fragment"
    }
   },
   "outputs": [
    {
     "data": {
      "text/plain": [
       "array([[1., 1., 1.],\n",
       "       [1., 1., 1.],\n",
       "       [1., 1., 1.],\n",
       "       [1., 1., 1.]])"
      ]
     },
     "execution_count": 17,
     "metadata": {},
     "output_type": "execute_result"
    }
   ],
   "source": [
    "np.ones_like(x)"
   ]
  },
  {
   "cell_type": "markdown",
   "metadata": {
    "slideshow": {
     "slide_type": "slide"
    }
   },
   "source": [
    "# Typy danych"
   ]
  },
  {
   "cell_type": "markdown",
   "metadata": {
    "slideshow": {
     "slide_type": "fragment"
    }
   },
   "source": [
    "| Data type |Description |\n",
    "|---|---|\n",
    "| bool_\t| Boolean (True or False) stored as a byte|\n",
    "|int_\t|Default integer type (same as C long; normally either int64 or int32)|\n",
    "|intc\t|Identical to C int (normally int32 or int64)|\n",
    "|intp\t|Integer used for indexing (same as C ssize_t; normally either int32 or int64)|\n",
    "|int8\t|Byte (-128 to 127)|\n",
    "|int16\t|Integer (-32768 to 32767)|\n",
    "|int32|\tInteger (-2147483648 to 2147483647)|\n",
    "|int64|\tInteger (-9223372036854775808 to 9223372036854775807)|\n",
    "|uint8|\tUnsigned integer (0 to 255)|\n",
    "|uint16|\tUnsigned integer (0 to 65535)|\n",
    "|uint32|Unsigned integer (0 to 4294967295)|\n",
    "|uint64\t|Unsigned integer (0 to 18446744073709551615)|\n",
    "|float_\t|Shorthand for float64.|\n",
    "|float16|\tHalf precision float: sign bit, 5 bits exponent, 10 bits mantissa|\n",
    "|float32|\tSingle precision float: sign bit, 8 bits exponent, 23 bits mantissa|\n",
    "|float64\t|Double precision float: sign bit, 11 bits exponent, 52 bits mantissa|\n",
    "|complex_|Shorthand for complex128.|\n",
    "|complex64\t|Complex number, represented by two 32-bit floats|\n",
    "|complex128|\tComplex number, represented by two 64-bit floats|"
   ]
  },
  {
   "cell_type": "markdown",
   "metadata": {
    "slideshow": {
     "slide_type": "fragment"
    }
   },
   "source": [
    "https://jakevdp.github.io/PythonDataScienceHandbook/02.01-understanding-data-types.html"
   ]
  },
  {
   "cell_type": "code",
   "execution_count": 18,
   "metadata": {
    "slideshow": {
     "slide_type": "subslide"
    }
   },
   "outputs": [
    {
     "data": {
      "text/plain": [
       "dtype('int32')"
      ]
     },
     "execution_count": 18,
     "metadata": {},
     "output_type": "execute_result"
    }
   ],
   "source": [
    "arr = np.array([1, 2, 3, 4])\n",
    "arr.dtype"
   ]
  },
  {
   "cell_type": "code",
   "execution_count": 19,
   "metadata": {
    "slideshow": {
     "slide_type": "fragment"
    }
   },
   "outputs": [
    {
     "data": {
      "text/plain": [
       "dtype('float64')"
      ]
     },
     "execution_count": 19,
     "metadata": {},
     "output_type": "execute_result"
    }
   ],
   "source": [
    "arr2 = arr.astype(np.float64)\n",
    "arr2.dtype"
   ]
  },
  {
   "cell_type": "code",
   "execution_count": 20,
   "metadata": {
    "slideshow": {
     "slide_type": "fragment"
    }
   },
   "outputs": [
    {
     "name": "stdout",
     "output_type": "stream",
     "text": [
      "[1. 2. 3. 4.]\n"
     ]
    }
   ],
   "source": [
    "print(arr2)"
   ]
  },
  {
   "cell_type": "code",
   "execution_count": 78,
   "metadata": {
    "slideshow": {
     "slide_type": "subslide"
    }
   },
   "outputs": [],
   "source": [
    "arr = np.array(['12', '-0.1', '2.3'])"
   ]
  },
  {
   "cell_type": "code",
   "execution_count": 79,
   "metadata": {
    "slideshow": {
     "slide_type": "fragment"
    }
   },
   "outputs": [
    {
     "data": {
      "text/plain": [
       "array(['12', '-0.1', '2.3'], dtype='<U4')"
      ]
     },
     "execution_count": 79,
     "metadata": {},
     "output_type": "execute_result"
    }
   ],
   "source": [
    "arr"
   ]
  },
  {
   "cell_type": "code",
   "execution_count": 23,
   "metadata": {
    "slideshow": {
     "slide_type": "fragment"
    }
   },
   "outputs": [
    {
     "data": {
      "text/plain": [
       "array([12. , -0.1,  2.3])"
      ]
     },
     "execution_count": 23,
     "metadata": {},
     "output_type": "execute_result"
    }
   ],
   "source": [
    "arr.astype(float)"
   ]
  },
  {
   "cell_type": "markdown",
   "metadata": {
    "slideshow": {
     "slide_type": "slide"
    }
   },
   "source": [
    "## Operacje na indeksach"
   ]
  },
  {
   "cell_type": "code",
   "execution_count": 24,
   "metadata": {
    "slideshow": {
     "slide_type": "subslide"
    }
   },
   "outputs": [
    {
     "name": "stdout",
     "output_type": "stream",
     "text": [
      "[ 0  1  2  3  4  5  6  7  8  9 10 11 12 13 14] \n",
      "\n",
      "3 \n",
      "\n"
     ]
    }
   ],
   "source": [
    "x = np.arange(15)\n",
    "print(x, '\\n')\n",
    "print(x[3], '\\n')"
   ]
  },
  {
   "cell_type": "code",
   "execution_count": 25,
   "metadata": {
    "slideshow": {
     "slide_type": "fragment"
    }
   },
   "outputs": [
    {
     "name": "stdout",
     "output_type": "stream",
     "text": [
      "[[ 0  1  2  3]\n",
      " [ 4  5  6  7]\n",
      " [ 8  9 10 11]\n",
      " [12 13 14 15]\n",
      " [16 17 18 19]] \n",
      "\n",
      "11\n",
      "11 \n",
      "\n",
      "[ 8  9 10 11] \n",
      "\n",
      "[ 2  6 10 14 18]\n"
     ]
    }
   ],
   "source": [
    "A = np.arange(20).reshape(5,4)\n",
    "print(A, '\\n')\n",
    "print(A[2, 3])\n",
    "print(A[2][3], '\\n') # równoważnie\n",
    "print(A[2], '\\n') # trzeci wiersz\n",
    "print(A[:, 2]) # trzecia kolumna"
   ]
  },
  {
   "cell_type": "markdown",
   "metadata": {
    "slideshow": {
     "slide_type": "subslide"
    }
   },
   "source": [
    "Aby wyświetlić fragment tablicy od  `n−1`  do `m−1`  elementów używamy składni: `tablica[n:m]`, analogicznie aby wyświetlić elementy tablicy pomiędzy  `n−1` , a  `m−1`  przesuwając się o wartość  `k`  używamy składni `tablica[n:m:k]`."
   ]
  },
  {
   "cell_type": "code",
   "execution_count": 26,
   "metadata": {
    "slideshow": {
     "slide_type": "fragment"
    }
   },
   "outputs": [
    {
     "name": "stdout",
     "output_type": "stream",
     "text": [
      "[ 0  1  2  3  4  5  6  7  8  9 10 11 12 13 14] \n",
      "\n",
      "[ 3  4  5  6  7  8  9 10] \n",
      "\n",
      "[3 5 7 9] \n",
      "\n"
     ]
    }
   ],
   "source": [
    "x = np.arange(15)\n",
    "print(x, '\\n')\n",
    "print(x[3:11], '\\n')\n",
    "print(x[3:11:2], '\\n')"
   ]
  },
  {
   "cell_type": "code",
   "execution_count": 27,
   "metadata": {
    "slideshow": {
     "slide_type": "fragment"
    }
   },
   "outputs": [
    {
     "name": "stdout",
     "output_type": "stream",
     "text": [
      "[[ 8  9 10 11]\n",
      " [12 13 14 15]] \n",
      "\n",
      "[[ 2  3]\n",
      " [ 6  7]\n",
      " [10 11]\n",
      " [14 15]\n",
      " [18 19]] \n",
      "\n",
      "[[ 2  3]\n",
      " [ 6  7]\n",
      " [10 11]\n",
      " [14 15]\n",
      " [18 19]]\n"
     ]
    }
   ],
   "source": [
    "A = np.arange(20).reshape(5,4)\n",
    "print(A[2:4], '\\n') # wiersze od trzeciego do czwartego\n",
    "print(A[:,2:4], '\\n') # trzecia i czwarta kolumnę\n",
    "print(A[:,[2,3]]) # równoważnie"
   ]
  },
  {
   "cell_type": "markdown",
   "metadata": {
    "slideshow": {
     "slide_type": "subslide"
    }
   },
   "source": [
    "Tablice można też budować w oparciu o już istniejące:"
   ]
  },
  {
   "cell_type": "code",
   "execution_count": 28,
   "metadata": {
    "slideshow": {
     "slide_type": "fragment"
    }
   },
   "outputs": [
    {
     "name": "stdout",
     "output_type": "stream",
     "text": [
      "[[ 0  1  2  3]\n",
      " [ 4  5  6  7]\n",
      " [ 8  9 10 11]\n",
      " [12 13 14 15]\n",
      " [16 17 18 19]] \n",
      "\n",
      "[[10 11]\n",
      " [14 15]]\n"
     ]
    }
   ],
   "source": [
    "A = np.arange(20).reshape(5,4)\n",
    "print(A, '\\n')\n",
    "\n",
    "B = A[2:4, 2:]\n",
    "print(B)"
   ]
  },
  {
   "cell_type": "markdown",
   "metadata": {
    "slideshow": {
     "slide_type": "slide"
    }
   },
   "source": [
    "## Zmiana rozmiaru, kształtu tablicy"
   ]
  },
  {
   "cell_type": "markdown",
   "metadata": {
    "slideshow": {
     "slide_type": "subslide"
    }
   },
   "source": [
    "Do zmiany rozmiaru tablicy już utworzonej służy funkcja: **reshape**. Operacja ta nie zmieni zawartości oryginalnej tablicy, pokaże jedynie jej elementy w zadanej postaci."
   ]
  },
  {
   "cell_type": "code",
   "execution_count": 81,
   "metadata": {
    "slideshow": {
     "slide_type": "fragment"
    }
   },
   "outputs": [
    {
     "name": "stdout",
     "output_type": "stream",
     "text": [
      "[0 1 2 3 4 5 6 7] \n",
      "\n",
      "[[0 1 2 3]\n",
      " [4 5 6 7]] \n",
      "\n",
      "[0 1 2 3 4 5 6 7]\n"
     ]
    }
   ],
   "source": [
    "A = np.arange(8)\n",
    "print(A,'\\n')\n",
    "print(A.reshape((2, 4)), '\\n')\n",
    "print(A)"
   ]
  },
  {
   "cell_type": "markdown",
   "metadata": {
    "slideshow": {
     "slide_type": "subslide"
    }
   },
   "source": [
    "Aby zmienić kształt tablicy za pomocą funkcji reshape możemy zrobić tak:"
   ]
  },
  {
   "cell_type": "code",
   "execution_count": 96,
   "metadata": {
    "slideshow": {
     "slide_type": "fragment"
    }
   },
   "outputs": [
    {
     "name": "stdout",
     "output_type": "stream",
     "text": [
      "[0 1 2 3 4 5 6 7] \n",
      "\n",
      "[[0 1 2 3]\n",
      " [4 5 6 7]]\n",
      "[0 1 2 3 4 5 6 7]\n"
     ]
    }
   ],
   "source": [
    "A = np.arange(8)\n",
    "print(A,'\\n')\n",
    "A2 = A.reshape((2, 4))\n",
    "print(A2)\n",
    "print(A)"
   ]
  },
  {
   "cell_type": "markdown",
   "metadata": {
    "slideshow": {
     "slide_type": "subslide"
    }
   },
   "source": [
    "lub użyć funkcję resize:"
   ]
  },
  {
   "cell_type": "code",
   "execution_count": 94,
   "metadata": {
    "slideshow": {
     "slide_type": "fragment"
    }
   },
   "outputs": [
    {
     "name": "stdout",
     "output_type": "stream",
     "text": [
      "[0 1 2 3 4 5 6 7] \n",
      "\n",
      "[[0 1 2 3]\n",
      " [4 5 6 7]]\n"
     ]
    }
   ],
   "source": [
    "A = np.arange(8)\n",
    "print(A,'\\n')\n",
    "A.resize(2, 4)\n",
    "# print(A.resize(2, 4), '\\n')\n",
    "print(A)"
   ]
  },
  {
   "cell_type": "markdown",
   "metadata": {
    "slideshow": {
     "slide_type": "subslide"
    }
   },
   "source": [
    "Do sprawdzenia wymiaru tablicy służy pole **shape**:"
   ]
  },
  {
   "cell_type": "code",
   "execution_count": 32,
   "metadata": {
    "slideshow": {
     "slide_type": "fragment"
    }
   },
   "outputs": [
    {
     "name": "stdout",
     "output_type": "stream",
     "text": [
      "(5, 4) \n",
      "\n",
      "5 \n",
      "\n",
      "4 \n",
      "\n",
      "20\n"
     ]
    }
   ],
   "source": [
    "A = np.arange(20).reshape(5,4)\n",
    "print(A.shape, '\\n') # wymiar tablicy\n",
    "print(A.shape[0], '\\n') # pierwszy wymiar\n",
    "print(A.shape[1], '\\n') # drugi wymiar\n",
    "print(A.size) # liczba wszystkich elementów w tablicy "
   ]
  },
  {
   "cell_type": "markdown",
   "metadata": {
    "slideshow": {
     "slide_type": "subslide"
    }
   },
   "source": [
    "Transpozycja macierzy:"
   ]
  },
  {
   "cell_type": "code",
   "execution_count": 33,
   "metadata": {
    "slideshow": {
     "slide_type": "fragment"
    }
   },
   "outputs": [
    {
     "name": "stdout",
     "output_type": "stream",
     "text": [
      "[[0 1 2 3]\n",
      " [4 5 6 7]] \n",
      "\n",
      "[[0 4]\n",
      " [1 5]\n",
      " [2 6]\n",
      " [3 7]] \n",
      "\n",
      "[[0 4]\n",
      " [1 5]\n",
      " [2 6]\n",
      " [3 7]]\n"
     ]
    }
   ],
   "source": [
    "A = np.arange(8).reshape(2,4)\n",
    "print(A, '\\n')\n",
    "print(A.T, '\\n')\n",
    "print(np.transpose(A))"
   ]
  },
  {
   "cell_type": "markdown",
   "metadata": {
    "slideshow": {
     "slide_type": "fragment"
    }
   },
   "source": [
    "Podobnie jak przy funkcji `reshape` aby zachować wynik transpozycji macierzy musimy go przypisać do nowej zmiennej."
   ]
  },
  {
   "cell_type": "markdown",
   "metadata": {
    "slideshow": {
     "slide_type": "subslide"
    }
   },
   "source": [
    "Aby zmienić tablicę na jednowymiarową, możemy użyć polecenia:"
   ]
  },
  {
   "cell_type": "code",
   "execution_count": 34,
   "metadata": {
    "slideshow": {
     "slide_type": "fragment"
    }
   },
   "outputs": [
    {
     "name": "stdout",
     "output_type": "stream",
     "text": [
      "[[0 1 2 3]\n",
      " [4 5 6 7]] \n",
      "\n",
      "[0 1 2 3 4 5 6 7] \n",
      "\n",
      "[0 1 2 3 4 5 6 7]\n"
     ]
    }
   ],
   "source": [
    "A = np.arange(8).reshape(2,4)\n",
    "print(A, '\\n')\n",
    "print(np.ravel(A), '\\n')\n",
    "print(A.reshape(-1,))"
   ]
  },
  {
   "cell_type": "markdown",
   "metadata": {
    "slideshow": {
     "slide_type": "slide"
    }
   },
   "source": [
    "## Dodawanie, usuwanie elementów"
   ]
  },
  {
   "cell_type": "markdown",
   "metadata": {
    "slideshow": {
     "slide_type": "subslide"
    }
   },
   "source": [
    "Do dodania elementu, kolumny lub wiersza do tablicy w ustalonej pozycji/lokalizacji używamy polecenia **insert**:"
   ]
  },
  {
   "cell_type": "code",
   "execution_count": 35,
   "metadata": {
    "slideshow": {
     "slide_type": "fragment"
    }
   },
   "outputs": [
    {
     "name": "stdout",
     "output_type": "stream",
     "text": [
      "[[1 1]\n",
      " [2 2]\n",
      " [3 3]] \n",
      "\n",
      "[1 5 1 2 2 3 3] \n",
      "\n",
      "[[1 1]\n",
      " [2 2]\n",
      " [3 3]] \n",
      "\n",
      "[[1 5 1]\n",
      " [2 5 2]\n",
      " [3 5 3]] \n",
      "\n",
      "[[1 4 1]\n",
      " [2 5 2]\n",
      " [3 6 3]] \n",
      "\n",
      "[[1 1]\n",
      " [2 2]\n",
      " [3 3]\n",
      " [4 4]]\n"
     ]
    }
   ],
   "source": [
    "A = np.array([[1, 1], [2, 2], [3, 3]])\n",
    "print(A, '\\n')\n",
    "print(np.insert(A, 1, 5), '\\n')\n",
    "print(A, '\\n')\n",
    "print(np.insert(A, 1, 5, axis=1), '\\n') # wstawienie drugiej kolumny\n",
    "print(np.insert(A, 1, [4, 5, 6], axis=1), '\\n') # wstawienie drugiej kolumny\n",
    "print(np.insert(A, 3, 4, axis=0)) # wstawienie wiersza kolumny"
   ]
  },
  {
   "cell_type": "markdown",
   "metadata": {
    "slideshow": {
     "slide_type": "fragment"
    }
   },
   "source": [
    "https://docs.scipy.org/doc/numpy-1.13.0/reference/generated/numpy.insert.html"
   ]
  },
  {
   "cell_type": "markdown",
   "metadata": {
    "slideshow": {
     "slide_type": "subslide"
    }
   },
   "source": [
    "Aby dodać element(-y) na koniec tablicy należy użyć funkcji **append**:"
   ]
  },
  {
   "cell_type": "code",
   "execution_count": 36,
   "metadata": {
    "slideshow": {
     "slide_type": "fragment"
    }
   },
   "outputs": [
    {
     "name": "stdout",
     "output_type": "stream",
     "text": [
      "[1 2 3 4 5 6] \n",
      "\n",
      "[1 2 3 4 5 6 7 8 9] \n",
      "\n",
      "[[1 2 3]\n",
      " [4 5 6]\n",
      " [7 8 9]]\n"
     ]
    }
   ],
   "source": [
    "print(np.append([1, 2, 3], [4, 5, 6]), '\\n')\n",
    "print(np.append([1, 2, 3], [[4, 5, 6], [7, 8, 9]]), '\\n')\n",
    "print(np.append([[1, 2, 3], [4, 5, 6]], [[7, 8, 9]], axis=0))"
   ]
  },
  {
   "cell_type": "markdown",
   "metadata": {
    "slideshow": {
     "slide_type": "subslide"
    }
   },
   "source": [
    "Biblioteka NumPy umożliwia nam także usuwanie wybranych elementów, wierszy lub kolumn z tablicy:"
   ]
  },
  {
   "cell_type": "code",
   "execution_count": 37,
   "metadata": {
    "slideshow": {
     "slide_type": "fragment"
    }
   },
   "outputs": [
    {
     "name": "stdout",
     "output_type": "stream",
     "text": [
      "[[ 0  1  2  3]\n",
      " [ 4  5  6  7]\n",
      " [ 8  9 10 11]\n",
      " [12 13 14 15]\n",
      " [16 17 18 19]] \n",
      "\n",
      "[[ 0  1  2  3]\n",
      " [ 8  9 10 11]\n",
      " [12 13 14 15]\n",
      " [16 17 18 19]] \n",
      "\n",
      "[[ 0  1  2  3]\n",
      " [ 4  5  6  7]\n",
      " [ 8  9 10 11]\n",
      " [12 13 14 15]\n",
      " [16 17 18 19]] \n",
      "\n",
      "[[ 0  3]\n",
      " [ 4  7]\n",
      " [ 8 11]\n",
      " [12 15]\n",
      " [16 19]] \n",
      "\n",
      "[ 0  3  4  6  8 10 11 13 14 15 16 18]\n"
     ]
    }
   ],
   "source": [
    "A = np.arange(20).reshape(5,4)\n",
    "print(A, '\\n')\n",
    "\n",
    "print(np.delete(A, 1, axis=0), '\\n')\n",
    "print(A, '\\n')\n",
    "print(np.delete(A, [1, 2], 1), '\\n')\n",
    "print(np.delete(A, [1, 2, 5, 7, 9, 12, 17, 19]))"
   ]
  },
  {
   "cell_type": "markdown",
   "metadata": {
    "slideshow": {
     "slide_type": "slide"
    }
   },
   "source": [
    "## Podstawowe operacje na tablicach"
   ]
  },
  {
   "cell_type": "markdown",
   "metadata": {
    "slideshow": {
     "slide_type": "fragment"
    }
   },
   "source": [
    "Wiele z tych funkcji to operacje element po elemencie"
   ]
  },
  {
   "cell_type": "markdown",
   "metadata": {
    "slideshow": {
     "slide_type": "subslide"
    }
   },
   "source": [
    "### Dodawanie"
   ]
  },
  {
   "cell_type": "code",
   "execution_count": 99,
   "metadata": {
    "slideshow": {
     "slide_type": "fragment"
    }
   },
   "outputs": [
    {
     "name": "stdout",
     "output_type": "stream",
     "text": [
      "[[15 16 17]\n",
      " [18 19 20]\n",
      " [21 22 23]\n",
      " [24 25 26]\n",
      " [27 28 29]] \n",
      "\n",
      "[1 2 3] \n",
      "\n",
      "[[16 18 20]\n",
      " [19 21 23]\n",
      " [22 24 26]\n",
      " [25 27 29]\n",
      " [28 30 32]]\n",
      "[1 4 6 2 5]\n",
      "[0 1 2 3 4]\n",
      "[1 5 8 5 9]\n",
      "[1 5 8 5 9]\n",
      "[2 5 7 3 6] \n",
      "\n",
      "[[15 17 19]\n",
      " [21 23 25]\n",
      " [27 29 31]\n",
      " [33 35 37]\n",
      " [39 41 43]]\n",
      "[[15 17 19]\n",
      " [21 23 25]\n",
      " [27 29 31]\n",
      " [33 35 37]\n",
      " [39 41 43]]\n",
      "[[20 21 22]\n",
      " [23 24 25]\n",
      " [26 27 28]\n",
      " [29 30 31]\n",
      " [32 33 34]] \n",
      "\n"
     ]
    }
   ],
   "source": [
    "x = np.array([1,4,6,2,5])\n",
    "v = np.arange(5)\n",
    "print(x+v)\n",
    "print(np.add(x, v)) # równoważnie\n",
    "print(x+1, '\\n')\n",
    "\n",
    "A = np.arange(15, 30).reshape((5, 3))\n",
    "B = np.arange(15).reshape((5, 3))\n",
    "print(A+B)\n",
    "print(np.add(A, B))\n",
    "print(A+5, '\\n')\n",
    "\n",
    "x = np.array([1,2,3])\n",
    "print(A, '\\n')\n",
    "print(x, '\\n')\n",
    "print(np.add(A, x)) # dodawanie do każdego wiersza wektora x"
   ]
  },
  {
   "cell_type": "markdown",
   "metadata": {
    "slideshow": {
     "slide_type": "subslide"
    }
   },
   "source": [
    "### Odejmowanie"
   ]
  },
  {
   "cell_type": "code",
   "execution_count": 39,
   "metadata": {},
   "outputs": [
    {
     "name": "stdout",
     "output_type": "stream",
     "text": [
      "[ 1  3  4 -1  1]\n",
      "[ 1  3  4 -1  1]\n",
      "[0 3 5 1 4] \n",
      "\n",
      "[[15 15 15]\n",
      " [15 15 15]\n",
      " [15 15 15]\n",
      " [15 15 15]\n",
      " [15 15 15]]\n",
      "[[15 15 15]\n",
      " [15 15 15]\n",
      " [15 15 15]\n",
      " [15 15 15]\n",
      " [15 15 15]]\n",
      "[[14 15 16]\n",
      " [17 18 19]\n",
      " [20 21 22]\n",
      " [23 24 25]\n",
      " [26 27 28]] \n",
      "\n",
      "[[14 14 14]\n",
      " [17 17 17]\n",
      " [20 20 20]\n",
      " [23 23 23]\n",
      " [26 26 26]]\n"
     ]
    }
   ],
   "source": [
    "x = np.array([1,4,6,2,5])\n",
    "v = np.arange(5)\n",
    "print(x-v)\n",
    "print(np.subtract(x, v)) # równoważnie\n",
    "print(x-1, '\\n')\n",
    "\n",
    "A = np.arange(15, 30).reshape((5, 3))\n",
    "B = np.arange(15).reshape((5, 3))\n",
    "print(A-B)\n",
    "print(np.subtract(A, B))\n",
    "print(A-1, '\\n')\n",
    "\n",
    "x = np.array([1,2,3])\n",
    "print(np.subtract(A, x)) # odjęcie od każdego wiersza wektora x"
   ]
  },
  {
   "cell_type": "markdown",
   "metadata": {
    "slideshow": {
     "slide_type": "subslide"
    }
   },
   "source": [
    "### Mnożenie"
   ]
  },
  {
   "cell_type": "code",
   "execution_count": 40,
   "metadata": {},
   "outputs": [
    {
     "name": "stdout",
     "output_type": "stream",
     "text": [
      "[ 5 20 30 10 25] \n",
      "\n",
      "42 \n",
      "\n",
      "[ 0  4 12  6 20] \n",
      "\n",
      "[[ 5 15]\n",
      " [ 0 30]] \n",
      "\n",
      "[[ 22   0]\n",
      " [ 48 -12]] \n",
      "\n",
      "[[ -2  18]\n",
      " [  0 -12]]\n"
     ]
    }
   ],
   "source": [
    "x = np.array([1,4,6,2,5])\n",
    "v = np.arange(5) #[0,1,2,3,4]\n",
    "print(x*5, '\\n')\n",
    "print(np.dot(x,v), '\\n') # iloczyn skalarny\n",
    "print(x*v, '\\n') # to nie, mnożony jest element przez element! \n",
    "\n",
    "A = np.array([[1, 3], [0, 6]])\n",
    "print(A*5, '\\n')\n",
    "\n",
    "B = np.array([[-2, 6], [8, -2]])\n",
    "print(np.dot(A, B), '\\n')\n",
    "print(A*B) # to nie, mnożony jest element przez element! "
   ]
  },
  {
   "cell_type": "markdown",
   "metadata": {
    "slideshow": {
     "slide_type": "subslide"
    }
   },
   "source": [
    "# UWAGA NA MNOŻENIE MACIERZY"
   ]
  },
  {
   "cell_type": "code",
   "execution_count": 41,
   "metadata": {
    "slideshow": {
     "slide_type": "fragment"
    }
   },
   "outputs": [
    {
     "name": "stdout",
     "output_type": "stream",
     "text": [
      "[[17  1]\n",
      " [28  1]] \n",
      "\n",
      "[[17  1]\n",
      " [28  1]]\n"
     ]
    }
   ],
   "source": [
    "A = np.matrix( ((2,3), \n",
    "                (3, 5)) )\n",
    "B = np.matrix( ((1,2), \n",
    "                (5, -1)) )\n",
    "\n",
    "print(A * B, '\\n')\n",
    "print(np.dot(A, B))"
   ]
  },
  {
   "cell_type": "markdown",
   "metadata": {
    "slideshow": {
     "slide_type": "subslide"
    }
   },
   "source": [
    "### Potęgowanie"
   ]
  },
  {
   "cell_type": "code",
   "execution_count": 42,
   "metadata": {
    "slideshow": {
     "slide_type": "fragment"
    }
   },
   "outputs": [
    {
     "name": "stdout",
     "output_type": "stream",
     "text": [
      "[1 4 6 2 5] \n",
      "\n",
      "[ 1 16 36  4 25]\n",
      "[ 1 16 36  4 25] \n",
      "\n",
      "[[0 1 2]\n",
      " [3 4 5]\n",
      " [6 7 8]] \n",
      "\n",
      "[[ 0  1  4]\n",
      " [ 9 16 25]\n",
      " [36 49 64]] \n",
      "\n",
      "[[ 0  1  4]\n",
      " [ 9 16 25]\n",
      " [36 49 64]]\n"
     ]
    }
   ],
   "source": [
    "x = np.array([1,4,6,2,5])\n",
    "print(x, '\\n')\n",
    "\n",
    "print(x**2)\n",
    "print(np.power(x, 2), '\\n') # równoważnie\n",
    "\n",
    "A = np.arange(9).reshape((3, 3))\n",
    "print(A, '\\n')\n",
    "print(A**2, '\\n') # kwadrat elementów tablicy\n",
    "print(np.power(A, 2)) # równoważnie"
   ]
  },
  {
   "cell_type": "markdown",
   "metadata": {
    "slideshow": {
     "slide_type": "subslide"
    }
   },
   "source": [
    "Więcej funkcji można znaleźć tutaj https://docs.scipy.org/doc/numpy/reference/routines.math.html"
   ]
  },
  {
   "cell_type": "markdown",
   "metadata": {
    "slideshow": {
     "slide_type": "slide"
    }
   },
   "source": [
    "## Porównania elementów tablic"
   ]
  },
  {
   "cell_type": "code",
   "execution_count": 43,
   "metadata": {
    "slideshow": {
     "slide_type": "fragment"
    }
   },
   "outputs": [
    {
     "name": "stdout",
     "output_type": "stream",
     "text": [
      "[[False False False]\n",
      " [False False False]\n",
      " [False False False]\n",
      " [False False False]\n",
      " [False False False]] \n",
      "\n",
      "[[ True  True  True]\n",
      " [ True  True  True]\n",
      " [ True  True  True]\n",
      " [ True  True  True]\n",
      " [ True  True  True]] \n",
      "\n",
      "[[False False False]\n",
      " [False False False]\n",
      " [False False False]\n",
      " [False False False]\n",
      " [ True False False]] \n",
      "\n",
      "True \n",
      "\n",
      "False\n"
     ]
    }
   ],
   "source": [
    "A = np.arange(5, 20).reshape((5, 3))\n",
    "B = np.arange(15).reshape((5, 3))\n",
    "\n",
    "print(A < B, '\\n')\n",
    "print(A == A, '\\n')\n",
    "print(A == 17, '\\n')\n",
    "print(np.any( A > 17 ), '\\n') # prawdziwe, jeśli każdy element z osobna spełnia warunek \n",
    "print(np.all( A > 17 )) # prawdziwe jeśli wszystkie elementy spełniają warunek"
   ]
  },
  {
   "cell_type": "markdown",
   "metadata": {
    "slideshow": {
     "slide_type": "slide"
    }
   },
   "source": [
    "## Łączenie i dzielenie tablic"
   ]
  },
  {
   "cell_type": "markdown",
   "metadata": {
    "slideshow": {
     "slide_type": "subslide"
    }
   },
   "source": [
    "Biblioteka NumPy daje nam narzędzia dzięki, którym możemy łączyć i dzielić tablice."
   ]
  },
  {
   "cell_type": "code",
   "execution_count": 44,
   "metadata": {},
   "outputs": [
    {
     "name": "stdout",
     "output_type": "stream",
     "text": [
      "[[1 2]\n",
      " [3 4]] \n",
      "\n",
      "[[5 6]] \n",
      "\n",
      "[[1 2]\n",
      " [3 4]\n",
      " [5 6]] \n",
      "\n",
      "[[1 2]\n",
      " [3 4]\n",
      " [5 6]] \n",
      "\n",
      "[[1 2 5]\n",
      " [3 4 6]] \n",
      "\n",
      "[[1 2 5]\n",
      " [3 4 6]]\n"
     ]
    }
   ],
   "source": [
    "x = np.array([[1, 2], [3, 4]])\n",
    "y = np.array([[5, 6]])\n",
    "\n",
    "print(x, '\\n')\n",
    "print(y, '\\n')\n",
    "\n",
    "# łączenie wierszowe\n",
    "print(np.concatenate((x, y), axis=0), '\\n')\n",
    "print(np.vstack((x,y)), '\\n')\n",
    "\n",
    "# łączenie kolumnowe\n",
    "print(np.concatenate((x,y.T), axis=1), '\\n')\n",
    "print(np.hstack((x,y.T)))"
   ]
  },
  {
   "cell_type": "markdown",
   "metadata": {
    "slideshow": {
     "slide_type": "subslide"
    }
   },
   "source": [
    "Mamy też możliwość podziału tablicy na podtablice:"
   ]
  },
  {
   "cell_type": "code",
   "execution_count": 45,
   "metadata": {
    "slideshow": {
     "slide_type": "fragment"
    }
   },
   "outputs": [
    {
     "name": "stdout",
     "output_type": "stream",
     "text": [
      "[0 1 2 3 4 5 6 7 8] \n",
      "\n",
      "[array([0, 1, 2]), array([3, 4, 5]), array([6, 7, 8])] \n",
      "\n",
      "[array([0, 1]), array([2, 3]), array([4, 5, 6]), array([7, 8])] \n",
      "\n",
      "[[0 1 2]\n",
      " [3 4 5]\n",
      " [6 7 8]] \n",
      "\n",
      "[array([[0],\n",
      "       [3],\n",
      "       [6]]), array([[1],\n",
      "       [4],\n",
      "       [7]]), array([[2],\n",
      "       [5],\n",
      "       [8]])] \n",
      "\n",
      "[[ 0.  1.  2.  3.]\n",
      " [ 4.  5.  6.  7.]\n",
      " [ 8.  9. 10. 11.]\n",
      " [12. 13. 14. 15.]] \n",
      "\n",
      "[array([[ 0.,  1.],\n",
      "       [ 4.,  5.],\n",
      "       [ 8.,  9.],\n",
      "       [12., 13.]]), array([[ 2.,  3.],\n",
      "       [ 6.,  7.],\n",
      "       [10., 11.],\n",
      "       [14., 15.]])] \n",
      "\n",
      "[array([[ 0.],\n",
      "       [ 4.],\n",
      "       [ 8.],\n",
      "       [12.]]), array([[ 1.,  2.],\n",
      "       [ 5.,  6.],\n",
      "       [ 9., 10.],\n",
      "       [13., 14.]]), array([[ 3.],\n",
      "       [ 7.],\n",
      "       [11.],\n",
      "       [15.]])] \n",
      "\n",
      "[array([[0., 1., 2., 3.],\n",
      "       [4., 5., 6., 7.]]), array([[ 8.,  9., 10., 11.],\n",
      "       [12., 13., 14., 15.]])] \n",
      "\n",
      "[array([[0., 1., 2., 3.]]), array([[ 4.,  5.,  6.,  7.],\n",
      "       [ 8.,  9., 10., 11.]]), array([[12., 13., 14., 15.]])] \n",
      "\n"
     ]
    }
   ],
   "source": [
    "x = np.arange(9)\n",
    "print(x, '\\n')\n",
    "print(np.split(x, 3), '\\n') # podział na 3 podtablice\n",
    "print(np.split(x, [2, 4, 7]), '\\n') # podział na 4 podtablice o \n",
    "                                # wskazanych początkach\n",
    "\n",
    "x = x.reshape((3, 3))\n",
    "print(x, '\\n')\n",
    "print(np.split(x, 3, axis=1), '\\n')\n",
    "\n",
    "# podział ze względu na kolumny\n",
    "x = np.arange(16.0).reshape(4, 4)\n",
    "print(x, '\\n')\n",
    "print(np.hsplit(x, 2), '\\n')\n",
    "print(np.hsplit(x, [1, 3]), '\\n')\n",
    "\n",
    "# podział ze względu na wiersze\n",
    "print(np.vsplit(x, 2), '\\n')\n",
    "print(np.vsplit(x, [1, 3]), '\\n')"
   ]
  },
  {
   "cell_type": "markdown",
   "metadata": {
    "slideshow": {
     "slide_type": "slide"
    }
   },
   "source": [
    "## Wybrane metody z algebry linowej"
   ]
  },
  {
   "cell_type": "markdown",
   "metadata": {
    "slideshow": {
     "slide_type": "subslide"
    }
   },
   "source": [
    "Do części funkcji typowych dla algebry liniowej możemy się odwołać po zaimportowaniu biblioteki **linalg** będącej integralną częścią biblioteki NumPy."
   ]
  },
  {
   "cell_type": "code",
   "execution_count": 46,
   "metadata": {
    "slideshow": {
     "slide_type": "fragment"
    }
   },
   "outputs": [],
   "source": [
    "import numpy.linalg as alg "
   ]
  },
  {
   "cell_type": "markdown",
   "metadata": {
    "slideshow": {
     "slide_type": "subslide"
    }
   },
   "source": [
    "### Macierz odwrotna"
   ]
  },
  {
   "cell_type": "code",
   "execution_count": 47,
   "metadata": {
    "slideshow": {
     "slide_type": "fragment"
    }
   },
   "outputs": [
    {
     "name": "stdout",
     "output_type": "stream",
     "text": [
      "[[-2.   1. ]\n",
      " [ 1.5 -0.5]]\n",
      "[[1.0000000e+00 0.0000000e+00]\n",
      " [8.8817842e-16 1.0000000e+00]]\n"
     ]
    }
   ],
   "source": [
    "A = np.array([[1., 2.], [3., 4.]])\n",
    "invA = alg.inv(A)\n",
    "print(invA)\n",
    "print(np.dot(A, invA))"
   ]
  },
  {
   "cell_type": "markdown",
   "metadata": {
    "slideshow": {
     "slide_type": "subslide"
    }
   },
   "source": [
    "### Wyznacznik"
   ]
  },
  {
   "cell_type": "code",
   "execution_count": 48,
   "metadata": {
    "slideshow": {
     "slide_type": "fragment"
    }
   },
   "outputs": [
    {
     "name": "stdout",
     "output_type": "stream",
     "text": [
      "[[1. 2.]\n",
      " [3. 4.]]\n",
      "-2.0000000000000004\n"
     ]
    }
   ],
   "source": [
    "print(A)\n",
    "print(alg.det(A))"
   ]
  },
  {
   "cell_type": "markdown",
   "metadata": {
    "slideshow": {
     "slide_type": "subslide"
    }
   },
   "source": [
    "### Ślad"
   ]
  },
  {
   "cell_type": "code",
   "execution_count": 49,
   "metadata": {
    "slideshow": {
     "slide_type": "fragment"
    }
   },
   "outputs": [
    {
     "name": "stdout",
     "output_type": "stream",
     "text": [
      "[[1. 2.]\n",
      " [3. 4.]]\n",
      "5.0\n"
     ]
    }
   ],
   "source": [
    "print(A)\n",
    "print(np.trace(A))"
   ]
  },
  {
   "cell_type": "markdown",
   "metadata": {
    "slideshow": {
     "slide_type": "subslide"
    }
   },
   "source": [
    "### Norma dla macierz lub wektora"
   ]
  },
  {
   "cell_type": "code",
   "execution_count": 50,
   "metadata": {
    "slideshow": {
     "slide_type": "fragment"
    }
   },
   "outputs": [
    {
     "name": "stdout",
     "output_type": "stream",
     "text": [
      "5.477225575051661\n",
      "5.477225575051661\n",
      "7.0\n",
      "[3.16227766 4.47213595]\n",
      "[2.23606798 5.        ]\n"
     ]
    }
   ],
   "source": [
    "print(alg.norm(A)) # Euklidesowa\n",
    "print(alg.norm(A, 'fro')) # Frobeniusa https://pl.wikipedia.org/wiki/Norma_macierzowa\n",
    "print(alg.norm(A, np.inf)) # maksimum\n",
    "\n",
    "print(alg.norm(A, axis=0)) # wierszy\n",
    "print(alg.norm(A, axis=1)) # kolumn"
   ]
  },
  {
   "cell_type": "markdown",
   "metadata": {
    "slideshow": {
     "slide_type": "subslide"
    }
   },
   "source": [
    "### Rozwiązywanie układów równań"
   ]
  },
  {
   "cell_type": "code",
   "execution_count": 51,
   "metadata": {
    "slideshow": {
     "slide_type": "fragment"
    }
   },
   "outputs": [
    {
     "name": "stdout",
     "output_type": "stream",
     "text": [
      "[2.33333333 0.66666667]\n"
     ]
    }
   ],
   "source": [
    "# 4*x_1 + x_2 = 10\n",
    "# 3*x_1 = 7\n",
    "A = np.array([[4,1], [3,0]])\n",
    "b = np.array([10,7])\n",
    "print(np.linalg.solve(A, b))"
   ]
  },
  {
   "cell_type": "markdown",
   "metadata": {
    "slideshow": {
     "slide_type": "subslide"
    }
   },
   "source": [
    "### Dekompozycje macierzy"
   ]
  },
  {
   "cell_type": "code",
   "execution_count": 52,
   "metadata": {
    "slideshow": {
     "slide_type": "subslide"
    }
   },
   "outputs": [
    {
     "name": "stdout",
     "output_type": "stream",
     "text": [
      "[[ 0.          0.8660254 ]\n",
      " [-0.40824829  0.28867513]\n",
      " [-0.40824829  0.28867513]\n",
      " [-0.81649658 -0.28867513]]\n",
      "[[-2.44948974 -1.63299316]\n",
      " [ 0.          1.15470054]]\n"
     ]
    }
   ],
   "source": [
    "# QR\n",
    "A = np.array([[0, 1], [1, 1], [1, 1], [2, 1]])\n",
    "q, r = alg.qr(A)\n",
    "print(q)\n",
    "print(r)"
   ]
  },
  {
   "cell_type": "code",
   "execution_count": 53,
   "metadata": {
    "slideshow": {
     "slide_type": "subslide"
    }
   },
   "outputs": [
    {
     "name": "stdout",
     "output_type": "stream",
     "text": [
      "[[-0.83048078  0.26754616 -0.37347641  0.31501761]\n",
      " [-0.38913614  0.06142141  0.14355458 -0.90785051]\n",
      " [ 0.02527634 -0.696557   -0.69705383 -0.16818267]\n",
      " [-0.39778869 -0.66291387  0.59499867  0.21974062]] \n",
      "\n",
      "[4.12510642 2.46831733 1.98929624] \n",
      "\n",
      "[[-0.3003048   0.81717903 -0.49197099]\n",
      " [ 0.92259298  0.11790664 -0.36731487]\n",
      " [-0.24215536 -0.5641954  -0.78933157]] \n",
      "\n",
      "True\n"
     ]
    }
   ],
   "source": [
    "# SVD\n",
    "A = np.random.randn(4, 3)\n",
    "U, s, V = np.linalg.svd(A)\n",
    "print(U, '\\n')\n",
    "print(s, '\\n')\n",
    "print(V, '\\n')\n",
    "\n",
    "S = np.zeros((4, 3))\n",
    "S[:3, :3]  = np.diag(s)\n",
    "print(np.allclose(A, np.dot(U, np.dot(S, V))))"
   ]
  },
  {
   "cell_type": "code",
   "execution_count": 54,
   "metadata": {
    "slideshow": {
     "slide_type": "subslide"
    }
   },
   "outputs": [
    {
     "name": "stdout",
     "output_type": "stream",
     "text": [
      "[[1. 0.]\n",
      " [2. 1.]] \n",
      "\n",
      "True\n"
     ]
    }
   ],
   "source": [
    "# Cholesky A = L*L^T\n",
    "A = np.array([[1,2],[2,5]])\n",
    "L = np.linalg.cholesky(A)\n",
    "print(L, '\\n')\n",
    "\n",
    "print(np.allclose(A, np.dot(L, L.T)))"
   ]
  },
  {
   "cell_type": "markdown",
   "metadata": {
    "slideshow": {
     "slide_type": "subslide"
    }
   },
   "source": [
    "## Statystyka"
   ]
  },
  {
   "cell_type": "markdown",
   "metadata": {
    "slideshow": {
     "slide_type": "fragment"
    }
   },
   "source": [
    "NumPy oferuje dużo możliwości generacji liczb losowych. Poniżej podaję niektóre z nich, więcej można znaleźć tutaj https://docs.scipy.org/doc/numpy/reference/routines.random.html"
   ]
  },
  {
   "cell_type": "code",
   "execution_count": 55,
   "metadata": {
    "slideshow": {
     "slide_type": "subslide"
    }
   },
   "outputs": [
    {
     "name": "stdout",
     "output_type": "stream",
     "text": [
      "[[3.02909798e-01 9.35164243e-01]\n",
      " [3.09099048e-01 6.31038628e-01]\n",
      " [7.26118967e-04 3.47588802e-02]] \n",
      "\n",
      "[[ 2.71767218 -0.67365528  1.51167084]\n",
      " [-0.79823176 -0.60958629  3.06850075]] \n",
      "\n",
      "[[2 0 2]\n",
      " [1 4 1]\n",
      " [0 4 4]] \n",
      "\n",
      "[2 4 0] \n",
      "\n"
     ]
    }
   ],
   "source": [
    "# macierz losowa 3x2 (liczby z przedziału [0, 1)) \n",
    "print(np.random.rand(3,2), '\\n')\n",
    "\n",
    "# macierz losowa 2x3 o elementach z rozkładu N(mu, sigma^2) = N(1, 4)\n",
    "print(2 * np.random.randn(2, 3) + 1, '\\n')\n",
    "\n",
    "# macierz losowa 3x3 o elementach całkowitych z przedziału [0, 5)\n",
    "print(np.random.randint(5, size=(3, 3)), '\\n')\n",
    "\n",
    "# losowe wybranie 3 liczb z [0, 1, 2, 3, 4]\n",
    "print(np.random.choice(5, 3, replace=False), '\\n')"
   ]
  },
  {
   "cell_type": "code",
   "execution_count": 56,
   "metadata": {
    "slideshow": {
     "slide_type": "subslide"
    }
   },
   "outputs": [
    {
     "name": "stdout",
     "output_type": "stream",
     "text": [
      "[[1.12954416 0.23301822 0.64832748]\n",
      " [1.8456717  1.49091059 0.64147814]] \n",
      "\n",
      "[[1 4 1 2]\n",
      " [1 7 1 2]] \n",
      "\n",
      "[-0.67425383 -0.53054503 -0.74880459  0.9914856  -0.74663953 -2.08829194\n",
      "  0.13797484] \n",
      "\n",
      "[4 7 6 1 5 5 4 7 2 8] \n",
      "\n"
     ]
    }
   ],
   "source": [
    "# rozkład wykładniczy (scale = 1/lambda)\n",
    "print(numpy.random.exponential(scale=1.0, size=(2, 3)), '\\n')\n",
    "\n",
    "# rozkład geometryczny\n",
    "print(np.random.geometric(p=0.35, size=(2,4)), '\\n')\n",
    "\n",
    "# rozkład normalny N(mu, sigma)\n",
    "print(np.random.normal(0.0, 1, size=7), '\\n')\n",
    "\n",
    "# rozkład Poissona\n",
    "print(np.random.poisson(5, 10), '\\n')"
   ]
  },
  {
   "cell_type": "code",
   "execution_count": 57,
   "metadata": {
    "slideshow": {
     "slide_type": "subslide"
    }
   },
   "outputs": [
    {
     "name": "stdout",
     "output_type": "stream",
     "text": [
      "[[ 2.37246644 -2.44024247]\n",
      " [ 0.66352968 -3.48286189]\n",
      " [ 8.48747023 -5.77279838]\n",
      " [ 2.00075528 -2.52949224]\n",
      " [ 2.75902541 -4.49780433]\n",
      " [ 8.88802867 -6.88924336]\n",
      " [ 5.02142286 -5.34803957]] \n",
      "\n"
     ]
    }
   ],
   "source": [
    "# rozkład wielowymiarowy rozkład normalny\n",
    "mean = [5, -5]\n",
    "cov = [[10, -6], [-6, 5]]\n",
    "print(np.random.multivariate_normal(mean, cov, 7), '\\n')"
   ]
  },
  {
   "cell_type": "markdown",
   "metadata": {
    "slideshow": {
     "slide_type": "slide"
    }
   },
   "source": [
    "### Proste statystyki"
   ]
  },
  {
   "cell_type": "code",
   "execution_count": 58,
   "metadata": {
    "slideshow": {
     "slide_type": "subslide"
    }
   },
   "outputs": [
    {
     "name": "stdout",
     "output_type": "stream",
     "text": [
      "6.727733843596366 \n",
      "\n",
      "-0.38633819650292844 \n",
      "\n",
      "9.423240288336569 \n",
      "\n",
      "0.20367265662937484 \n",
      "\n"
     ]
    }
   ],
   "source": [
    "x = np.random.normal(2.0, 2.5, size=7)\n",
    "\n",
    "print(x.max(),'\\n') #maksymalna wartość\n",
    "\n",
    "print(x.min(),'\\n') # minimalna wartość \n",
    "\n",
    "print(x.sum(),'\\n') # suma wszystkich elementów \n",
    "\n",
    "print(x.prod(),'\\n') # iloczyn wszystkich elementów "
   ]
  },
  {
   "cell_type": "code",
   "execution_count": 59,
   "metadata": {
    "slideshow": {
     "slide_type": "subslide"
    }
   },
   "outputs": [
    {
     "name": "stdout",
     "output_type": "stream",
     "text": [
      "1.3461771840480812\n",
      "1.3461771840480812 \n",
      "\n",
      "0.5628005212295044 \n",
      "\n",
      "2.270877058748569\n",
      "2.270877058748569 \n",
      "\n",
      "5.156882615950551\n",
      "5.156882615950551\n"
     ]
    }
   ],
   "source": [
    "print(x.mean()) # średnia z wszystkich elementów\n",
    "print(np.mean(x),'\\n')\n",
    "\n",
    "print(np.median(x),'\\n') # mediana\n",
    "\n",
    "print(x.std()) # odchylenie standardowe \n",
    "print(np.std(x),'\\n')\n",
    "\n",
    "print(x.var()) # wariancja\n",
    "print(np.var(x))"
   ]
  },
  {
   "cell_type": "code",
   "execution_count": 60,
   "metadata": {},
   "outputs": [
    {
     "name": "stdout",
     "output_type": "stream",
     "text": [
      "[[   4    3   -5    7]\n",
      " [  40 -100   20   27]\n",
      " [  10   44    0   11]] \n",
      "\n",
      "-100 \n",
      "\n",
      "44 \n",
      "\n",
      "[   4 -100   -5    7]\n",
      "[   4 -100   -5    7] \n",
      "\n",
      "[  -5 -100    0] \n",
      "\n",
      "[[   26.25          -7.25          34.25      ]\n",
      " [   -7.25        4228.91666667 -1163.91666667]\n",
      " [   34.25       -1163.91666667   366.91666667]]\n"
     ]
    }
   ],
   "source": [
    "A = np.array( [[4, 3, -5, 7], [40, -100, 20, 27], [10, 44, 0, 11]] ) \n",
    "\n",
    "print(A,'\\n')\n",
    "\n",
    "print(A.min(),'\\n') # najmniejsza wartość w całej tablicy\n",
    "print(A.max(),'\\n') # największa wartość w całej tablicy \n",
    "\n",
    "print(A.min(0)) # najmniejsza wartość w każdej z kolumn\n",
    "print(np.min(A, axis=0),'\\n')\n",
    "\n",
    "print(A.min(1),'\\n') # najmniejsza wartość w każdym z wierszy \n",
    "\n",
    "print(np.cov(A))"
   ]
  },
  {
   "cell_type": "markdown",
   "metadata": {
    "slideshow": {
     "slide_type": "slide"
    }
   },
   "source": [
    "## Sortowanie i przeszukiwanie tablicy"
   ]
  },
  {
   "cell_type": "markdown",
   "metadata": {
    "slideshow": {
     "slide_type": "subslide"
    }
   },
   "source": [
    "Biblioteka NumPy ma także funkcje sortujące elementy tablicy"
   ]
  },
  {
   "cell_type": "code",
   "execution_count": 61,
   "metadata": {
    "slideshow": {
     "slide_type": "subslide"
    }
   },
   "outputs": [
    {
     "name": "stdout",
     "output_type": "stream",
     "text": [
      "[16 12  8 10 13  4 16  9  4 16] \n",
      "\n",
      "[ 4  4  8  9 10 12 13 16 16 16]\n",
      "[ 4  4  8  9 10 12 13 16 16 16] \n",
      "\n"
     ]
    }
   ],
   "source": [
    "x = np.random.randint(20, size=10)\n",
    "print(x,'\\n')\n",
    "print(np.sort(x)) # quicksort\n",
    "print(np.sort(x, kind='mergesort'), '\\n')"
   ]
  },
  {
   "cell_type": "code",
   "execution_count": 62,
   "metadata": {
    "slideshow": {
     "slide_type": "subslide"
    }
   },
   "outputs": [
    {
     "name": "stdout",
     "output_type": "stream",
     "text": [
      "[[1 4]\n",
      " [3 1]] \n",
      "\n",
      "[[1 4]\n",
      " [1 3]] \n",
      "\n",
      "[[1 1]\n",
      " [3 4]] \n",
      "\n",
      "[1 1 3 4]\n"
     ]
    }
   ],
   "source": [
    "A = np.array([[1,4],[3,1]]) \n",
    "print(A, '\\n')\n",
    "print(np.sort(A), '\\n') # sortowanie względem ostatniej osi\n",
    "print(np.sort(A, axis=0), '\\n')\n",
    "print(np.sort(A, axis=None)) # wszystkich elementów"
   ]
  },
  {
   "cell_type": "code",
   "execution_count": 63,
   "metadata": {
    "slideshow": {
     "slide_type": "subslide"
    }
   },
   "outputs": [
    {
     "name": "stdout",
     "output_type": "stream",
     "text": [
      "[(b'Arthur', 1.8, 41) (b'Lancelot', 1.9, 38) (b'Galahad', 1.7, 38)] \n",
      "\n",
      "[(b'Galahad', 1.7, 38) (b'Arthur', 1.8, 41) (b'Lancelot', 1.9, 38)]\n"
     ]
    }
   ],
   "source": [
    "dtype = [('name', 'S10'), ('height', float), ('age', int)]\n",
    "values = [('Arthur', 1.8, 41), ('Lancelot', 1.9, 38),\n",
    "          ('Galahad', 1.7, 38)]\n",
    "A = np.array(values, dtype=dtype)  # tworzenie tablicy strukturalnej\n",
    "print(A, '\\n')\n",
    "print(np.sort(A, order='height') )"
   ]
  },
  {
   "cell_type": "code",
   "execution_count": 100,
   "metadata": {
    "slideshow": {
     "slide_type": "subslide"
    }
   },
   "outputs": [
    {
     "name": "stdout",
     "output_type": "stream",
     "text": [
      "[1 2 0] \n",
      "\n",
      "[[1 4]\n",
      " [3 1]] \n",
      "\n",
      "[[0 1]\n",
      " [1 0]]\n"
     ]
    }
   ],
   "source": [
    "# indeksy posortowanej tablicy\n",
    "x = np.array([3, 1, 2])\n",
    "             \n",
    "print(np.argsort(x), '\\n')\n",
    "\n",
    "A = np.array([[1,4],[3,1]]) \n",
    "print(A, '\\n')\n",
    "print(np.argsort(A, axis=1))"
   ]
  },
  {
   "cell_type": "markdown",
   "metadata": {
    "slideshow": {
     "slide_type": "subslide"
    }
   },
   "source": [
    "Numpy daje nam możliwość przeszukiwania tablicy:"
   ]
  },
  {
   "cell_type": "code",
   "execution_count": 65,
   "metadata": {
    "slideshow": {
     "slide_type": "fragment"
    }
   },
   "outputs": [
    {
     "name": "stdout",
     "output_type": "stream",
     "text": [
      "[[ 8  1 14  0  3 15]\n",
      " [ 7 14 12  0 15  5]\n",
      " [19  9 17 12  4  8]] \n",
      "\n",
      "12 \n",
      "\n",
      "[2 1 2 2 1 0]\n",
      "[5 4 0]\n"
     ]
    }
   ],
   "source": [
    "# znajdowanie indeksu największego elementu w tablicy\n",
    "A = np.random.randint(20, size=(3, 6))\n",
    "print(A, '\\n')\n",
    "print(np.argmax(A), '\\n') # indeks dla największego elementu w całej tablicy\n",
    "\n",
    "print(np.argmax(A, axis=0)) # indeksy dla największych elementów w kolumnach\n",
    "\n",
    "print(np.argmax(A, axis=1)) # indeksy dla największych elementów w wierszach"
   ]
  },
  {
   "cell_type": "markdown",
   "metadata": {
    "slideshow": {
     "slide_type": "subslide"
    }
   },
   "source": [
    "Analogicznie jak wyżej można znajdować indeks(-y) dla najmniejszej wartości, korzystając z funkcji argmin.\n",
    "Można także znajdować indeksy tych elementów tablicy, które spełniają pewien warunek."
   ]
  },
  {
   "cell_type": "code",
   "execution_count": 66,
   "metadata": {},
   "outputs": [
    {
     "name": "stdout",
     "output_type": "stream",
     "text": [
      "[[19  5 18 16 19 13]\n",
      " [ 4 10 19 12 15  5]\n",
      " [10  3 12  2  5 11]] \n",
      "\n",
      "(array([0, 0, 0, 0, 0, 1, 1, 1, 1, 2, 2, 2], dtype=int64), array([0, 2, 3, 4, 5, 1, 2, 3, 4, 0, 2, 5], dtype=int64)) \n",
      "\n",
      "[[0 0]\n",
      " [0 2]\n",
      " [0 3]\n",
      " [0 4]\n",
      " [0 5]\n",
      " [1 1]\n",
      " [1 2]\n",
      " [1 3]\n",
      " [1 4]\n",
      " [2 0]\n",
      " [2 2]\n",
      " [2 5]]\n"
     ]
    }
   ],
   "source": [
    "A = np.random.randint(20, size=(3, 6))\n",
    "print(A, '\\n')\n",
    "print(np.where(A>5), '\\n')\n",
    "print(np.argwhere(A>5))"
   ]
  },
  {
   "cell_type": "markdown",
   "metadata": {
    "slideshow": {
     "slide_type": "slide"
    }
   },
   "source": [
    "## Odczytywanie i zapisywanie tablic do/ z pliku"
   ]
  },
  {
   "cell_type": "markdown",
   "metadata": {
    "slideshow": {
     "slide_type": "fragment"
    }
   },
   "source": [
    "Oprócz powyższych operacji, biblioteka NumPy posiada jeszcze funkcje importujące i eksportujące dane z i do pliku"
   ]
  },
  {
   "cell_type": "markdown",
   "metadata": {
    "slideshow": {
     "slide_type": "subslide"
    }
   },
   "source": [
    "### Zapisyanie danych - funkcja savetxt"
   ]
  },
  {
   "cell_type": "code",
   "execution_count": 67,
   "metadata": {
    "slideshow": {
     "slide_type": "fragment"
    }
   },
   "outputs": [
    {
     "name": "stdout",
     "output_type": "stream",
     "text": [
      "[0. 1. 2. 3. 4.]\n",
      "0.000000000000000000e+00\n",
      "1.000000000000000000e+00\n",
      "2.000000000000000000e+00\n",
      "3.000000000000000000e+00\n",
      "4.000000000000000000e+00\n",
      "\n",
      "0.000000000000000000e+00 1.000000000000000000e+00 2.000000000000000000e+00 3.000000000000000000e+00 4.000000000000000000e+00\n",
      "0.000000000000000000e+00 1.000000000000000000e+00 2.000000000000000000e+00 3.000000000000000000e+00 4.000000000000000000e+00\n",
      "0.000000000000000000e+00 1.000000000000000000e+00 2.000000000000000000e+00 3.000000000000000000e+00 4.000000000000000000e+00\n",
      "\n",
      "0.0000e+00\n",
      "1.0000e+00\n",
      "2.0000e+00\n",
      "3.0000e+00\n",
      "4.0000e+00\n",
      "\n"
     ]
    }
   ],
   "source": [
    "A = np.arange(0.0,5.0,1.0)\n",
    "\n",
    "print(A)\n",
    "\n",
    "np.savetxt('test1.out', A, delimiter=',')\n",
    "with open('test1.out') as f: print(f.read())\n",
    "    \n",
    "np.savetxt('test2.out', (A,A,A))   # x,y,z equal sized 1D arrays\n",
    "with open('test2.out') as f: print(f.read())\n",
    "\n",
    "np.savetxt('test3.out', A, fmt='%1.4e')   # use exponential notation \n",
    "with open('test3.out') as f: print(f.read())"
   ]
  },
  {
   "cell_type": "markdown",
   "metadata": {
    "slideshow": {
     "slide_type": "subslide"
    }
   },
   "source": [
    "### Odczytywanie danych - funkcja loadtxt"
   ]
  },
  {
   "cell_type": "code",
   "execution_count": 68,
   "metadata": {
    "slideshow": {
     "slide_type": "fragment"
    }
   },
   "outputs": [
    {
     "name": "stdout",
     "output_type": "stream",
     "text": [
      "[0. 1. 2. 3. 4.]\n"
     ]
    }
   ],
   "source": [
    "with open('test1.out', 'r') as f:\n",
    "    B = np.loadtxt(f, delimiter=', ')\n",
    "    \n",
    "print(B)"
   ]
  },
  {
   "cell_type": "markdown",
   "metadata": {
    "slideshow": {
     "slide_type": "subslide"
    }
   },
   "source": [
    "Zapis odczyt mozliwy także z wykorzystaniem `np.save` oraz `np.load`"
   ]
  },
  {
   "cell_type": "markdown",
   "metadata": {
    "slideshow": {
     "slide_type": "subslide"
    }
   },
   "source": [
    "### Jeśli brakuje danych to  np.genfromtxt (https://docs.scipy.org/doc/numpy/reference/generated/numpy.genfromtxt.html#numpy.genfromtxt)"
   ]
  },
  {
   "cell_type": "markdown",
   "metadata": {
    "slideshow": {
     "slide_type": "slide"
    }
   },
   "source": [
    "## Wydajność"
   ]
  },
  {
   "cell_type": "code",
   "execution_count": 69,
   "metadata": {
    "slideshow": {
     "slide_type": "fragment"
    }
   },
   "outputs": [
    {
     "name": "stdout",
     "output_type": "stream",
     "text": [
      "0.2654513000000023\n",
      "3.4091036999999993\n"
     ]
    }
   ],
   "source": [
    "from timeit import timeit\n",
    "\n",
    "print(timeit('np.arange(100000).sum()', setup='import numpy as np', number=1000))\n",
    "print(timeit('sum(range(100000))', number=1000))"
   ]
  },
  {
   "cell_type": "markdown",
   "metadata": {
    "slideshow": {
     "slide_type": "subslide"
    }
   },
   "source": [
    "Źródła:\n",
    "- http://cs231n.github.io/python-numpy-tutorial/#numpy\n",
    "- https://www.tutorialspoint.com/numpy/\n",
    "- https://www.datacamp.com/community/tutorials/python-numpy-tutorial\n",
    "- https://www.youtube.com/watch?v=h3l4qz76JhQ\n",
    "- https://www.youtube.com/watch?v=68gDyk3ziIU\n",
    "- https://www.youtube.com/watch?v=EEUXKG97YRw"
   ]
  },
  {
   "cell_type": "markdown",
   "metadata": {
    "slideshow": {
     "slide_type": "slide"
    }
   },
   "source": [
    "# Programowanie z użyciem tablic"
   ]
  },
  {
   "cell_type": "code",
   "execution_count": 70,
   "metadata": {
    "slideshow": {
     "slide_type": "fragment"
    }
   },
   "outputs": [],
   "source": [
    "points = np.arange(-5, 5, 0.01)\n",
    "xs, ys = np. meshgrid(points, points)"
   ]
  },
  {
   "cell_type": "code",
   "execution_count": 71,
   "metadata": {
    "slideshow": {
     "slide_type": "fragment"
    }
   },
   "outputs": [
    {
     "data": {
      "text/plain": [
       "array([[-5.  , -4.99, -4.98, ...,  4.97,  4.98,  4.99],\n",
       "       [-5.  , -4.99, -4.98, ...,  4.97,  4.98,  4.99],\n",
       "       [-5.  , -4.99, -4.98, ...,  4.97,  4.98,  4.99],\n",
       "       ...,\n",
       "       [-5.  , -4.99, -4.98, ...,  4.97,  4.98,  4.99],\n",
       "       [-5.  , -4.99, -4.98, ...,  4.97,  4.98,  4.99],\n",
       "       [-5.  , -4.99, -4.98, ...,  4.97,  4.98,  4.99]])"
      ]
     },
     "execution_count": 71,
     "metadata": {},
     "output_type": "execute_result"
    }
   ],
   "source": [
    "xs"
   ]
  },
  {
   "cell_type": "code",
   "execution_count": 72,
   "metadata": {
    "slideshow": {
     "slide_type": "subslide"
    }
   },
   "outputs": [],
   "source": [
    "z = np.sqrt(xs **2 + ys ** 2)"
   ]
  },
  {
   "cell_type": "code",
   "execution_count": 73,
   "metadata": {
    "slideshow": {
     "slide_type": "subslide"
    }
   },
   "outputs": [
    {
     "data": {
      "text/plain": [
       "Text(0.5, 1.0, 'funkcja $\\\\sqrt{x^2+y^2}$')"
      ]
     },
     "execution_count": 73,
     "metadata": {},
     "output_type": "execute_result"
    },
    {
     "data": {
      "image/png": "[encoded data removed]",
      "text/plain": [
       "<Figure size 432x288 with 2 Axes>"
      ]
     },
     "metadata": {
      "needs_background": "light"
     },
     "output_type": "display_data"
    }
   ],
   "source": [
    "import matplotlib.pyplot as plt\n",
    "plt.imshow(z, cmap=plt.cm.gray)\n",
    "plt.colorbar()\n",
    "plt.title(\"funkcja $\\sqrt{x^2+y^2}$\")"
   ]
  },
  {
   "cell_type": "markdown",
   "metadata": {
    "slideshow": {
     "slide_type": "subslide"
    }
   },
   "source": [
    "## Przykład 2"
   ]
  },
  {
   "cell_type": "code",
   "execution_count": 101,
   "metadata": {
    "slideshow": {
     "slide_type": "fragment"
    }
   },
   "outputs": [],
   "source": [
    "nsteps = 1000\n",
    "draws= np.random.randint(0,2, size=nsteps)"
   ]
  },
  {
   "cell_type": "code",
   "execution_count": 102,
   "metadata": {
    "slideshow": {
     "slide_type": "fragment"
    }
   },
   "outputs": [],
   "source": [
    "steps = np.where(draws > 0, 1, -1)"
   ]
  },
  {
   "cell_type": "code",
   "execution_count": 103,
   "metadata": {
    "slideshow": {
     "slide_type": "fragment"
    }
   },
   "outputs": [],
   "source": [
    "walk = steps.cumsum()"
   ]
  },
  {
   "cell_type": "code",
   "execution_count": 104,
   "metadata": {
    "slideshow": {
     "slide_type": "subslide"
    }
   },
   "outputs": [
    {
     "data": {
      "text/plain": [
       "[<matplotlib.lines.Line2D at 0x17115a44648>]"
      ]
     },
     "execution_count": 104,
     "metadata": {},
     "output_type": "execute_result"
    },
    {
     "data": {
      "image/png": "[encoded data removed]",
      "text/plain": [
       "<Figure size 432x288 with 1 Axes>"
      ]
     },
     "metadata": {
      "needs_background": "light"
     },
     "output_type": "display_data"
    }
   ],
   "source": [
    "plt.plot(walk[:100])"
   ]
  },
  {
   "cell_type": "markdown",
   "metadata": {
    "slideshow": {
     "slide_type": "slide"
    }
   },
   "source": [
    "Obszerny wykład:\n",
    "\n",
    "https://www.youtube.com/watch?v=poD8ud4MxOY"
   ]
  },
  {
   "cell_type": "code",
   "execution_count": null,
   "metadata": {},
   "outputs": [],
   "source": []
  }
 ],
 "metadata": {
  "celltoolbar": "Slideshow",
  "kernelspec": {
   "display_name": "Python 3",
   "language": "python",
   "name": "python3"
  },
  "language_info": {
   "codemirror_mode": {
    "name": "ipython",
    "version": 3
   },
   "file_extension": ".py",
   "mimetype": "text/x-python",
   "name": "python",
   "nbconvert_exporter": "python",
   "pygments_lexer": "ipython3",
   "version": "3.7.9"
  }
 },
 "nbformat": 4,
 "nbformat_minor": 2
}
