{
 "cells": [
  {
   "cell_type": "markdown",
   "metadata": {
    "slideshow": {
     "slide_type": "slide"
    }
   },
   "source": [
    "# Efektywne programowanie w języku Python \n",
    "\n",
    "## wykład 10"
   ]
  },
  {
   "cell_type": "markdown",
   "metadata": {
    "slideshow": {
     "slide_type": "slide"
    }
   },
   "source": [
    "![alt text](images/django.png \"Guido van Rossum\")"
   ]
  },
  {
   "cell_type": "markdown",
   "metadata": {
    "slideshow": {
     "slide_type": "slide"
    }
   },
   "source": [
    "## Zacznijmy od początku"
   ]
  },
  {
   "cell_type": "markdown",
   "metadata": {
    "slideshow": {
     "slide_type": "subslide"
    }
   },
   "source": [
    "Wersje\n",
    "\n",
    "> As a final heads up, Django 1.11 is likely to be the last version to support Python 2.7 as it will be supported until the end of Python 2 upstream support in 2020."
   ]
  },
  {
   "cell_type": "markdown",
   "metadata": {
    "slideshow": {
     "slide_type": "fragment"
    }
   },
   "source": [
    "![alt text](images/release-roadmap.e844db08610e.png \"ob\")"
   ]
  },
  {
   "cell_type": "markdown",
   "metadata": {
    "slideshow": {
     "slide_type": "slide"
    }
   },
   "source": [
    "## MVC vs. MTV"
   ]
  },
  {
   "cell_type": "markdown",
   "metadata": {
    "slideshow": {
     "slide_type": "subslide"
    }
   },
   "source": [
    "### Django wygląda, jakby było frameworkiem MVC, ale Kontroler nazywacie „widokiem” a Widok „szablonem”. Dlaczego nie używacie standardowych nazw?"
   ]
  },
  {
   "cell_type": "markdown",
   "metadata": {
    "slideshow": {
     "slide_type": "fragment"
    }
   },
   "source": [
    "![alt text](images/introduction-to-django-6-638.jpg \"ob\")"
   ]
  },
  {
   "cell_type": "markdown",
   "metadata": {
    "slideshow": {
     "slide_type": "slide"
    }
   },
   "source": [
    "![alt text](images/day-3-django-flow.png \"Guido van Rossum\")"
   ]
  },
  {
   "cell_type": "markdown",
   "metadata": {
    "slideshow": {
     "slide_type": "slide"
    }
   },
   "source": [
    "## Modele"
   ]
  },
  {
   "cell_type": "markdown",
   "metadata": {
    "slideshow": {
     "slide_type": "subslide"
    }
   },
   "source": [
    "![alt text](images/day-2-orm.png \"ob\")\n"
   ]
  },
  {
   "cell_type": "code",
   "execution_count": null,
   "metadata": {
    "collapsed": true,
    "slideshow": {
     "slide_type": "subslide"
    }
   },
   "outputs": [],
   "source": [
    "DATABASES = {\n",
    "    'default': {\n",
    "        'ENGINE': 'django.db.backends.sqlite3',\n",
    "        'NAME': 'mydatabase',\n",
    "    }\n",
    "}"
   ]
  },
  {
   "cell_type": "code",
   "execution_count": null,
   "metadata": {
    "collapsed": true,
    "slideshow": {
     "slide_type": "fragment"
    }
   },
   "outputs": [],
   "source": [
    "DATABASES = {\n",
    "    'default': {\n",
    "        'ENGINE':'django.db.backends.postgresql_psycopg2',\n",
    "        'NAME': 'mydatabase',\n",
    "        'USER': 'mydatabaseuser',\n",
    "        'PASSWORD': 'mypassword',\n",
    "        'HOST': '127.0.0.1',\n",
    "        'PORT': '5432',\n",
    "    }\n",
    "}"
   ]
  },
  {
   "cell_type": "code",
   "execution_count": null,
   "metadata": {
    "collapsed": true,
    "slideshow": {
     "slide_type": "subslide"
    }
   },
   "outputs": [],
   "source": [
    "from django.db import models\n",
    "\n",
    "class Person(models.Model):\n",
    "    first_name = models.CharField(max_length=30)\n",
    "    last_name = models.CharField(max_length=30)"
   ]
  },
  {
   "cell_type": "code",
   "execution_count": null,
   "metadata": {
    "collapsed": true,
    "slideshow": {
     "slide_type": "fragment"
    }
   },
   "outputs": [],
   "source": [
    "CREATE TABLE myapp_person (\n",
    "    \"id\" serial NOT NULL PRIMARY KEY,\n",
    "    \"first_name\" varchar(30) NOT NULL,\n",
    "    \"last_name\" varchar(30) NOT NULL\n",
    ");"
   ]
  },
  {
   "cell_type": "code",
   "execution_count": null,
   "metadata": {
    "collapsed": true,
    "slideshow": {
     "slide_type": "fragment"
    }
   },
   "outputs": [],
   "source": [
    "Person.objects.filter(\n",
    "...     first_name='John',\n",
    "...     last_name='Bee')"
   ]
  },
  {
   "cell_type": "markdown",
   "metadata": {
    "slideshow": {
     "slide_type": "subslide"
    }
   },
   "source": [
    "Możemy oczwiście komplikować sobie modele"
   ]
  },
  {
   "cell_type": "code",
   "execution_count": null,
   "metadata": {
    "collapsed": true,
    "slideshow": {
     "slide_type": "fragment"
    }
   },
   "outputs": [],
   "source": [
    "poll = models.ForeignKey(\n",
    "    Poll,\n",
    "    on_delete=models.CASCADE,\n",
    "    verbose_name=\"the related poll\",\n",
    ")\n",
    "sites = models.ManyToManyField(Site, verbose_name=\"list of sites\")\n",
    "place = models.OneToOneField(\n",
    "    Place,\n",
    "    on_delete=models.CASCADE,\n",
    "    verbose_name=\"related place\",\n",
    ")"
   ]
  },
  {
   "cell_type": "markdown",
   "metadata": {
    "slideshow": {
     "slide_type": "fragment"
    }
   },
   "source": [
    "wszystkie typy pól odnajdziemy tutaj [https://docs.djangoproject.com/en/1.11/ref/models/fields/](https://docs.djangoproject.com/en/1.11/ref/models/fields/)"
   ]
  },
  {
   "cell_type": "markdown",
   "metadata": {
    "slideshow": {
     "slide_type": "slide"
    }
   },
   "source": [
    "## Template"
   ]
  },
  {
   "cell_type": "markdown",
   "metadata": {
    "slideshow": {
     "slide_type": "subslide"
    }
   },
   "source": [
    "Dowolny tekst otoczony podwójną parą nawiasów klamrowych (np. `{{ person_name }}`) jest zmienną. Oznacza \"wstaw w tym miejscu wartość zmiennej o podanej nazwie\". \n",
    "\n",
    "Dowolny tekst otoczony nawiasem klamrowym i znakiem procentu (np. `{% if ordered_warranty %}`) jest znacznikiem szablonu - znacznik  informuje po prostu system szablonowy o potrzebie wykonania pewnego działania).\n",
    "\n",
    "Dowolny tekst otoczony nawiasem klamrowym i znakiem hasz (np. `{# komentarz #}`) jest komentarzem - tekst pomiędzy tym tagiem jest ignorowany.\n"
   ]
  },
  {
   "cell_type": "markdown",
   "metadata": {
    "slideshow": {
     "slide_type": "subslide"
    }
   },
   "source": [
    "![alt text](images/Obraz1.png \"Guido van Rossum\")"
   ]
  },
  {
   "cell_type": "markdown",
   "metadata": {},
   "source": [
    "## View"
   ]
  },
  {
   "cell_type": "markdown",
   "metadata": {
    "slideshow": {
     "slide_type": "subslide"
    }
   },
   "source": [
    "Oparte o funkcje"
   ]
  },
  {
   "cell_type": "code",
   "execution_count": null,
   "metadata": {
    "collapsed": true,
    "slideshow": {
     "slide_type": "subslide"
    }
   },
   "outputs": [],
   "source": [
    "from django.http import HttpResponse\n",
    "import datetime\n",
    "\n",
    "def about(request):\n",
    "    now = datetime.datetime.now()\n",
    "    html = \"<html><body>O nas. Teraz jest %s.</body></html>\" % now\n",
    "    return HttpResponse(html)"
   ]
  },
  {
   "cell_type": "markdown",
   "metadata": {
    "slideshow": {
     "slide_type": "subslide"
    }
   },
   "source": [
    "Oparte o funkcje (bardziej zaawansowany przykład)"
   ]
  },
  {
   "cell_type": "code",
   "execution_count": null,
   "metadata": {
    "collapsed": true,
    "slideshow": {
     "slide_type": "fragment"
    }
   },
   "outputs": [],
   "source": [
    "from django.http import HttpResponse\n",
    "from django.template import loader\n",
    "\n",
    "from .models import Question\n",
    "\n",
    "\n",
    "def index(request):\n",
    "    latest_question_list = Question.objects.order_by('-pub_date')[:5]\n",
    "    template = loader.get_template('polls/index.html')\n",
    "    context = {\n",
    "        'latest_question_list': latest_question_list,\n",
    "    }\n",
    "    return HttpResponse(template.render(context, request))"
   ]
  },
  {
   "cell_type": "code",
   "execution_count": null,
   "metadata": {
    "collapsed": true,
    "slideshow": {
     "slide_type": "fragment"
    }
   },
   "outputs": [],
   "source": [
    "from django.conf.urls import url\n",
    "from dfrom some_app.views import import about\n",
    "\n",
    "urlpatterns = [\n",
    "    url(r'^about/$', about),\n",
    "]"
   ]
  },
  {
   "cell_type": "markdown",
   "metadata": {
    "slideshow": {
     "slide_type": "subslide"
    }
   },
   "source": [
    "Oparte o klasy generyczne (bez modyfikacji)"
   ]
  },
  {
   "cell_type": "code",
   "execution_count": null,
   "metadata": {
    "collapsed": true,
    "slideshow": {
     "slide_type": "subslide"
    }
   },
   "outputs": [],
   "source": [
    "from django.conf.urls import url\n",
    "from django.views.generic import TemplateView\n",
    "\n",
    "urlpatterns = [\n",
    "    url(r'^about/$', TemplateView.as_view(template_name=\"about.html\")),\n",
    "]"
   ]
  },
  {
   "cell_type": "markdown",
   "metadata": {
    "slideshow": {
     "slide_type": "subslide"
    }
   },
   "source": [
    "Oparte o klasy generyczne (z modyfikacją)"
   ]
  },
  {
   "cell_type": "code",
   "execution_count": null,
   "metadata": {
    "collapsed": true,
    "slideshow": {
     "slide_type": "subslide"
    }
   },
   "outputs": [],
   "source": [
    "# some_app/views.py\n",
    "from django.views.generic import TemplateView\n",
    "\n",
    "class AboutView(TemplateView):\n",
    "    template_name = \"about.html\""
   ]
  },
  {
   "cell_type": "code",
   "execution_count": null,
   "metadata": {
    "collapsed": true,
    "slideshow": {
     "slide_type": "fragment"
    }
   },
   "outputs": [],
   "source": [
    "# urls.py\n",
    "from django.conf.urls import url\n",
    "from some_app.views import AboutView\n",
    "\n",
    "urlpatterns = [\n",
    "    url(r'^about/$', AboutView.as_view()),\n",
    "]"
   ]
  },
  {
   "cell_type": "markdown",
   "metadata": {
    "slideshow": {
     "slide_type": "slide"
    }
   },
   "source": [
    "## URL"
   ]
  },
  {
   "cell_type": "code",
   "execution_count": null,
   "metadata": {
    "collapsed": true,
    "slideshow": {
     "slide_type": "subslide"
    }
   },
   "outputs": [],
   "source": [
    "# URLconf\n",
    "from django.conf.urls import patterns, url\n",
    "\n",
    "urlpatterns = patterns('',\n",
    "    url(r'^blog/$', 'blog.views.page'),\n",
    "    url(r'^blog/page(?P<num>\\d+)/$', 'blog.views.page'),\n",
    ")\n",
    "\n",
    "# View (in blog/views.py)\n",
    "def page(request, num=\"1\"):\n",
    "    # Output the appropriate page of blog entries, according to num.\n",
    "    ..."
   ]
  },
  {
   "cell_type": "markdown",
   "metadata": {
    "slideshow": {
     "slide_type": "fragment"
    }
   },
   "source": [
    "http://blog.com/blog/1"
   ]
  },
  {
   "cell_type": "markdown",
   "metadata": {
    "slideshow": {
     "slide_type": "slide"
    }
   },
   "source": [
    "## Formularze"
   ]
  },
  {
   "cell_type": "markdown",
   "metadata": {
    "slideshow": {
     "slide_type": "subslide"
    }
   },
   "source": [
    "Możemy to zrobic od zera"
   ]
  },
  {
   "cell_type": "code",
   "execution_count": null,
   "metadata": {
    "collapsed": true,
    "slideshow": {
     "slide_type": "subslide"
    }
   },
   "outputs": [],
   "source": [
    "from django import forms\n",
    "\n",
    "class ContactForm(forms.Form):\n",
    "    subject = forms.CharField(max_length=100)\n",
    "    message = forms.CharField()\n",
    "    sender = forms.EmailField()\n",
    "    cc_myself = forms.BooleanField(required=False)"
   ]
  },
  {
   "cell_type": "code",
   "execution_count": null,
   "metadata": {
    "collapsed": true,
    "slideshow": {
     "slide_type": "subslide"
    }
   },
   "outputs": [],
   "source": [
    "from django.shortcuts import render\n",
    "from django.http import HttpResponseRedirect\n",
    "\n",
    "def contact(request):\n",
    "    if request.method == 'POST': # If the form has been submitted...\n",
    "        # ContactForm was defined in the the previous section\n",
    "        form = ContactForm(request.POST) # A form bound to the POST data\n",
    "        if form.is_valid(): # All validation rules pass\n",
    "            # Process the data in form.cleaned_data\n",
    "            # ...\n",
    "            return HttpResponseRedirect('/thanks/') # Redirect after POST\n",
    "    else:\n",
    "        form = ContactForm() # An unbound form\n",
    "\n",
    "    return render(request, 'contact.html', {\n",
    "        'form': form,\n",
    "    })\n"
   ]
  },
  {
   "cell_type": "markdown",
   "metadata": {
    "slideshow": {
     "slide_type": "subslide"
    }
   },
   "source": [
    "Możemy też skorzystać z gotowca jeśli mamy już 'jakiś' model"
   ]
  },
  {
   "cell_type": "code",
   "execution_count": null,
   "metadata": {
    "collapsed": true,
    "slideshow": {
     "slide_type": "fragment"
    }
   },
   "outputs": [],
   "source": [
    "from django.forms import ModelForm\n",
    "\n",
    "class AuthorForm(ModelForm):\n",
    "    class Meta:\n",
    "        model = Author\n",
    "        fields = '__all__'"
   ]
  },
  {
   "cell_type": "markdown",
   "metadata": {
    "slideshow": {
     "slide_type": "slide"
    }
   },
   "source": [
    "Źródła:\n",
    "- [slash4 trainings: Learn Django in 4 hours](http://slash4.net/learn-django/) - materiał obowiązkowy na zajęcia\n",
    "- [Strona projektu](https://www.djangoproject.com)\n",
    "- [Django Packages](https://djangopackages.org)\n",
    "- https://github.com/kmisztal/django_simple_project - mój projekt na githubie\n",
    "- http://slides.com/dominikwronski/wit-ep2-django-introduction/fullscreen\n"
   ]
  },
  {
   "cell_type": "markdown",
   "metadata": {
    "slideshow": {
     "slide_type": "slide"
    }
   },
   "source": []
  },
  {
   "cell_type": "code",
   "execution_count": null,
   "metadata": {},
   "outputs": [],
   "source": []
  }
 ],
 "metadata": {
  "celltoolbar": "Slideshow",
  "kernelspec": {
   "display_name": "Python 3",
   "language": "python",
   "name": "python3"
  },
  "language_info": {
   "codemirror_mode": {
    "name": "ipython",
    "version": 3
   },
   "file_extension": ".py",
   "mimetype": "text/x-python",
   "name": "python",
   "nbconvert_exporter": "python",
   "pygments_lexer": "ipython3",
   "version": "3.6.4"
  }
 },
 "nbformat": 4,
 "nbformat_minor": 2
}
